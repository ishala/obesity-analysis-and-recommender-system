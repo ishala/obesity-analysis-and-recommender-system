{
 "cells": [
  {
   "cell_type": "markdown",
   "metadata": {},
   "source": [
    "# Import Library"
   ]
  },
  {
   "cell_type": "code",
   "execution_count": 1,
   "metadata": {},
   "outputs": [
    {
     "name": "stdout",
     "output_type": "stream",
     "text": [
      "WARNING:tensorflow:From c:\\Users\\legion\\miniconda3\\Lib\\site-packages\\keras\\src\\losses.py:2976: The name tf.losses.sparse_softmax_cross_entropy is deprecated. Please use tf.compat.v1.losses.sparse_softmax_cross_entropy instead.\n",
      "\n"
     ]
    }
   ],
   "source": [
    "# Olah Data\n",
    "import pandas as pd\n",
    "import numpy as np\n",
    "import matplotlib.pyplot as plt\n",
    "import seaborn as sns\n",
    "\n",
    "# Pengembangan Model\n",
    "from sklearn.feature_extraction.text import TfidfVectorizer\n",
    "from sklearn.metrics.pairwise import cosine_similarity\n",
    "import tensorflow as tf\n",
    "from tensorflow.keras import layers\n",
    "from tensorflow.keras.models import Model\n",
    "from tensorflow.keras.callbacks import EarlyStopping"
   ]
  },
  {
   "cell_type": "markdown",
   "metadata": {},
   "source": [
    "# Data Loading"
   ]
  },
  {
   "cell_type": "code",
   "execution_count": 2,
   "metadata": {},
   "outputs": [],
   "source": [
    "# Path \n",
    "allDietsDfPath = 'data/All_Diets.csv'\n",
    "allUsersDfPath = 'data/ObesityDataSet_cleaned_and_data_sinthetic.csv'\n",
    "\n",
    "# Dataset\n",
    "allDietsDf = pd.read_csv(allDietsDfPath)\n",
    "allUsersDf = pd.read_csv(allUsersDfPath)\n"
   ]
  },
  {
   "cell_type": "code",
   "execution_count": 3,
   "metadata": {},
   "outputs": [
    {
     "data": {
      "text/html": [
       "<div>\n",
       "<style scoped>\n",
       "    .dataframe tbody tr th:only-of-type {\n",
       "        vertical-align: middle;\n",
       "    }\n",
       "\n",
       "    .dataframe tbody tr th {\n",
       "        vertical-align: top;\n",
       "    }\n",
       "\n",
       "    .dataframe thead th {\n",
       "        text-align: right;\n",
       "    }\n",
       "</style>\n",
       "<table border=\"1\" class=\"dataframe\">\n",
       "  <thead>\n",
       "    <tr style=\"text-align: right;\">\n",
       "      <th></th>\n",
       "      <th>Diet_type</th>\n",
       "      <th>Recipe_name</th>\n",
       "      <th>Cuisine_type</th>\n",
       "      <th>Protein(g)</th>\n",
       "      <th>Carbs(g)</th>\n",
       "      <th>Fat(g)</th>\n",
       "      <th>Extraction_day</th>\n",
       "      <th>Extraction_time</th>\n",
       "    </tr>\n",
       "  </thead>\n",
       "  <tbody>\n",
       "    <tr>\n",
       "      <th>3900</th>\n",
       "      <td>keto</td>\n",
       "      <td>Tuna Egg Salad with Sour Cream (Keto)</td>\n",
       "      <td>american</td>\n",
       "      <td>98.33</td>\n",
       "      <td>6.68</td>\n",
       "      <td>74.47</td>\n",
       "      <td>2022-10-16</td>\n",
       "      <td>18:06:27</td>\n",
       "    </tr>\n",
       "    <tr>\n",
       "      <th>4911</th>\n",
       "      <td>mediterranean</td>\n",
       "      <td>Roasted Fish Catalan</td>\n",
       "      <td>mediterranean</td>\n",
       "      <td>96.52</td>\n",
       "      <td>32.82</td>\n",
       "      <td>20.63</td>\n",
       "      <td>2022-10-16</td>\n",
       "      <td>16:46:44</td>\n",
       "    </tr>\n",
       "    <tr>\n",
       "      <th>3197</th>\n",
       "      <td>keto</td>\n",
       "      <td>Keto Pancakes: Cinnamon Delight</td>\n",
       "      <td>american</td>\n",
       "      <td>28.94</td>\n",
       "      <td>36.86</td>\n",
       "      <td>157.86</td>\n",
       "      <td>2022-10-16</td>\n",
       "      <td>18:01:17</td>\n",
       "    </tr>\n",
       "    <tr>\n",
       "      <th>4148</th>\n",
       "      <td>keto</td>\n",
       "      <td>Easy Keto Low Carb Meatballs Recipe - Italian ...</td>\n",
       "      <td>italian</td>\n",
       "      <td>104.51</td>\n",
       "      <td>28.37</td>\n",
       "      <td>114.97</td>\n",
       "      <td>2022-10-16</td>\n",
       "      <td>18:08:17</td>\n",
       "    </tr>\n",
       "    <tr>\n",
       "      <th>4613</th>\n",
       "      <td>mediterranean</td>\n",
       "      <td>Mediterranean Tuna Pasta recipes</td>\n",
       "      <td>mediterranean</td>\n",
       "      <td>179.69</td>\n",
       "      <td>280.95</td>\n",
       "      <td>123.53</td>\n",
       "      <td>2022-10-16</td>\n",
       "      <td>16:44:56</td>\n",
       "    </tr>\n",
       "    <tr>\n",
       "      <th>5091</th>\n",
       "      <td>mediterranean</td>\n",
       "      <td>Autumn Olive Medley</td>\n",
       "      <td>french</td>\n",
       "      <td>363.39</td>\n",
       "      <td>112.36</td>\n",
       "      <td>306.17</td>\n",
       "      <td>2022-10-16</td>\n",
       "      <td>16:47:44</td>\n",
       "    </tr>\n",
       "    <tr>\n",
       "      <th>4657</th>\n",
       "      <td>mediterranean</td>\n",
       "      <td>Mediterranean Beef and Bean Stew</td>\n",
       "      <td>mediterranean</td>\n",
       "      <td>230.79</td>\n",
       "      <td>131.98</td>\n",
       "      <td>104.49</td>\n",
       "      <td>2022-10-16</td>\n",
       "      <td>16:45:10</td>\n",
       "    </tr>\n",
       "    <tr>\n",
       "      <th>7676</th>\n",
       "      <td>dash</td>\n",
       "      <td>Chicken with Green Olives</td>\n",
       "      <td>mediterranean</td>\n",
       "      <td>183.41</td>\n",
       "      <td>432.21</td>\n",
       "      <td>140.98</td>\n",
       "      <td>2022-10-16</td>\n",
       "      <td>20:39:57</td>\n",
       "    </tr>\n",
       "    <tr>\n",
       "      <th>4071</th>\n",
       "      <td>keto</td>\n",
       "      <td>Keto Low-Carb Creamy Garlic Shrimp Alfredo</td>\n",
       "      <td>italian</td>\n",
       "      <td>114.37</td>\n",
       "      <td>32.89</td>\n",
       "      <td>177.04</td>\n",
       "      <td>2022-10-16</td>\n",
       "      <td>18:07:44</td>\n",
       "    </tr>\n",
       "    <tr>\n",
       "      <th>2497</th>\n",
       "      <td>vegan</td>\n",
       "      <td>Easy Middle Eastern Fried Tomatoes: Jordanian ...</td>\n",
       "      <td>middle eastern</td>\n",
       "      <td>6.26</td>\n",
       "      <td>33.50</td>\n",
       "      <td>55.18</td>\n",
       "      <td>2022-10-16</td>\n",
       "      <td>20:11:38</td>\n",
       "    </tr>\n",
       "  </tbody>\n",
       "</table>\n",
       "</div>"
      ],
      "text/plain": [
       "          Diet_type                                        Recipe_name  \\\n",
       "3900           keto              Tuna Egg Salad with Sour Cream (Keto)   \n",
       "4911  mediterranean                               Roasted Fish Catalan   \n",
       "3197           keto                    Keto Pancakes: Cinnamon Delight   \n",
       "4148           keto  Easy Keto Low Carb Meatballs Recipe - Italian ...   \n",
       "4613  mediterranean                   Mediterranean Tuna Pasta recipes   \n",
       "5091  mediterranean                                Autumn Olive Medley   \n",
       "4657  mediterranean                   Mediterranean Beef and Bean Stew   \n",
       "7676           dash                          Chicken with Green Olives   \n",
       "4071           keto         Keto Low-Carb Creamy Garlic Shrimp Alfredo   \n",
       "2497          vegan  Easy Middle Eastern Fried Tomatoes: Jordanian ...   \n",
       "\n",
       "        Cuisine_type  Protein(g)  Carbs(g)  Fat(g) Extraction_day  \\\n",
       "3900        american       98.33      6.68   74.47     2022-10-16   \n",
       "4911   mediterranean       96.52     32.82   20.63     2022-10-16   \n",
       "3197        american       28.94     36.86  157.86     2022-10-16   \n",
       "4148         italian      104.51     28.37  114.97     2022-10-16   \n",
       "4613   mediterranean      179.69    280.95  123.53     2022-10-16   \n",
       "5091          french      363.39    112.36  306.17     2022-10-16   \n",
       "4657   mediterranean      230.79    131.98  104.49     2022-10-16   \n",
       "7676   mediterranean      183.41    432.21  140.98     2022-10-16   \n",
       "4071         italian      114.37     32.89  177.04     2022-10-16   \n",
       "2497  middle eastern        6.26     33.50   55.18     2022-10-16   \n",
       "\n",
       "     Extraction_time  \n",
       "3900        18:06:27  \n",
       "4911        16:46:44  \n",
       "3197        18:01:17  \n",
       "4148        18:08:17  \n",
       "4613        16:44:56  \n",
       "5091        16:47:44  \n",
       "4657        16:45:10  \n",
       "7676        20:39:57  \n",
       "4071        18:07:44  \n",
       "2497        20:11:38  "
      ]
     },
     "execution_count": 3,
     "metadata": {},
     "output_type": "execute_result"
    }
   ],
   "source": [
    "allDietsDf.sample(10)"
   ]
  },
  {
   "cell_type": "code",
   "execution_count": 4,
   "metadata": {},
   "outputs": [
    {
     "data": {
      "text/html": [
       "<div>\n",
       "<style scoped>\n",
       "    .dataframe tbody tr th:only-of-type {\n",
       "        vertical-align: middle;\n",
       "    }\n",
       "\n",
       "    .dataframe tbody tr th {\n",
       "        vertical-align: top;\n",
       "    }\n",
       "\n",
       "    .dataframe thead th {\n",
       "        text-align: right;\n",
       "    }\n",
       "</style>\n",
       "<table border=\"1\" class=\"dataframe\">\n",
       "  <thead>\n",
       "    <tr style=\"text-align: right;\">\n",
       "      <th></th>\n",
       "      <th>id</th>\n",
       "      <th>Gender</th>\n",
       "      <th>Age</th>\n",
       "      <th>Height</th>\n",
       "      <th>Weight</th>\n",
       "      <th>family_history_with_overweight</th>\n",
       "      <th>FAVC</th>\n",
       "      <th>FCVC</th>\n",
       "      <th>NCP</th>\n",
       "      <th>CAEC</th>\n",
       "      <th>SMOKE</th>\n",
       "      <th>CH2O</th>\n",
       "      <th>SCC</th>\n",
       "      <th>FAF</th>\n",
       "      <th>TUE</th>\n",
       "      <th>CALC</th>\n",
       "      <th>MTRANS</th>\n",
       "      <th>NObeyesdad</th>\n",
       "      <th>BMI</th>\n",
       "    </tr>\n",
       "  </thead>\n",
       "  <tbody>\n",
       "    <tr>\n",
       "      <th>0</th>\n",
       "      <td>1</td>\n",
       "      <td>female</td>\n",
       "      <td>21</td>\n",
       "      <td>1.62</td>\n",
       "      <td>64</td>\n",
       "      <td>yes</td>\n",
       "      <td>no</td>\n",
       "      <td>sometimes</td>\n",
       "      <td>3</td>\n",
       "      <td>sometimes</td>\n",
       "      <td>no</td>\n",
       "      <td>between 1 and 2 l</td>\n",
       "      <td>no</td>\n",
       "      <td>0</td>\n",
       "      <td>3 to 5</td>\n",
       "      <td>no</td>\n",
       "      <td>public_transportation</td>\n",
       "      <td>normal_weight</td>\n",
       "      <td>24.386526</td>\n",
       "    </tr>\n",
       "    <tr>\n",
       "      <th>1</th>\n",
       "      <td>2</td>\n",
       "      <td>female</td>\n",
       "      <td>21</td>\n",
       "      <td>1.52</td>\n",
       "      <td>56</td>\n",
       "      <td>yes</td>\n",
       "      <td>no</td>\n",
       "      <td>always</td>\n",
       "      <td>3</td>\n",
       "      <td>sometimes</td>\n",
       "      <td>yes</td>\n",
       "      <td>more than 2 l</td>\n",
       "      <td>yes</td>\n",
       "      <td>4 to 5</td>\n",
       "      <td>0 to 2</td>\n",
       "      <td>sometimes</td>\n",
       "      <td>public_transportation</td>\n",
       "      <td>normal_weight</td>\n",
       "      <td>24.238227</td>\n",
       "    </tr>\n",
       "    <tr>\n",
       "      <th>2</th>\n",
       "      <td>3</td>\n",
       "      <td>male</td>\n",
       "      <td>23</td>\n",
       "      <td>1.80</td>\n",
       "      <td>77</td>\n",
       "      <td>yes</td>\n",
       "      <td>no</td>\n",
       "      <td>sometimes</td>\n",
       "      <td>3</td>\n",
       "      <td>sometimes</td>\n",
       "      <td>no</td>\n",
       "      <td>between 1 and 2 l</td>\n",
       "      <td>no</td>\n",
       "      <td>2 to 4</td>\n",
       "      <td>3 to 5</td>\n",
       "      <td>frequently</td>\n",
       "      <td>public_transportation</td>\n",
       "      <td>normal_weight</td>\n",
       "      <td>23.765432</td>\n",
       "    </tr>\n",
       "    <tr>\n",
       "      <th>3</th>\n",
       "      <td>4</td>\n",
       "      <td>male</td>\n",
       "      <td>27</td>\n",
       "      <td>1.80</td>\n",
       "      <td>87</td>\n",
       "      <td>no</td>\n",
       "      <td>no</td>\n",
       "      <td>always</td>\n",
       "      <td>3</td>\n",
       "      <td>sometimes</td>\n",
       "      <td>no</td>\n",
       "      <td>between 1 and 2 l</td>\n",
       "      <td>no</td>\n",
       "      <td>2 to 4</td>\n",
       "      <td>0 to 2</td>\n",
       "      <td>frequently</td>\n",
       "      <td>walking</td>\n",
       "      <td>overweight_level_i</td>\n",
       "      <td>26.851852</td>\n",
       "    </tr>\n",
       "    <tr>\n",
       "      <th>4</th>\n",
       "      <td>5</td>\n",
       "      <td>male</td>\n",
       "      <td>22</td>\n",
       "      <td>1.78</td>\n",
       "      <td>90</td>\n",
       "      <td>no</td>\n",
       "      <td>no</td>\n",
       "      <td>sometimes</td>\n",
       "      <td>1</td>\n",
       "      <td>sometimes</td>\n",
       "      <td>no</td>\n",
       "      <td>between 1 and 2 l</td>\n",
       "      <td>no</td>\n",
       "      <td>0</td>\n",
       "      <td>0 to 2</td>\n",
       "      <td>sometimes</td>\n",
       "      <td>public_transportation</td>\n",
       "      <td>overweight_level_ii</td>\n",
       "      <td>28.342381</td>\n",
       "    </tr>\n",
       "  </tbody>\n",
       "</table>\n",
       "</div>"
      ],
      "text/plain": [
       "  id  Gender  Age  Height  Weight family_history_with_overweight FAVC  \\\n",
       "0  1  female   21    1.62      64                            yes   no   \n",
       "1  2  female   21    1.52      56                            yes   no   \n",
       "2  3    male   23    1.80      77                            yes   no   \n",
       "3  4    male   27    1.80      87                             no   no   \n",
       "4  5    male   22    1.78      90                             no   no   \n",
       "\n",
       "        FCVC  NCP       CAEC SMOKE               CH2O  SCC     FAF     TUE  \\\n",
       "0  sometimes    3  sometimes    no  between 1 and 2 l   no       0  3 to 5   \n",
       "1     always    3  sometimes   yes      more than 2 l  yes  4 to 5  0 to 2   \n",
       "2  sometimes    3  sometimes    no  between 1 and 2 l   no  2 to 4  3 to 5   \n",
       "3     always    3  sometimes    no  between 1 and 2 l   no  2 to 4  0 to 2   \n",
       "4  sometimes    1  sometimes    no  between 1 and 2 l   no       0  0 to 2   \n",
       "\n",
       "         CALC                 MTRANS           NObeyesdad        BMI  \n",
       "0          no  public_transportation        normal_weight  24.386526  \n",
       "1   sometimes  public_transportation        normal_weight  24.238227  \n",
       "2  frequently  public_transportation        normal_weight  23.765432  \n",
       "3  frequently                walking   overweight_level_i  26.851852  \n",
       "4   sometimes  public_transportation  overweight_level_ii  28.342381  "
      ]
     },
     "execution_count": 4,
     "metadata": {},
     "output_type": "execute_result"
    }
   ],
   "source": [
    "allUsersDf.head()"
   ]
  },
  {
   "cell_type": "markdown",
   "metadata": {},
   "source": [
    "# Data Assessing"
   ]
  },
  {
   "cell_type": "code",
   "execution_count": 5,
   "metadata": {},
   "outputs": [
    {
     "data": {
      "text/plain": [
       "(7806, 8)"
      ]
     },
     "execution_count": 5,
     "metadata": {},
     "output_type": "execute_result"
    }
   ],
   "source": [
    "# Cek shape dataset tipe diet\n",
    "allDietsDf.shape"
   ]
  },
  {
   "cell_type": "code",
   "execution_count": 6,
   "metadata": {},
   "outputs": [
    {
     "data": {
      "text/plain": [
       "(2111, 19)"
      ]
     },
     "execution_count": 6,
     "metadata": {},
     "output_type": "execute_result"
    }
   ],
   "source": [
    "# Cek shape dataset users\n",
    "allUsersDf.shape"
   ]
  },
  {
   "cell_type": "markdown",
   "metadata": {},
   "source": [
    "## Informasi Umum"
   ]
  },
  {
   "cell_type": "markdown",
   "metadata": {},
   "source": [
    "### Dataset Diet"
   ]
  },
  {
   "cell_type": "code",
   "execution_count": 7,
   "metadata": {},
   "outputs": [
    {
     "name": "stdout",
     "output_type": "stream",
     "text": [
      "<class 'pandas.core.frame.DataFrame'>\n",
      "RangeIndex: 7806 entries, 0 to 7805\n",
      "Data columns (total 8 columns):\n",
      " #   Column           Non-Null Count  Dtype  \n",
      "---  ------           --------------  -----  \n",
      " 0   Diet_type        7806 non-null   object \n",
      " 1   Recipe_name      7806 non-null   object \n",
      " 2   Cuisine_type     7806 non-null   object \n",
      " 3   Protein(g)       7806 non-null   float64\n",
      " 4   Carbs(g)         7806 non-null   float64\n",
      " 5   Fat(g)           7806 non-null   float64\n",
      " 6   Extraction_day   7806 non-null   object \n",
      " 7   Extraction_time  7806 non-null   object \n",
      "dtypes: float64(3), object(5)\n",
      "memory usage: 488.0+ KB\n"
     ]
    }
   ],
   "source": [
    "allDietsDf.info()"
   ]
  },
  {
   "cell_type": "markdown",
   "metadata": {},
   "source": [
    "### Dataset *Users*"
   ]
  },
  {
   "cell_type": "code",
   "execution_count": 8,
   "metadata": {},
   "outputs": [
    {
     "name": "stdout",
     "output_type": "stream",
     "text": [
      "<class 'pandas.core.frame.DataFrame'>\n",
      "RangeIndex: 2111 entries, 0 to 2110\n",
      "Data columns (total 19 columns):\n",
      " #   Column                          Non-Null Count  Dtype  \n",
      "---  ------                          --------------  -----  \n",
      " 0   id                              2111 non-null   object \n",
      " 1   Gender                          2111 non-null   object \n",
      " 2   Age                             2111 non-null   int64  \n",
      " 3   Height                          2111 non-null   float64\n",
      " 4   Weight                          2111 non-null   int64  \n",
      " 5   family_history_with_overweight  2111 non-null   object \n",
      " 6   FAVC                            2111 non-null   object \n",
      " 7   FCVC                            2111 non-null   object \n",
      " 8   NCP                             2111 non-null   int64  \n",
      " 9   CAEC                            2111 non-null   object \n",
      " 10  SMOKE                           2111 non-null   object \n",
      " 11  CH2O                            2111 non-null   object \n",
      " 12  SCC                             2111 non-null   object \n",
      " 13  FAF                             2111 non-null   object \n",
      " 14  TUE                             2111 non-null   object \n",
      " 15  CALC                            2111 non-null   object \n",
      " 16  MTRANS                          2111 non-null   object \n",
      " 17  NObeyesdad                      2111 non-null   object \n",
      " 18  BMI                             2111 non-null   float64\n",
      "dtypes: float64(2), int64(3), object(14)\n",
      "memory usage: 313.5+ KB\n"
     ]
    }
   ],
   "source": [
    "allUsersDf.info()"
   ]
  },
  {
   "cell_type": "markdown",
   "metadata": {},
   "source": [
    "## Cek Data Null"
   ]
  },
  {
   "cell_type": "markdown",
   "metadata": {},
   "source": [
    "### Dataset Diet"
   ]
  },
  {
   "cell_type": "code",
   "execution_count": 9,
   "metadata": {},
   "outputs": [
    {
     "data": {
      "text/plain": [
       "Diet_type          0\n",
       "Recipe_name        0\n",
       "Cuisine_type       0\n",
       "Protein(g)         0\n",
       "Carbs(g)           0\n",
       "Fat(g)             0\n",
       "Extraction_day     0\n",
       "Extraction_time    0\n",
       "dtype: int64"
      ]
     },
     "execution_count": 9,
     "metadata": {},
     "output_type": "execute_result"
    }
   ],
   "source": [
    "allDietsDf.isna().sum()"
   ]
  },
  {
   "cell_type": "markdown",
   "metadata": {},
   "source": [
    "### Dataset *Users*"
   ]
  },
  {
   "cell_type": "code",
   "execution_count": 10,
   "metadata": {},
   "outputs": [
    {
     "data": {
      "text/plain": [
       "id                                0\n",
       "Gender                            0\n",
       "Age                               0\n",
       "Height                            0\n",
       "Weight                            0\n",
       "family_history_with_overweight    0\n",
       "FAVC                              0\n",
       "FCVC                              0\n",
       "NCP                               0\n",
       "CAEC                              0\n",
       "SMOKE                             0\n",
       "CH2O                              0\n",
       "SCC                               0\n",
       "FAF                               0\n",
       "TUE                               0\n",
       "CALC                              0\n",
       "MTRANS                            0\n",
       "NObeyesdad                        0\n",
       "BMI                               0\n",
       "dtype: int64"
      ]
     },
     "execution_count": 10,
     "metadata": {},
     "output_type": "execute_result"
    }
   ],
   "source": [
    "allUsersDf.isna().sum()"
   ]
  },
  {
   "cell_type": "markdown",
   "metadata": {},
   "source": [
    "## Cek Data Duplikat"
   ]
  },
  {
   "cell_type": "markdown",
   "metadata": {},
   "source": [
    "### Dataset Diet"
   ]
  },
  {
   "cell_type": "code",
   "execution_count": 11,
   "metadata": {},
   "outputs": [
    {
     "data": {
      "text/plain": [
       "5"
      ]
     },
     "execution_count": 11,
     "metadata": {},
     "output_type": "execute_result"
    }
   ],
   "source": [
    "allDietsDf.duplicated().sum()"
   ]
  },
  {
   "cell_type": "markdown",
   "metadata": {},
   "source": [
    "### Dataset *Users*"
   ]
  },
  {
   "cell_type": "code",
   "execution_count": 12,
   "metadata": {},
   "outputs": [
    {
     "data": {
      "text/plain": [
       "0"
      ]
     },
     "execution_count": 12,
     "metadata": {},
     "output_type": "execute_result"
    }
   ],
   "source": [
    "allUsersDf.duplicated().sum()"
   ]
  },
  {
   "cell_type": "markdown",
   "metadata": {},
   "source": [
    "## Nilai Statistik Dataset"
   ]
  },
  {
   "cell_type": "markdown",
   "metadata": {},
   "source": [
    "### Dataset Diet"
   ]
  },
  {
   "cell_type": "code",
   "execution_count": 13,
   "metadata": {},
   "outputs": [
    {
     "data": {
      "text/html": [
       "<div>\n",
       "<style scoped>\n",
       "    .dataframe tbody tr th:only-of-type {\n",
       "        vertical-align: middle;\n",
       "    }\n",
       "\n",
       "    .dataframe tbody tr th {\n",
       "        vertical-align: top;\n",
       "    }\n",
       "\n",
       "    .dataframe thead th {\n",
       "        text-align: right;\n",
       "    }\n",
       "</style>\n",
       "<table border=\"1\" class=\"dataframe\">\n",
       "  <thead>\n",
       "    <tr style=\"text-align: right;\">\n",
       "      <th></th>\n",
       "      <th>Protein(g)</th>\n",
       "      <th>Carbs(g)</th>\n",
       "      <th>Fat(g)</th>\n",
       "    </tr>\n",
       "  </thead>\n",
       "  <tbody>\n",
       "    <tr>\n",
       "      <th>count</th>\n",
       "      <td>7806.000000</td>\n",
       "      <td>7806.000000</td>\n",
       "      <td>7806.000000</td>\n",
       "    </tr>\n",
       "    <tr>\n",
       "      <th>mean</th>\n",
       "      <td>83.231498</td>\n",
       "      <td>152.123189</td>\n",
       "      <td>117.328542</td>\n",
       "    </tr>\n",
       "    <tr>\n",
       "      <th>std</th>\n",
       "      <td>89.797282</td>\n",
       "      <td>185.907322</td>\n",
       "      <td>122.098117</td>\n",
       "    </tr>\n",
       "    <tr>\n",
       "      <th>min</th>\n",
       "      <td>0.000000</td>\n",
       "      <td>0.060000</td>\n",
       "      <td>0.000000</td>\n",
       "    </tr>\n",
       "    <tr>\n",
       "      <th>25%</th>\n",
       "      <td>24.415000</td>\n",
       "      <td>36.162500</td>\n",
       "      <td>41.067500</td>\n",
       "    </tr>\n",
       "    <tr>\n",
       "      <th>50%</th>\n",
       "      <td>56.280000</td>\n",
       "      <td>93.415000</td>\n",
       "      <td>84.865000</td>\n",
       "    </tr>\n",
       "    <tr>\n",
       "      <th>75%</th>\n",
       "      <td>112.357500</td>\n",
       "      <td>205.915000</td>\n",
       "      <td>158.290000</td>\n",
       "    </tr>\n",
       "    <tr>\n",
       "      <th>max</th>\n",
       "      <td>1273.610000</td>\n",
       "      <td>3405.550000</td>\n",
       "      <td>1930.240000</td>\n",
       "    </tr>\n",
       "  </tbody>\n",
       "</table>\n",
       "</div>"
      ],
      "text/plain": [
       "        Protein(g)     Carbs(g)       Fat(g)\n",
       "count  7806.000000  7806.000000  7806.000000\n",
       "mean     83.231498   152.123189   117.328542\n",
       "std      89.797282   185.907322   122.098117\n",
       "min       0.000000     0.060000     0.000000\n",
       "25%      24.415000    36.162500    41.067500\n",
       "50%      56.280000    93.415000    84.865000\n",
       "75%     112.357500   205.915000   158.290000\n",
       "max    1273.610000  3405.550000  1930.240000"
      ]
     },
     "execution_count": 13,
     "metadata": {},
     "output_type": "execute_result"
    }
   ],
   "source": [
    "allDietsDf.describe()"
   ]
  },
  {
   "cell_type": "markdown",
   "metadata": {},
   "source": [
    "### Dataset *Users*"
   ]
  },
  {
   "cell_type": "code",
   "execution_count": 14,
   "metadata": {},
   "outputs": [
    {
     "data": {
      "text/html": [
       "<div>\n",
       "<style scoped>\n",
       "    .dataframe tbody tr th:only-of-type {\n",
       "        vertical-align: middle;\n",
       "    }\n",
       "\n",
       "    .dataframe tbody tr th {\n",
       "        vertical-align: top;\n",
       "    }\n",
       "\n",
       "    .dataframe thead th {\n",
       "        text-align: right;\n",
       "    }\n",
       "</style>\n",
       "<table border=\"1\" class=\"dataframe\">\n",
       "  <thead>\n",
       "    <tr style=\"text-align: right;\">\n",
       "      <th></th>\n",
       "      <th>Age</th>\n",
       "      <th>Height</th>\n",
       "      <th>Weight</th>\n",
       "      <th>NCP</th>\n",
       "      <th>BMI</th>\n",
       "    </tr>\n",
       "  </thead>\n",
       "  <tbody>\n",
       "    <tr>\n",
       "      <th>count</th>\n",
       "      <td>2111.000000</td>\n",
       "      <td>2111.000000</td>\n",
       "      <td>2111.000000</td>\n",
       "      <td>2111.000000</td>\n",
       "      <td>2111.000000</td>\n",
       "    </tr>\n",
       "    <tr>\n",
       "      <th>mean</th>\n",
       "      <td>24.315964</td>\n",
       "      <td>1.701677</td>\n",
       "      <td>86.588820</td>\n",
       "      <td>2.687826</td>\n",
       "      <td>29.700159</td>\n",
       "    </tr>\n",
       "    <tr>\n",
       "      <th>std</th>\n",
       "      <td>6.357078</td>\n",
       "      <td>0.093305</td>\n",
       "      <td>26.188572</td>\n",
       "      <td>0.809680</td>\n",
       "      <td>8.011337</td>\n",
       "    </tr>\n",
       "    <tr>\n",
       "      <th>min</th>\n",
       "      <td>14.000000</td>\n",
       "      <td>1.450000</td>\n",
       "      <td>39.000000</td>\n",
       "      <td>1.000000</td>\n",
       "      <td>12.998685</td>\n",
       "    </tr>\n",
       "    <tr>\n",
       "      <th>25%</th>\n",
       "      <td>20.000000</td>\n",
       "      <td>1.630000</td>\n",
       "      <td>65.500000</td>\n",
       "      <td>3.000000</td>\n",
       "      <td>24.325802</td>\n",
       "    </tr>\n",
       "    <tr>\n",
       "      <th>50%</th>\n",
       "      <td>23.000000</td>\n",
       "      <td>1.700499</td>\n",
       "      <td>83.000000</td>\n",
       "      <td>3.000000</td>\n",
       "      <td>28.719089</td>\n",
       "    </tr>\n",
       "    <tr>\n",
       "      <th>75%</th>\n",
       "      <td>26.000000</td>\n",
       "      <td>1.768464</td>\n",
       "      <td>107.000000</td>\n",
       "      <td>3.000000</td>\n",
       "      <td>36.016501</td>\n",
       "    </tr>\n",
       "    <tr>\n",
       "      <th>max</th>\n",
       "      <td>61.000000</td>\n",
       "      <td>1.980000</td>\n",
       "      <td>173.000000</td>\n",
       "      <td>4.000000</td>\n",
       "      <td>50.811753</td>\n",
       "    </tr>\n",
       "  </tbody>\n",
       "</table>\n",
       "</div>"
      ],
      "text/plain": [
       "               Age       Height       Weight          NCP          BMI\n",
       "count  2111.000000  2111.000000  2111.000000  2111.000000  2111.000000\n",
       "mean     24.315964     1.701677    86.588820     2.687826    29.700159\n",
       "std       6.357078     0.093305    26.188572     0.809680     8.011337\n",
       "min      14.000000     1.450000    39.000000     1.000000    12.998685\n",
       "25%      20.000000     1.630000    65.500000     3.000000    24.325802\n",
       "50%      23.000000     1.700499    83.000000     3.000000    28.719089\n",
       "75%      26.000000     1.768464   107.000000     3.000000    36.016501\n",
       "max      61.000000     1.980000   173.000000     4.000000    50.811753"
      ]
     },
     "execution_count": 14,
     "metadata": {},
     "output_type": "execute_result"
    }
   ],
   "source": [
    "allUsersDf.describe()"
   ]
  },
  {
   "cell_type": "markdown",
   "metadata": {},
   "source": [
    "Dari hasil analisa pada tahap **Data Assessing** kesimpulannya adalah:\n",
    "1. Dataset Diet\n",
    "   - Tidak terdapat kesalahan tipe data kolom\n",
    "   - Tidak terdapat nilai *null*\n",
    "   - Terdapat **5** data duplikat\n",
    "\n",
    "Catatan:\n",
    "Terdapat nilai 0 pada kolom **Protein(g)**, dan **Fat(g)** dari hasil eksekusi perintah *describe* yang perlu ditinjau ulang pada tahap **EDA**.\n",
    " \n",
    "2. Dataset *Users*\n",
    "   - Terdapat kesalahan tipe data pada kolom **Weight**, seharusnya *float* bukan *integer*\n",
    "   - Tidak terdapat nilai *null*\n",
    "   - Tidak terdapat data duplikat\n"
   ]
  },
  {
   "cell_type": "markdown",
   "metadata": {},
   "source": [
    "# Data Cleaning"
   ]
  },
  {
   "cell_type": "markdown",
   "metadata": {},
   "source": [
    "## Hapus Data Duplikat Dataset Diet\n",
    "\n",
    "Penghapusan data duplikat pada dataset diet dilakukan secara langsung karena jumlahnya yang tergolong kecil dibanding total banyak data yang ada."
   ]
  },
  {
   "cell_type": "code",
   "execution_count": 15,
   "metadata": {},
   "outputs": [
    {
     "data": {
      "text/plain": [
       "(7806, 8)"
      ]
     },
     "execution_count": 15,
     "metadata": {},
     "output_type": "execute_result"
    }
   ],
   "source": [
    "allDietsDf.shape"
   ]
  },
  {
   "cell_type": "code",
   "execution_count": 16,
   "metadata": {},
   "outputs": [],
   "source": [
    "allDietsDf.drop_duplicates(inplace=True)"
   ]
  },
  {
   "cell_type": "code",
   "execution_count": 17,
   "metadata": {},
   "outputs": [
    {
     "data": {
      "text/plain": [
       "(7801, 8)"
      ]
     },
     "execution_count": 17,
     "metadata": {},
     "output_type": "execute_result"
    }
   ],
   "source": [
    "allDietsDf.shape"
   ]
  },
  {
   "cell_type": "markdown",
   "metadata": {},
   "source": [
    "Saat ini pada dataset diet sudah tidak ada data duplikat"
   ]
  },
  {
   "cell_type": "markdown",
   "metadata": {},
   "source": [
    "## Ubah Isi Nilai Kolom Resep Masakan Menjadi Kapital di Awal"
   ]
  },
  {
   "cell_type": "code",
   "execution_count": 18,
   "metadata": {},
   "outputs": [],
   "source": [
    "allDietsDf['Recipe_name'] = allDietsDf['Recipe_name'].apply(lambda x: x.title())"
   ]
  },
  {
   "cell_type": "markdown",
   "metadata": {},
   "source": [
    "## Ubah Tipe Data Kolom Weight Dataset *Users*"
   ]
  },
  {
   "cell_type": "code",
   "execution_count": 19,
   "metadata": {},
   "outputs": [],
   "source": [
    "allUsersDf['Weight'] = allUsersDf.Weight.astype(float)"
   ]
  },
  {
   "cell_type": "markdown",
   "metadata": {},
   "source": [
    "Saat ini, kolom **Weight** sudah berubah tipe data menjadi *float* dari yang semula *integer*."
   ]
  },
  {
   "cell_type": "markdown",
   "metadata": {},
   "source": [
    "# Exploratory Data Analysis (EDA)"
   ]
  },
  {
   "cell_type": "markdown",
   "metadata": {},
   "source": [
    "## Deskripsi Variabel"
   ]
  },
  {
   "cell_type": "markdown",
   "metadata": {},
   "source": [
    "### Data Diet"
   ]
  },
  {
   "cell_type": "code",
   "execution_count": 20,
   "metadata": {},
   "outputs": [
    {
     "name": "stdout",
     "output_type": "stream",
     "text": [
      "<class 'pandas.core.frame.DataFrame'>\n",
      "Index: 7801 entries, 0 to 7805\n",
      "Data columns (total 8 columns):\n",
      " #   Column           Non-Null Count  Dtype  \n",
      "---  ------           --------------  -----  \n",
      " 0   Diet_type        7801 non-null   object \n",
      " 1   Recipe_name      7801 non-null   object \n",
      " 2   Cuisine_type     7801 non-null   object \n",
      " 3   Protein(g)       7801 non-null   float64\n",
      " 4   Carbs(g)         7801 non-null   float64\n",
      " 5   Fat(g)           7801 non-null   float64\n",
      " 6   Extraction_day   7801 non-null   object \n",
      " 7   Extraction_time  7801 non-null   object \n",
      "dtypes: float64(3), object(5)\n",
      "memory usage: 548.5+ KB\n"
     ]
    }
   ],
   "source": [
    "# Informasi dataset diet\n",
    "allDietsDf.info()"
   ]
  },
  {
   "cell_type": "markdown",
   "metadata": {},
   "source": [
    "1. Diet_type: Tipe diet yang bersangkutan dengan satu baris data.\n",
    "2. Recipe_name: Nama resep makanan.\n",
    "3. Cuisine_type: Asal daerah resep makanan.\n",
    "4. Protein(g): Banyak protein yang terkandung pada masakan dalam satuan *gram*.\n",
    "5. Carbs(g): Banyak karbohidrat yang terkandung pada masakan dalam satuan *gram*.\n",
    "6. Fat(g): Banyak lemak yang terkandung pada masakan dalam satuan *gram*.\n",
    "7. Extraction_day: Tanggal resep dibuat.\n",
    "8. Extraction_time: Waktu resep dibuat.\n",
    "\n",
    "Untuk uraian lebih lanjut adalah sebagai berikut:\n",
    "- Terdapat 5 kolom dengan tipe data object, yaitu Diet_type, Recipe_name, Cuisine_type, Extraction_day, Extraction_time.\n",
    "- Terdapat 3 kolom dengan tipe data float, yaitu Protein(g), Carbs(g), dan Fat(g)."
   ]
  },
  {
   "cell_type": "markdown",
   "metadata": {},
   "source": [
    "### Data *Users*"
   ]
  },
  {
   "cell_type": "code",
   "execution_count": 21,
   "metadata": {},
   "outputs": [
    {
     "name": "stdout",
     "output_type": "stream",
     "text": [
      "<class 'pandas.core.frame.DataFrame'>\n",
      "RangeIndex: 2111 entries, 0 to 2110\n",
      "Data columns (total 19 columns):\n",
      " #   Column                          Non-Null Count  Dtype  \n",
      "---  ------                          --------------  -----  \n",
      " 0   id                              2111 non-null   object \n",
      " 1   Gender                          2111 non-null   object \n",
      " 2   Age                             2111 non-null   int64  \n",
      " 3   Height                          2111 non-null   float64\n",
      " 4   Weight                          2111 non-null   float64\n",
      " 5   family_history_with_overweight  2111 non-null   object \n",
      " 6   FAVC                            2111 non-null   object \n",
      " 7   FCVC                            2111 non-null   object \n",
      " 8   NCP                             2111 non-null   int64  \n",
      " 9   CAEC                            2111 non-null   object \n",
      " 10  SMOKE                           2111 non-null   object \n",
      " 11  CH2O                            2111 non-null   object \n",
      " 12  SCC                             2111 non-null   object \n",
      " 13  FAF                             2111 non-null   object \n",
      " 14  TUE                             2111 non-null   object \n",
      " 15  CALC                            2111 non-null   object \n",
      " 16  MTRANS                          2111 non-null   object \n",
      " 17  NObeyesdad                      2111 non-null   object \n",
      " 18  BMI                             2111 non-null   float64\n",
      "dtypes: float64(3), int64(2), object(14)\n",
      "memory usage: 313.5+ KB\n"
     ]
    }
   ],
   "source": [
    "# Informasi dataset users\n",
    "allUsersDf.info()"
   ]
  },
  {
   "cell_type": "markdown",
   "metadata": {},
   "source": [
    "1. Id: Kolom index\n",
    "2. BMI (*Body Mass Index*): Indeks masa tubuh ideal (target)\n",
    "3. Gender: Jenis Kelamin \n",
    "4. Age: Umur\n",
    "5. Height: Tinggi badan (inch)\n",
    "6. Weight: Berat badan (kg)\n",
    "7. family_history_with_overweight: Riwayat keluarga dengan berat badan berlebih (obesitas)\n",
    "8. FAVC: Frekuensi mengkonsumsi makanan tinggi kalori\n",
    "9.  FCVC: Frekuensi mengkonsumsi sayur-mayur\n",
    "10. NCP: Jumlah makan pokok perhari\n",
    "11. CAEC: Frekuensi makan cemilan\n",
    "12. SMOKE: Kebiasaan merokok\n",
    "13. CH2O: Jumlah minum air\n",
    "14. SCC: Kebiasaan monitoring konsumsi kalori\n",
    "15. FAF: Frekuensi kegiatan fisik\n",
    "16. TUE: Waktu penggunaan perangkat (jam)\n",
    "17. CALC: Frekuensi mengkonsumsi alkohol\n",
    "18. MTRANS: Kategori transportasi yang digunakan\n",
    "19. NObeyesdad: Kategori berat badan\n",
    "\n",
    "Untuk uraian lebih lanjut adalah sebagai berikut:\n",
    "- Terdapat 14 kolom dengan tipe data object, yaitu Id, Gender, family_history_with_overweight,FAVC,FCVC,CAEC,SMOKE,CH2O,SCC,FAF,TUE,CALC,MTRANS,NObeyesdad\n",
    "- Terdapat 2 kolom dengan tipe data integer, yaitu Age dan NCP\n",
    "- Terdapat 3 kolom dengan tipe data float, Height, Weight, dan BMI"
   ]
  },
  {
   "cell_type": "markdown",
   "metadata": {},
   "source": [
    "## Menghapus Kolom yang Tidak Perlu\n",
    "### Dataset Diet"
   ]
  },
  {
   "cell_type": "code",
   "execution_count": 22,
   "metadata": {},
   "outputs": [
    {
     "data": {
      "text/html": [
       "<div>\n",
       "<style scoped>\n",
       "    .dataframe tbody tr th:only-of-type {\n",
       "        vertical-align: middle;\n",
       "    }\n",
       "\n",
       "    .dataframe tbody tr th {\n",
       "        vertical-align: top;\n",
       "    }\n",
       "\n",
       "    .dataframe thead th {\n",
       "        text-align: right;\n",
       "    }\n",
       "</style>\n",
       "<table border=\"1\" class=\"dataframe\">\n",
       "  <thead>\n",
       "    <tr style=\"text-align: right;\">\n",
       "      <th></th>\n",
       "      <th>Diet_type</th>\n",
       "      <th>Recipe_name</th>\n",
       "      <th>Cuisine_type</th>\n",
       "      <th>Protein(g)</th>\n",
       "      <th>Carbs(g)</th>\n",
       "      <th>Fat(g)</th>\n",
       "    </tr>\n",
       "  </thead>\n",
       "  <tbody>\n",
       "    <tr>\n",
       "      <th>0</th>\n",
       "      <td>paleo</td>\n",
       "      <td>Bone Broth From 'Nom Nom Paleo'</td>\n",
       "      <td>american</td>\n",
       "      <td>5.22</td>\n",
       "      <td>1.29</td>\n",
       "      <td>3.20</td>\n",
       "    </tr>\n",
       "    <tr>\n",
       "      <th>1</th>\n",
       "      <td>paleo</td>\n",
       "      <td>Paleo Effect Asian-Glazed Pork Sides, A Sweet ...</td>\n",
       "      <td>south east asian</td>\n",
       "      <td>181.55</td>\n",
       "      <td>28.62</td>\n",
       "      <td>146.14</td>\n",
       "    </tr>\n",
       "    <tr>\n",
       "      <th>2</th>\n",
       "      <td>paleo</td>\n",
       "      <td>Paleo Pumpkin Pie</td>\n",
       "      <td>american</td>\n",
       "      <td>30.91</td>\n",
       "      <td>302.59</td>\n",
       "      <td>96.76</td>\n",
       "    </tr>\n",
       "    <tr>\n",
       "      <th>3</th>\n",
       "      <td>paleo</td>\n",
       "      <td>Strawberry Guacamole Recipes</td>\n",
       "      <td>mexican</td>\n",
       "      <td>9.62</td>\n",
       "      <td>75.78</td>\n",
       "      <td>59.89</td>\n",
       "    </tr>\n",
       "    <tr>\n",
       "      <th>4</th>\n",
       "      <td>paleo</td>\n",
       "      <td>Asian Cauliflower Fried \"Rice\" From 'Nom Nom P...</td>\n",
       "      <td>chinese</td>\n",
       "      <td>39.84</td>\n",
       "      <td>54.08</td>\n",
       "      <td>71.55</td>\n",
       "    </tr>\n",
       "  </tbody>\n",
       "</table>\n",
       "</div>"
      ],
      "text/plain": [
       "  Diet_type                                        Recipe_name  \\\n",
       "0     paleo                    Bone Broth From 'Nom Nom Paleo'   \n",
       "1     paleo  Paleo Effect Asian-Glazed Pork Sides, A Sweet ...   \n",
       "2     paleo                                  Paleo Pumpkin Pie   \n",
       "3     paleo                       Strawberry Guacamole Recipes   \n",
       "4     paleo  Asian Cauliflower Fried \"Rice\" From 'Nom Nom P...   \n",
       "\n",
       "       Cuisine_type  Protein(g)  Carbs(g)  Fat(g)  \n",
       "0          american        5.22      1.29    3.20  \n",
       "1  south east asian      181.55     28.62  146.14  \n",
       "2          american       30.91    302.59   96.76  \n",
       "3           mexican        9.62     75.78   59.89  \n",
       "4           chinese       39.84     54.08   71.55  "
      ]
     },
     "execution_count": 22,
     "metadata": {},
     "output_type": "execute_result"
    }
   ],
   "source": [
    "allDietsDf = allDietsDf[['Diet_type', 'Recipe_name', 'Cuisine_type', 'Protein(g)', 'Carbs(g)', 'Fat(g)']]\n",
    "\n",
    "allDietsDf.head()"
   ]
  },
  {
   "cell_type": "markdown",
   "metadata": {},
   "source": [
    "### Dataset *Users*"
   ]
  },
  {
   "cell_type": "code",
   "execution_count": 23,
   "metadata": {},
   "outputs": [
    {
     "data": {
      "text/html": [
       "<div>\n",
       "<style scoped>\n",
       "    .dataframe tbody tr th:only-of-type {\n",
       "        vertical-align: middle;\n",
       "    }\n",
       "\n",
       "    .dataframe tbody tr th {\n",
       "        vertical-align: top;\n",
       "    }\n",
       "\n",
       "    .dataframe thead th {\n",
       "        text-align: right;\n",
       "    }\n",
       "</style>\n",
       "<table border=\"1\" class=\"dataframe\">\n",
       "  <thead>\n",
       "    <tr style=\"text-align: right;\">\n",
       "      <th></th>\n",
       "      <th>id</th>\n",
       "      <th>BMI</th>\n",
       "      <th>Weight</th>\n",
       "      <th>Gender</th>\n",
       "      <th>Age</th>\n",
       "      <th>NObeyesdad</th>\n",
       "      <th>family_history_with_overweight</th>\n",
       "    </tr>\n",
       "  </thead>\n",
       "  <tbody>\n",
       "    <tr>\n",
       "      <th>0</th>\n",
       "      <td>1</td>\n",
       "      <td>24.386526</td>\n",
       "      <td>64.0</td>\n",
       "      <td>female</td>\n",
       "      <td>21</td>\n",
       "      <td>normal_weight</td>\n",
       "      <td>yes</td>\n",
       "    </tr>\n",
       "    <tr>\n",
       "      <th>1</th>\n",
       "      <td>2</td>\n",
       "      <td>24.238227</td>\n",
       "      <td>56.0</td>\n",
       "      <td>female</td>\n",
       "      <td>21</td>\n",
       "      <td>normal_weight</td>\n",
       "      <td>yes</td>\n",
       "    </tr>\n",
       "    <tr>\n",
       "      <th>2</th>\n",
       "      <td>3</td>\n",
       "      <td>23.765432</td>\n",
       "      <td>77.0</td>\n",
       "      <td>male</td>\n",
       "      <td>23</td>\n",
       "      <td>normal_weight</td>\n",
       "      <td>yes</td>\n",
       "    </tr>\n",
       "    <tr>\n",
       "      <th>3</th>\n",
       "      <td>4</td>\n",
       "      <td>26.851852</td>\n",
       "      <td>87.0</td>\n",
       "      <td>male</td>\n",
       "      <td>27</td>\n",
       "      <td>overweight_level_i</td>\n",
       "      <td>no</td>\n",
       "    </tr>\n",
       "    <tr>\n",
       "      <th>4</th>\n",
       "      <td>5</td>\n",
       "      <td>28.342381</td>\n",
       "      <td>90.0</td>\n",
       "      <td>male</td>\n",
       "      <td>22</td>\n",
       "      <td>overweight_level_ii</td>\n",
       "      <td>no</td>\n",
       "    </tr>\n",
       "  </tbody>\n",
       "</table>\n",
       "</div>"
      ],
      "text/plain": [
       "  id        BMI  Weight  Gender  Age           NObeyesdad  \\\n",
       "0  1  24.386526    64.0  female   21        normal_weight   \n",
       "1  2  24.238227    56.0  female   21        normal_weight   \n",
       "2  3  23.765432    77.0    male   23        normal_weight   \n",
       "3  4  26.851852    87.0    male   27   overweight_level_i   \n",
       "4  5  28.342381    90.0    male   22  overweight_level_ii   \n",
       "\n",
       "  family_history_with_overweight  \n",
       "0                            yes  \n",
       "1                            yes  \n",
       "2                            yes  \n",
       "3                             no  \n",
       "4                             no  "
      ]
     },
     "execution_count": 23,
     "metadata": {},
     "output_type": "execute_result"
    }
   ],
   "source": [
    "allUsersDf = allUsersDf[['id', 'BMI','Weight',  'Gender', 'Age', 'NObeyesdad', 'family_history_with_overweight']]\n",
    "\n",
    "allUsersDf.head()"
   ]
  },
  {
   "cell_type": "markdown",
   "metadata": {},
   "source": [
    "## Cek Nilai *Unique* dan *Invalid Value* Kolom Kategorikal\n",
    "### Data Diet\n",
    "\n",
    "Diet_type"
   ]
  },
  {
   "cell_type": "code",
   "execution_count": 24,
   "metadata": {},
   "outputs": [
    {
     "name": "stdout",
     "output_type": "stream",
     "text": [
      "Jumlah nilai unik adalah 5\n",
      "Uraian nilai unik: \n",
      " ['paleo' 'vegan' 'keto' 'mediterranean' 'dash']\n"
     ]
    }
   ],
   "source": [
    "print('Jumlah nilai unik adalah', allDietsDf.Diet_type.nunique())\n",
    "print('Uraian nilai unik: \\n', allDietsDf.Diet_type.unique())"
   ]
  },
  {
   "cell_type": "markdown",
   "metadata": {},
   "source": [
    "Cuisine_type"
   ]
  },
  {
   "cell_type": "code",
   "execution_count": 25,
   "metadata": {},
   "outputs": [
    {
     "name": "stdout",
     "output_type": "stream",
     "text": [
      "Jumlah nilai unik adalah 19\n",
      "Uraian nilai unik: \n",
      " ['american' 'south east asian' 'mexican' 'chinese' 'mediterranean'\n",
      " 'italian' 'french' 'indian' 'nordic' 'eastern europe' 'central europe'\n",
      " 'kosher' 'british' 'caribbean' 'south american' 'middle eastern' 'asian'\n",
      " 'japanese' 'world']\n"
     ]
    }
   ],
   "source": [
    "print('Jumlah nilai unik adalah', allDietsDf.Cuisine_type.nunique())\n",
    "print('Uraian nilai unik: \\n', allDietsDf.Cuisine_type.unique())"
   ]
  },
  {
   "cell_type": "markdown",
   "metadata": {},
   "source": [
    "Kesimpulan yang didapatkan adalah:\n",
    "- **Tidak ada *invalid value*** pada kolom kategorikal di data diet."
   ]
  },
  {
   "cell_type": "markdown",
   "metadata": {},
   "source": [
    "### Data *Users*\n",
    "\n",
    "Gender"
   ]
  },
  {
   "cell_type": "code",
   "execution_count": 26,
   "metadata": {},
   "outputs": [
    {
     "name": "stdout",
     "output_type": "stream",
     "text": [
      "Jumlah nilai unik adalah 2\n",
      "Uraian nilai unik: \n",
      " ['female' 'male']\n"
     ]
    }
   ],
   "source": [
    "print('Jumlah nilai unik adalah', allUsersDf.Gender.nunique())\n",
    "print('Uraian nilai unik: \\n', allUsersDf.Gender.unique())"
   ]
  },
  {
   "cell_type": "markdown",
   "metadata": {},
   "source": [
    "family_history_with_overweight"
   ]
  },
  {
   "cell_type": "code",
   "execution_count": 27,
   "metadata": {},
   "outputs": [
    {
     "name": "stdout",
     "output_type": "stream",
     "text": [
      "Jumlah nilai unik adalah 2\n",
      "Uraian nilai unik: \n",
      " ['yes' 'no']\n"
     ]
    }
   ],
   "source": [
    "print('Jumlah nilai unik adalah', allUsersDf.family_history_with_overweight.nunique())\n",
    "print('Uraian nilai unik: \\n', allUsersDf.family_history_with_overweight.unique())"
   ]
  },
  {
   "cell_type": "markdown",
   "metadata": {},
   "source": [
    "NObeyesdad"
   ]
  },
  {
   "cell_type": "code",
   "execution_count": 28,
   "metadata": {},
   "outputs": [
    {
     "name": "stdout",
     "output_type": "stream",
     "text": [
      "Jumlah nilai unik adalah 7\n",
      "Uraian nilai unik: \n",
      " ['normal_weight' 'overweight_level_i' 'overweight_level_ii'\n",
      " 'obesity_type_i' 'insufficient_weight' 'obesity_type_ii'\n",
      " 'obesity_type_iii']\n"
     ]
    }
   ],
   "source": [
    "print('Jumlah nilai unik adalah', allUsersDf.NObeyesdad.nunique())\n",
    "print('Uraian nilai unik: \\n', allUsersDf.NObeyesdad.unique())"
   ]
  },
  {
   "cell_type": "markdown",
   "metadata": {},
   "source": [
    "Kesimpulan yang didapatkan adalah:\n",
    "- **Tidak ada *invalid value*** pada kolom kategorikal di data *users*."
   ]
  },
  {
   "cell_type": "markdown",
   "metadata": {},
   "source": [
    "## Cek Invalid Value Kolom Numerik"
   ]
  },
  {
   "cell_type": "markdown",
   "metadata": {},
   "source": [
    "### Data Diet"
   ]
  },
  {
   "cell_type": "markdown",
   "metadata": {},
   "source": [
    "Protein(g)"
   ]
  },
  {
   "cell_type": "code",
   "execution_count": 29,
   "metadata": {},
   "outputs": [
    {
     "name": "stdout",
     "output_type": "stream",
     "text": [
      "17\n"
     ]
    }
   ],
   "source": [
    "print((allDietsDf['Protein(g)'] <= 0).sum())"
   ]
  },
  {
   "cell_type": "markdown",
   "metadata": {},
   "source": [
    "Carbs(g)"
   ]
  },
  {
   "cell_type": "code",
   "execution_count": 30,
   "metadata": {},
   "outputs": [
    {
     "name": "stdout",
     "output_type": "stream",
     "text": [
      "0\n"
     ]
    }
   ],
   "source": [
    "print((allDietsDf['Carbs(g)'] <= 0).sum())"
   ]
  },
  {
   "cell_type": "markdown",
   "metadata": {},
   "source": [
    "Fat(g)"
   ]
  },
  {
   "cell_type": "code",
   "execution_count": 31,
   "metadata": {},
   "outputs": [
    {
     "name": "stdout",
     "output_type": "stream",
     "text": [
      "38\n"
     ]
    }
   ],
   "source": [
    "print((allDietsDf['Fat(g)'] <= 0).sum())"
   ]
  },
  {
   "cell_type": "markdown",
   "metadata": {},
   "source": [
    "Kesimpulan yang didapatkan adalah:\n",
    "- Terdapat **17** data protein yang nilainya kurang dari 0. Yang perlu dilakukan adalah **menghapus** data-data itu, bertujuan untuk memberikan rekomendasi makanan dengan nilai gizi yang cukup.\n",
    "- Terdapat **38** data lemak yang nilainya kurang dari 0. Yang perlu dilakukan adalah **mempertahankan** data-data itu, sebab kondisi itu diartikan makanan-makanan itu rendah lemak dan baik untuk dikonsumsi."
   ]
  },
  {
   "cell_type": "code",
   "execution_count": 32,
   "metadata": {},
   "outputs": [],
   "source": [
    "'''\n",
    "Penghapusan nilai protein yang kurang dari\n",
    "atau sama dengan 0 \n",
    "'''\n",
    "allDietsDf = allDietsDf[~(allDietsDf['Protein(g)'] <= 0)]"
   ]
  },
  {
   "cell_type": "markdown",
   "metadata": {},
   "source": [
    "Catatan:\n",
    "Perlu adanya pemeriksaan *outlier* untuk melihat persebaran data agar mengetahui informasi lebih lanjut."
   ]
  },
  {
   "cell_type": "markdown",
   "metadata": {},
   "source": [
    "### Data User"
   ]
  },
  {
   "cell_type": "markdown",
   "metadata": {},
   "source": [
    "BMI"
   ]
  },
  {
   "cell_type": "code",
   "execution_count": 33,
   "metadata": {},
   "outputs": [
    {
     "name": "stdout",
     "output_type": "stream",
     "text": [
      "0\n"
     ]
    }
   ],
   "source": [
    "print((allUsersDf['BMI'] <= 0).sum())"
   ]
  },
  {
   "cell_type": "markdown",
   "metadata": {},
   "source": [
    "Weight"
   ]
  },
  {
   "cell_type": "code",
   "execution_count": 34,
   "metadata": {},
   "outputs": [
    {
     "name": "stdout",
     "output_type": "stream",
     "text": [
      "0\n"
     ]
    }
   ],
   "source": [
    "print((allUsersDf['Weight'] <= 0).sum())"
   ]
  },
  {
   "cell_type": "markdown",
   "metadata": {},
   "source": [
    "Age"
   ]
  },
  {
   "cell_type": "code",
   "execution_count": 35,
   "metadata": {},
   "outputs": [
    {
     "name": "stdout",
     "output_type": "stream",
     "text": [
      "0\n"
     ]
    }
   ],
   "source": [
    "print((allUsersDf['Age'] <= 0).sum())"
   ]
  },
  {
   "cell_type": "markdown",
   "metadata": {},
   "source": [
    "Kesimpulan yang didapatkan adalah:\n",
    "- **Tidak ada *invalid value*** pada kolom numerik di data *users*.\n",
    "\n",
    "Catatan:\n",
    "Perlu adanya pemeriksaan *outlier* untuk melihat persebaran data agar mengetahui informasi lebih lanjut."
   ]
  },
  {
   "cell_type": "markdown",
   "metadata": {},
   "source": [
    "## Cek *Outliers*"
   ]
  },
  {
   "cell_type": "markdown",
   "metadata": {},
   "source": [
    "### Data Diet"
   ]
  },
  {
   "cell_type": "markdown",
   "metadata": {},
   "source": [
    "Protein(g)"
   ]
  },
  {
   "cell_type": "code",
   "execution_count": 36,
   "metadata": {},
   "outputs": [
    {
     "data": {
      "image/png": "[encoded data removed]",
      "text/plain": [
       "<Figure size 640x480 with 1 Axes>"
      ]
     },
     "metadata": {},
     "output_type": "display_data"
    }
   ],
   "source": [
    "sns.boxplot(x=allDietsDf['Protein(g)'])\n",
    "plt.savefig('assets/diet/protein1.png')"
   ]
  },
  {
   "cell_type": "markdown",
   "metadata": {},
   "source": [
    "Carbs(g)"
   ]
  },
  {
   "cell_type": "code",
   "execution_count": 37,
   "metadata": {},
   "outputs": [
    {
     "data": {
      "image/png": "[encoded data removed]",
      "text/plain": [
       "<Figure size 640x480 with 1 Axes>"
      ]
     },
     "metadata": {},
     "output_type": "display_data"
    }
   ],
   "source": [
    "sns.boxplot(x=allDietsDf['Carbs(g)'])\n",
    "plt.savefig('assets/diet/carbs1.png')"
   ]
  },
  {
   "cell_type": "markdown",
   "metadata": {},
   "source": [
    "Fat(g)"
   ]
  },
  {
   "cell_type": "code",
   "execution_count": 38,
   "metadata": {},
   "outputs": [
    {
     "data": {
      "image/png": "[encoded data removed]",
      "text/plain": [
       "<Figure size 640x480 with 1 Axes>"
      ]
     },
     "metadata": {},
     "output_type": "display_data"
    }
   ],
   "source": [
    "sns.boxplot(x=allDietsDf['Carbs(g)'])\n",
    "plt.savefig('assets/diet/fat1.png')"
   ]
  },
  {
   "cell_type": "markdown",
   "metadata": {},
   "source": [
    "Terdapat banyak nilai yang terindikasi *outliers* pada setiap kolom di atas, hal yang perlu dilakukan adalah peninjauan banyak presentase *outliers* tersebut pada total data. Jika memungkinkan akan dihapus."
   ]
  },
  {
   "cell_type": "markdown",
   "metadata": {},
   "source": [
    "### Data *Users*"
   ]
  },
  {
   "cell_type": "markdown",
   "metadata": {},
   "source": [
    "BMI"
   ]
  },
  {
   "cell_type": "code",
   "execution_count": 39,
   "metadata": {},
   "outputs": [
    {
     "data": {
      "image/png": "[encoded data removed]",
      "text/plain": [
       "<Figure size 640x480 with 1 Axes>"
      ]
     },
     "metadata": {},
     "output_type": "display_data"
    }
   ],
   "source": [
    "sns.boxplot(x=allUsersDf['BMI'])\n",
    "plt.savefig('assets/users/bmi1.png')"
   ]
  },
  {
   "cell_type": "markdown",
   "metadata": {},
   "source": [
    "Weight"
   ]
  },
  {
   "cell_type": "code",
   "execution_count": 40,
   "metadata": {},
   "outputs": [
    {
     "data": {
      "image/png": "[encoded data removed]",
      "text/plain": [
       "<Figure size 640x480 with 1 Axes>"
      ]
     },
     "metadata": {},
     "output_type": "display_data"
    }
   ],
   "source": [
    "sns.boxplot(x=allUsersDf['Weight'])\n",
    "plt.savefig('assets/users/weight1.png')"
   ]
  },
  {
   "cell_type": "markdown",
   "metadata": {},
   "source": [
    "Age"
   ]
  },
  {
   "cell_type": "code",
   "execution_count": 41,
   "metadata": {},
   "outputs": [
    {
     "data": {
      "image/png": "[encoded data removed]",
      "text/plain": [
       "<Figure size 640x480 with 1 Axes>"
      ]
     },
     "metadata": {},
     "output_type": "display_data"
    }
   ],
   "source": [
    "sns.boxplot(x=allUsersDf['Age'])\n",
    "plt.savefig('assets/users/age1.png')"
   ]
  },
  {
   "cell_type": "markdown",
   "metadata": {},
   "source": [
    "Terdapat beberapa kesimpulan sebagai berikut:\n",
    "- Pada kolom **Weight**, banyak data *outlier* ada 1. Sehingga dapat dihapus.\n",
    "- Pada kolom **Age**, banyak data *outlier* ada banyak. Sehingga perlu peninjauan banyak presentase *outliers* tersebut pada total data. Jika memungkinkan akan dihapus."
   ]
  },
  {
   "cell_type": "markdown",
   "metadata": {},
   "source": [
    "## Penanganan *Outliers*"
   ]
  },
  {
   "cell_type": "markdown",
   "metadata": {},
   "source": [
    "### Rumus IQR"
   ]
  },
  {
   "cell_type": "code",
   "execution_count": 42,
   "metadata": {},
   "outputs": [],
   "source": [
    "def iqrFormula(data):\n",
    "    # Mengambil kuartil 1 dari keseluruhan data\n",
    "    q1 = data.quantile(0.25)\n",
    "    # Mengambil kuartil 3 dari keseluruhan data\n",
    "    q3 = data.quantile(0.75)\n",
    "\n",
    "    # Mengurangkan antara kuartil 1 dan 3\n",
    "    iqr = q3 - q1\n",
    "\n",
    "    # Batas atas\n",
    "    upper = q3 + 1.5 * iqr\n",
    "    \n",
    "    # Batas bawah\n",
    "    bottom = q1 - 1.5 * iqr\n",
    "\n",
    "    # Rumus outliers\n",
    "    outliers = ((data < bottom) | (data > upper))\n",
    "    \n",
    "    return outliers"
   ]
  },
  {
   "cell_type": "markdown",
   "metadata": {},
   "source": [
    "### Data Diet\n",
    "\n",
    "Dari hasil kesimpulan di atas, terdapat beberapa langkah yang harus dilakukan."
   ]
  },
  {
   "cell_type": "code",
   "execution_count": 43,
   "metadata": {},
   "outputs": [
    {
     "data": {
      "text/plain": [
       "(7784, 6)"
      ]
     },
     "execution_count": 43,
     "metadata": {},
     "output_type": "execute_result"
    }
   ],
   "source": [
    "# Pengecekan shape data diet\n",
    "allDietsDf.shape"
   ]
  },
  {
   "cell_type": "markdown",
   "metadata": {},
   "source": [
    "Penerapan Rumus IQR"
   ]
  },
  {
   "cell_type": "code",
   "execution_count": 44,
   "metadata": {},
   "outputs": [],
   "source": [
    "numericalDiet = allDietsDf.select_dtypes(include=['float64', 'int64'])\n",
    "\n",
    "outliers = iqrFormula(numericalDiet)\n"
   ]
  },
  {
   "cell_type": "markdown",
   "metadata": {},
   "source": [
    "Penghapusan Nilai Outlier"
   ]
  },
  {
   "cell_type": "code",
   "execution_count": 45,
   "metadata": {},
   "outputs": [],
   "source": [
    "cleanedDiets = allDietsDf[~outliers.any(axis=1)]"
   ]
  },
  {
   "cell_type": "code",
   "execution_count": 46,
   "metadata": {},
   "outputs": [
    {
     "data": {
      "text/plain": [
       "(6795, 6)"
      ]
     },
     "execution_count": 46,
     "metadata": {},
     "output_type": "execute_result"
    }
   ],
   "source": [
    "cleanedDiets.shape"
   ]
  },
  {
   "cell_type": "markdown",
   "metadata": {},
   "source": [
    "### Data *Users*"
   ]
  },
  {
   "cell_type": "code",
   "execution_count": 47,
   "metadata": {},
   "outputs": [
    {
     "data": {
      "text/plain": [
       "(2111, 7)"
      ]
     },
     "execution_count": 47,
     "metadata": {},
     "output_type": "execute_result"
    }
   ],
   "source": [
    "allUsersDf.shape"
   ]
  },
  {
   "cell_type": "markdown",
   "metadata": {},
   "source": [
    "Penerapan Rumus IQR\n"
   ]
  },
  {
   "cell_type": "code",
   "execution_count": 48,
   "metadata": {},
   "outputs": [],
   "source": [
    "numericalUsers = allUsersDf.select_dtypes(include=['float64', 'int64'])\n",
    "\n",
    "outliers = iqrFormula(numericalUsers)"
   ]
  },
  {
   "cell_type": "markdown",
   "metadata": {},
   "source": [
    "Penghapusan Nilai Outliers"
   ]
  },
  {
   "cell_type": "code",
   "execution_count": 49,
   "metadata": {},
   "outputs": [],
   "source": [
    "cleanedUsers = allUsersDf[~outliers.any(axis=1)]"
   ]
  },
  {
   "cell_type": "code",
   "execution_count": 50,
   "metadata": {},
   "outputs": [
    {
     "data": {
      "text/plain": [
       "(1950, 7)"
      ]
     },
     "execution_count": 50,
     "metadata": {},
     "output_type": "execute_result"
    }
   ],
   "source": [
    "cleanedUsers.shape"
   ]
  },
  {
   "cell_type": "markdown",
   "metadata": {},
   "source": [
    "## Pengecekan Ulang Nilai Outliers"
   ]
  },
  {
   "cell_type": "markdown",
   "metadata": {},
   "source": [
    "### Data Diet"
   ]
  },
  {
   "cell_type": "markdown",
   "metadata": {},
   "source": [
    "Protein(g)"
   ]
  },
  {
   "cell_type": "code",
   "execution_count": 51,
   "metadata": {},
   "outputs": [
    {
     "data": {
      "image/png": "[encoded data removed]",
      "text/plain": [
       "<Figure size 640x480 with 1 Axes>"
      ]
     },
     "metadata": {},
     "output_type": "display_data"
    }
   ],
   "source": [
    "sns.boxplot(x=cleanedDiets['Protein(g)'])\n",
    "plt.savefig('assets/diet/protein2.png')"
   ]
  },
  {
   "cell_type": "markdown",
   "metadata": {},
   "source": [
    "Carbs(g)"
   ]
  },
  {
   "cell_type": "code",
   "execution_count": 52,
   "metadata": {},
   "outputs": [
    {
     "data": {
      "image/png": "[encoded data removed]",
      "text/plain": [
       "<Figure size 640x480 with 1 Axes>"
      ]
     },
     "metadata": {},
     "output_type": "display_data"
    }
   ],
   "source": [
    "sns.boxplot(x=cleanedDiets['Carbs(g)'])\n",
    "plt.savefig('assets/diet/carbs2.png')"
   ]
  },
  {
   "cell_type": "markdown",
   "metadata": {},
   "source": [
    "Fat(g)"
   ]
  },
  {
   "cell_type": "code",
   "execution_count": 53,
   "metadata": {},
   "outputs": [
    {
     "data": {
      "image/png": "[encoded data removed]",
      "text/plain": [
       "<Figure size 640x480 with 1 Axes>"
      ]
     },
     "metadata": {},
     "output_type": "display_data"
    }
   ],
   "source": [
    "sns.boxplot(x=cleanedDiets['Fat(g)'])\n",
    "plt.savefig('assets/diet/fat2.png')"
   ]
  },
  {
   "cell_type": "markdown",
   "metadata": {},
   "source": [
    "Dari hasil cek di atas, masih terdapat beberapa nilai *outliers* di semua kolom. Maka perlu dilakukan penghapusan ulang."
   ]
  },
  {
   "cell_type": "markdown",
   "metadata": {},
   "source": [
    "### Data *Users*"
   ]
  },
  {
   "cell_type": "markdown",
   "metadata": {},
   "source": [
    "BMI"
   ]
  },
  {
   "cell_type": "code",
   "execution_count": 54,
   "metadata": {},
   "outputs": [
    {
     "data": {
      "image/png": "[encoded data removed]",
      "text/plain": [
       "<Figure size 640x480 with 1 Axes>"
      ]
     },
     "metadata": {},
     "output_type": "display_data"
    }
   ],
   "source": [
    "sns.boxplot(x=cleanedUsers['BMI'])\n",
    "plt.savefig('assets/users/bmi2.png')"
   ]
  },
  {
   "cell_type": "markdown",
   "metadata": {},
   "source": [
    "Weight\n"
   ]
  },
  {
   "cell_type": "code",
   "execution_count": 55,
   "metadata": {},
   "outputs": [
    {
     "data": {
      "image/png": "[encoded data removed]",
      "text/plain": [
       "<Figure size 640x480 with 1 Axes>"
      ]
     },
     "metadata": {},
     "output_type": "display_data"
    }
   ],
   "source": [
    "sns.boxplot(x=cleanedUsers['Weight'])\n",
    "plt.savefig('assets/users/weight2.png')"
   ]
  },
  {
   "cell_type": "markdown",
   "metadata": {},
   "source": [
    "Age"
   ]
  },
  {
   "cell_type": "code",
   "execution_count": 56,
   "metadata": {},
   "outputs": [
    {
     "data": {
      "image/png": "[encoded data removed]",
      "text/plain": [
       "<Figure size 640x480 with 1 Axes>"
      ]
     },
     "metadata": {},
     "output_type": "display_data"
    }
   ],
   "source": [
    "sns.boxplot(x=cleanedUsers['Age'])\n",
    "plt.savefig('assets/users/age2.png')"
   ]
  },
  {
   "cell_type": "markdown",
   "metadata": {},
   "source": [
    "Dari hasil di atas, sudah tidak terdapat nilai *outlier* pada setiap kolom dataset *users*. Maka data di atas sudah dapat digunakan untuk tahap selanjutnya."
   ]
  },
  {
   "cell_type": "markdown",
   "metadata": {},
   "source": [
    "## Penanganan Nilai *Outliers* Dataset Diet\n",
    "Dari hasil pengulangan penerapan IQR yang sudah dilakukan, ternyata terdapat iterasi pengulangan tertentu yang dilakukan. Setelah kode di bawah, sudah tidak terdapat nilai *outliers* lagi pada dataset diet."
   ]
  },
  {
   "cell_type": "code",
   "execution_count": 57,
   "metadata": {},
   "outputs": [
    {
     "data": {
      "text/plain": [
       "(6795, 6)"
      ]
     },
     "execution_count": 57,
     "metadata": {},
     "output_type": "execute_result"
    }
   ],
   "source": [
    "cleanedDiets.shape"
   ]
  },
  {
   "cell_type": "markdown",
   "metadata": {},
   "source": [
    "Penerapan Rumus IQR dan Penghapusan Nilai *Outliers*"
   ]
  },
  {
   "cell_type": "code",
   "execution_count": 58,
   "metadata": {},
   "outputs": [],
   "source": [
    "iteration = 8\n",
    "for i in range(0,iteration):\n",
    "    numericalDiet = cleanedDiets.select_dtypes(include=['float64', 'int64'])\n",
    "    outliers = iqrFormula(numericalDiet)\n",
    "    cleanedDiets = cleanedDiets[~outliers.any(axis=1)]"
   ]
  },
  {
   "cell_type": "code",
   "execution_count": 59,
   "metadata": {},
   "outputs": [
    {
     "data": {
      "text/plain": [
       "(5960, 6)"
      ]
     },
     "execution_count": 59,
     "metadata": {},
     "output_type": "execute_result"
    }
   ],
   "source": [
    "cleanedDiets.shape"
   ]
  },
  {
   "cell_type": "markdown",
   "metadata": {},
   "source": [
    "## Pengecekan Ulang Nilai *Outliers* Dataset Diet"
   ]
  },
  {
   "cell_type": "markdown",
   "metadata": {},
   "source": [
    "Protein(g)"
   ]
  },
  {
   "cell_type": "code",
   "execution_count": 60,
   "metadata": {},
   "outputs": [
    {
     "data": {
      "image/png": "[encoded data removed]",
      "text/plain": [
       "<Figure size 640x480 with 1 Axes>"
      ]
     },
     "metadata": {},
     "output_type": "display_data"
    }
   ],
   "source": [
    "sns.boxplot(x=cleanedDiets['Protein(g)'])\n",
    "plt.savefig('assets/diet/protein3.png')"
   ]
  },
  {
   "cell_type": "markdown",
   "metadata": {},
   "source": [
    "Carbs(g)"
   ]
  },
  {
   "cell_type": "code",
   "execution_count": 61,
   "metadata": {},
   "outputs": [
    {
     "data": {
      "image/png": "[encoded data removed]",
      "text/plain": [
       "<Figure size 640x480 with 1 Axes>"
      ]
     },
     "metadata": {},
     "output_type": "display_data"
    }
   ],
   "source": [
    "sns.boxplot(x=cleanedDiets['Carbs(g)'])\n",
    "plt.savefig('assets/diet/carbs3.png')"
   ]
  },
  {
   "cell_type": "markdown",
   "metadata": {},
   "source": [
    "Fat(g)"
   ]
  },
  {
   "cell_type": "code",
   "execution_count": 62,
   "metadata": {},
   "outputs": [
    {
     "data": {
      "image/png": "[encoded data removed]",
      "text/plain": [
       "<Figure size 640x480 with 1 Axes>"
      ]
     },
     "metadata": {},
     "output_type": "display_data"
    }
   ],
   "source": [
    "sns.boxplot(x=cleanedDiets['Fat(g)'])\n",
    "plt.savefig('assets/diet/fat3.png')"
   ]
  },
  {
   "cell_type": "markdown",
   "metadata": {},
   "source": [
    "Setelah melakukan **8** iterasi penerapan rumus IQR, terlihat bahwa sudah tidak terdapat nilai *outlier* dan data dapat digunakan pada tahap selanjutnya."
   ]
  },
  {
   "cell_type": "markdown",
   "metadata": {},
   "source": [
    "## Univariate Analysis\n",
    "### Data Diet"
   ]
  },
  {
   "cell_type": "code",
   "execution_count": 63,
   "metadata": {},
   "outputs": [
    {
     "data": {
      "text/html": [
       "<div>\n",
       "<style scoped>\n",
       "    .dataframe tbody tr th:only-of-type {\n",
       "        vertical-align: middle;\n",
       "    }\n",
       "\n",
       "    .dataframe tbody tr th {\n",
       "        vertical-align: top;\n",
       "    }\n",
       "\n",
       "    .dataframe thead th {\n",
       "        text-align: right;\n",
       "    }\n",
       "</style>\n",
       "<table border=\"1\" class=\"dataframe\">\n",
       "  <thead>\n",
       "    <tr style=\"text-align: right;\">\n",
       "      <th></th>\n",
       "      <th>Diet_type</th>\n",
       "      <th>Recipe_name</th>\n",
       "      <th>Cuisine_type</th>\n",
       "      <th>Protein(g)</th>\n",
       "      <th>Carbs(g)</th>\n",
       "      <th>Fat(g)</th>\n",
       "    </tr>\n",
       "  </thead>\n",
       "  <tbody>\n",
       "    <tr>\n",
       "      <th>0</th>\n",
       "      <td>paleo</td>\n",
       "      <td>Bone Broth From 'Nom Nom Paleo'</td>\n",
       "      <td>american</td>\n",
       "      <td>5.22</td>\n",
       "      <td>1.29</td>\n",
       "      <td>3.20</td>\n",
       "    </tr>\n",
       "    <tr>\n",
       "      <th>2</th>\n",
       "      <td>paleo</td>\n",
       "      <td>Paleo Pumpkin Pie</td>\n",
       "      <td>american</td>\n",
       "      <td>30.91</td>\n",
       "      <td>302.59</td>\n",
       "      <td>96.76</td>\n",
       "    </tr>\n",
       "    <tr>\n",
       "      <th>3</th>\n",
       "      <td>paleo</td>\n",
       "      <td>Strawberry Guacamole Recipes</td>\n",
       "      <td>mexican</td>\n",
       "      <td>9.62</td>\n",
       "      <td>75.78</td>\n",
       "      <td>59.89</td>\n",
       "    </tr>\n",
       "    <tr>\n",
       "      <th>4</th>\n",
       "      <td>paleo</td>\n",
       "      <td>Asian Cauliflower Fried \"Rice\" From 'Nom Nom P...</td>\n",
       "      <td>chinese</td>\n",
       "      <td>39.84</td>\n",
       "      <td>54.08</td>\n",
       "      <td>71.55</td>\n",
       "    </tr>\n",
       "    <tr>\n",
       "      <th>5</th>\n",
       "      <td>paleo</td>\n",
       "      <td>Paleo Shrimp-Stuffed Mushrooms Recipes</td>\n",
       "      <td>mediterranean</td>\n",
       "      <td>68.62</td>\n",
       "      <td>34.15</td>\n",
       "      <td>42.44</td>\n",
       "    </tr>\n",
       "  </tbody>\n",
       "</table>\n",
       "</div>"
      ],
      "text/plain": [
       "  Diet_type                                        Recipe_name   Cuisine_type  \\\n",
       "0     paleo                    Bone Broth From 'Nom Nom Paleo'       american   \n",
       "2     paleo                                  Paleo Pumpkin Pie       american   \n",
       "3     paleo                       Strawberry Guacamole Recipes        mexican   \n",
       "4     paleo  Asian Cauliflower Fried \"Rice\" From 'Nom Nom P...        chinese   \n",
       "5     paleo             Paleo Shrimp-Stuffed Mushrooms Recipes  mediterranean   \n",
       "\n",
       "   Protein(g)  Carbs(g)  Fat(g)  \n",
       "0        5.22      1.29    3.20  \n",
       "2       30.91    302.59   96.76  \n",
       "3        9.62     75.78   59.89  \n",
       "4       39.84     54.08   71.55  \n",
       "5       68.62     34.15   42.44  "
      ]
     },
     "execution_count": 63,
     "metadata": {},
     "output_type": "execute_result"
    }
   ],
   "source": [
    "cleanedDiets.head()"
   ]
  },
  {
   "cell_type": "markdown",
   "metadata": {},
   "source": [
    "Memisahkan Kategori Kolom"
   ]
  },
  {
   "cell_type": "code",
   "execution_count": 64,
   "metadata": {},
   "outputs": [],
   "source": [
    "# Kolom Kategorikal\n",
    "catDietFeatures = ['Diet_type', 'Cuisine_type']"
   ]
  },
  {
   "cell_type": "markdown",
   "metadata": {},
   "source": [
    "Kolom **Recipe_name** tidak dilakukan analisis univarian sebab data *unique*-nya yang terlalu banyak."
   ]
  },
  {
   "cell_type": "markdown",
   "metadata": {},
   "source": [
    "1. Olah Categorical Features\n",
    "\n",
    "    Buat Fungsi User-Defined"
   ]
  },
  {
   "cell_type": "code",
   "execution_count": 65,
   "metadata": {},
   "outputs": [],
   "source": [
    "def featuresExtractDiet(feature, data=cleanedDiets):\n",
    "    if feature == 'Cuisine_type':\n",
    "        count = data[feature].value_counts()\n",
    "        percent = 100 * data[feature].value_counts(normalize=True) \n",
    "        \n",
    "        # Mengambil indeks yang akan dijumlahkan menjadi kategori \"others\"\n",
    "        othersCount = count.iloc[4:].values\n",
    "        othersPercent = percent.iloc[4:].values\n",
    "        \n",
    "        # Menghapus nilai sebelum dijadikan kategori \"others\"\n",
    "        count = count.drop(count.index[4:])\n",
    "        percent = percent.drop(percent.index[4:])\n",
    "        \n",
    "        # Menambahkan kategori \"others\" menjadi data baru\n",
    "        othersCount = pd.Series(othersCount.sum(), index=['others'])\n",
    "        othersPercent = pd.Series(othersPercent.sum(), index=['others'])  \n",
    "        \n",
    "        count = pd.concat([count, othersCount])\n",
    "        percent = pd.concat([percent, othersPercent])\n",
    "        \n",
    "        df = pd.DataFrame({\n",
    "            'Jumlah sampel':count, \n",
    "            'Persentase':percent.round(1)\n",
    "        })\n",
    "        print(df)\n",
    "        \n",
    "        plt.figure(figsize=(8, 8))\n",
    "        percent.plot(kind='pie', autopct='%1.1f%%' ,title='Jumlah Presentase ' + feature)\n",
    "        \n",
    "    elif feature == 'Diet_type':\n",
    "        count = data[feature].value_counts()\n",
    "        percent = 100 * data[feature].value_counts(normalize=True)   \n",
    "        df = pd.DataFrame({\n",
    "            'Jumlah sampel':count, \n",
    "            'Persentase':percent.round(1)\n",
    "            })\n",
    "        print(df)\n",
    "        \n",
    "        count.plot(kind='bar', title='Jumlah Kolom ' + feature, rot=0)"
   ]
  },
  {
   "cell_type": "markdown",
   "metadata": {},
   "source": [
    "Kolom Diet_type"
   ]
  },
  {
   "cell_type": "code",
   "execution_count": 66,
   "metadata": {},
   "outputs": [
    {
     "name": "stdout",
     "output_type": "stream",
     "text": [
      "               Jumlah sampel  Persentase\n",
      "Diet_type                               \n",
      "mediterranean           1370        23.0\n",
      "dash                    1354        22.7\n",
      "vegan                   1148        19.3\n",
      "keto                    1104        18.5\n",
      "paleo                    984        16.5\n"
     ]
    },
    {
     "data": {
      "image/png": "[encoded data removed]",
      "text/plain": [
       "<Figure size 640x480 with 1 Axes>"
      ]
     },
     "metadata": {},
     "output_type": "display_data"
    }
   ],
   "source": [
    "feature = catDietFeatures[0]\n",
    "featuresExtractDiet(feature)\n",
    "plt.savefig('assets/diet/uni-diet-type.png')"
   ]
  },
  {
   "cell_type": "markdown",
   "metadata": {},
   "source": [
    "Kolom Cuisine_type"
   ]
  },
  {
   "cell_type": "code",
   "execution_count": 67,
   "metadata": {},
   "outputs": [
    {
     "name": "stdout",
     "output_type": "stream",
     "text": [
      "               Jumlah sampel  Persentase\n",
      "american                2057        34.5\n",
      "mediterranean           1414        23.7\n",
      "italian                  592         9.9\n",
      "french                   466         7.8\n",
      "others                  1431        24.0\n"
     ]
    },
    {
     "data": {
      "image/png": "[encoded data removed]",
      "text/plain": [
       "<Figure size 800x800 with 1 Axes>"
      ]
     },
     "metadata": {},
     "output_type": "display_data"
    }
   ],
   "source": [
    "feature = catDietFeatures[1]\n",
    "featuresExtractDiet(feature)\n",
    "plt.savefig('assets/diet/uni-cuisine-type.png')"
   ]
  },
  {
   "cell_type": "markdown",
   "metadata": {},
   "source": [
    "2. Olah Numerical Features"
   ]
  },
  {
   "cell_type": "code",
   "execution_count": 68,
   "metadata": {},
   "outputs": [
    {
     "data": {
      "text/html": [
       "<div>\n",
       "<style scoped>\n",
       "    .dataframe tbody tr th:only-of-type {\n",
       "        vertical-align: middle;\n",
       "    }\n",
       "\n",
       "    .dataframe tbody tr th {\n",
       "        vertical-align: top;\n",
       "    }\n",
       "\n",
       "    .dataframe thead th {\n",
       "        text-align: right;\n",
       "    }\n",
       "</style>\n",
       "<table border=\"1\" class=\"dataframe\">\n",
       "  <thead>\n",
       "    <tr style=\"text-align: right;\">\n",
       "      <th></th>\n",
       "      <th>Diet_type</th>\n",
       "      <th>Recipe_name</th>\n",
       "      <th>Cuisine_type</th>\n",
       "      <th>Protein(g)</th>\n",
       "      <th>Carbs(g)</th>\n",
       "      <th>Fat(g)</th>\n",
       "    </tr>\n",
       "  </thead>\n",
       "  <tbody>\n",
       "    <tr>\n",
       "      <th>6731</th>\n",
       "      <td>dash</td>\n",
       "      <td>Kitchen Sink Vegetable Lasagna With Spiced Tof...</td>\n",
       "      <td>italian</td>\n",
       "      <td>144.81</td>\n",
       "      <td>168.57</td>\n",
       "      <td>118.63</td>\n",
       "    </tr>\n",
       "    <tr>\n",
       "      <th>7212</th>\n",
       "      <td>dash</td>\n",
       "      <td>Chicken And Avocado Salad</td>\n",
       "      <td>asian</td>\n",
       "      <td>57.41</td>\n",
       "      <td>114.18</td>\n",
       "      <td>235.61</td>\n",
       "    </tr>\n",
       "    <tr>\n",
       "      <th>6888</th>\n",
       "      <td>dash</td>\n",
       "      <td>Fresh Mint Ice Cream</td>\n",
       "      <td>french</td>\n",
       "      <td>28.01</td>\n",
       "      <td>205.21</td>\n",
       "      <td>44.29</td>\n",
       "    </tr>\n",
       "    <tr>\n",
       "      <th>5513</th>\n",
       "      <td>mediterranean</td>\n",
       "      <td>Homemade Greek Salad Dressing</td>\n",
       "      <td>mediterranean</td>\n",
       "      <td>0.67</td>\n",
       "      <td>4.80</td>\n",
       "      <td>108.30</td>\n",
       "    </tr>\n",
       "    <tr>\n",
       "      <th>726</th>\n",
       "      <td>paleo</td>\n",
       "      <td>Paleo Baked Tuna Cakes - Paleo And Gluten-Free</td>\n",
       "      <td>mediterranean</td>\n",
       "      <td>105.58</td>\n",
       "      <td>58.76</td>\n",
       "      <td>166.85</td>\n",
       "    </tr>\n",
       "  </tbody>\n",
       "</table>\n",
       "</div>"
      ],
      "text/plain": [
       "          Diet_type                                        Recipe_name  \\\n",
       "6731           dash  Kitchen Sink Vegetable Lasagna With Spiced Tof...   \n",
       "7212           dash                          Chicken And Avocado Salad   \n",
       "6888           dash                               Fresh Mint Ice Cream   \n",
       "5513  mediterranean                      Homemade Greek Salad Dressing   \n",
       "726           paleo     Paleo Baked Tuna Cakes - Paleo And Gluten-Free   \n",
       "\n",
       "       Cuisine_type  Protein(g)  Carbs(g)  Fat(g)  \n",
       "6731        italian      144.81    168.57  118.63  \n",
       "7212          asian       57.41    114.18  235.61  \n",
       "6888         french       28.01    205.21   44.29  \n",
       "5513  mediterranean        0.67      4.80  108.30  \n",
       "726   mediterranean      105.58     58.76  166.85  "
      ]
     },
     "execution_count": 68,
     "metadata": {},
     "output_type": "execute_result"
    }
   ],
   "source": [
    "cleanedDiets.sample(5)"
   ]
  },
  {
   "cell_type": "code",
   "execution_count": 69,
   "metadata": {},
   "outputs": [
    {
     "data": {
      "image/png": "[encoded data removed]",
      "text/plain": [
       "<Figure size 1300x1000 with 4 Axes>"
      ]
     },
     "metadata": {},
     "output_type": "display_data"
    }
   ],
   "source": [
    "cleanedDiets.hist(bins=35, figsize=(13,10))\n",
    "plt.savefig('assets/diet/uni-numerical.png')\n",
    "plt.show()"
   ]
  },
  {
   "cell_type": "markdown",
   "metadata": {},
   "source": [
    "Dari hasil pemetaan kolom numerik di atas, dapat disimpulkan bahwa:\n",
    "\n",
    "1. Kolom Protein(g)\n",
    "   - Persebaran data cenderung ke kanan (*Right-Skewed*)\n",
    "   - Banyak data terbanyak ada di angka 10\n",
    "   - Banyak data terendah ada di kisaran angka 150 - 175\n",
    "\n",
    "2. Kolom Carbs(g)\n",
    "   - Persebaran data cenderung ke kanan (*Right-Skewed*)\n",
    "   - Banyak data terbanyak ada di angka 20\n",
    "   - Banyak data terendah ada di kisaran angka 300 - 350\n",
    "\n",
    "3. Kolom Fat(g)\n",
    "   - Persebaran data cenderung ke kanan (*Right-Skewed*)\n",
    "   - Banyak data terbanyak ada di angka 10\n",
    "   - Banyak data terendah ada di kisaran angka 200 - 250"
   ]
  },
  {
   "cell_type": "markdown",
   "metadata": {},
   "source": [
    "### Data *Users*"
   ]
  },
  {
   "cell_type": "code",
   "execution_count": 70,
   "metadata": {},
   "outputs": [
    {
     "data": {
      "text/html": [
       "<div>\n",
       "<style scoped>\n",
       "    .dataframe tbody tr th:only-of-type {\n",
       "        vertical-align: middle;\n",
       "    }\n",
       "\n",
       "    .dataframe tbody tr th {\n",
       "        vertical-align: top;\n",
       "    }\n",
       "\n",
       "    .dataframe thead th {\n",
       "        text-align: right;\n",
       "    }\n",
       "</style>\n",
       "<table border=\"1\" class=\"dataframe\">\n",
       "  <thead>\n",
       "    <tr style=\"text-align: right;\">\n",
       "      <th></th>\n",
       "      <th>id</th>\n",
       "      <th>BMI</th>\n",
       "      <th>Weight</th>\n",
       "      <th>Gender</th>\n",
       "      <th>Age</th>\n",
       "      <th>NObeyesdad</th>\n",
       "      <th>family_history_with_overweight</th>\n",
       "    </tr>\n",
       "  </thead>\n",
       "  <tbody>\n",
       "    <tr>\n",
       "      <th>0</th>\n",
       "      <td>1</td>\n",
       "      <td>24.386526</td>\n",
       "      <td>64.0</td>\n",
       "      <td>female</td>\n",
       "      <td>21</td>\n",
       "      <td>normal_weight</td>\n",
       "      <td>yes</td>\n",
       "    </tr>\n",
       "    <tr>\n",
       "      <th>1</th>\n",
       "      <td>2</td>\n",
       "      <td>24.238227</td>\n",
       "      <td>56.0</td>\n",
       "      <td>female</td>\n",
       "      <td>21</td>\n",
       "      <td>normal_weight</td>\n",
       "      <td>yes</td>\n",
       "    </tr>\n",
       "    <tr>\n",
       "      <th>2</th>\n",
       "      <td>3</td>\n",
       "      <td>23.765432</td>\n",
       "      <td>77.0</td>\n",
       "      <td>male</td>\n",
       "      <td>23</td>\n",
       "      <td>normal_weight</td>\n",
       "      <td>yes</td>\n",
       "    </tr>\n",
       "    <tr>\n",
       "      <th>3</th>\n",
       "      <td>4</td>\n",
       "      <td>26.851852</td>\n",
       "      <td>87.0</td>\n",
       "      <td>male</td>\n",
       "      <td>27</td>\n",
       "      <td>overweight_level_i</td>\n",
       "      <td>no</td>\n",
       "    </tr>\n",
       "    <tr>\n",
       "      <th>4</th>\n",
       "      <td>5</td>\n",
       "      <td>28.342381</td>\n",
       "      <td>90.0</td>\n",
       "      <td>male</td>\n",
       "      <td>22</td>\n",
       "      <td>overweight_level_ii</td>\n",
       "      <td>no</td>\n",
       "    </tr>\n",
       "  </tbody>\n",
       "</table>\n",
       "</div>"
      ],
      "text/plain": [
       "  id        BMI  Weight  Gender  Age           NObeyesdad  \\\n",
       "0  1  24.386526    64.0  female   21        normal_weight   \n",
       "1  2  24.238227    56.0  female   21        normal_weight   \n",
       "2  3  23.765432    77.0    male   23        normal_weight   \n",
       "3  4  26.851852    87.0    male   27   overweight_level_i   \n",
       "4  5  28.342381    90.0    male   22  overweight_level_ii   \n",
       "\n",
       "  family_history_with_overweight  \n",
       "0                            yes  \n",
       "1                            yes  \n",
       "2                            yes  \n",
       "3                             no  \n",
       "4                             no  "
      ]
     },
     "execution_count": 70,
     "metadata": {},
     "output_type": "execute_result"
    }
   ],
   "source": [
    "cleanedUsers.head()"
   ]
  },
  {
   "cell_type": "markdown",
   "metadata": {},
   "source": [
    "Memisahkan Kategori Kolom\n"
   ]
  },
  {
   "cell_type": "code",
   "execution_count": 71,
   "metadata": {},
   "outputs": [],
   "source": [
    "# Kolom Kategorikal\n",
    "catUsersFeatures = ['Gender', 'NObeyesdad', 'family_history_with_overweight']"
   ]
  },
  {
   "cell_type": "markdown",
   "metadata": {},
   "source": [
    "1. Olah Categorical Features"
   ]
  },
  {
   "cell_type": "code",
   "execution_count": 72,
   "metadata": {},
   "outputs": [],
   "source": [
    "def featuresExtractDiet(feature, data=cleanedUsers):\n",
    "\n",
    "    count = data[feature].value_counts()\n",
    "    percent = 100 * data[feature].value_counts(normalize=True)   \n",
    "    df = pd.DataFrame({\n",
    "        'Jumlah sampel':count, \n",
    "        'Persentase':percent.round(1)\n",
    "    })\n",
    "    print(df)\n",
    "    \n",
    "    rot = 0\n",
    "    if feature == 'NObeyesdad':\n",
    "        rot=45\n",
    "    count.plot(kind='bar', title='Jumlah Kolom ' + feature, rot=rot)"
   ]
  },
  {
   "cell_type": "markdown",
   "metadata": {},
   "source": [
    "Kolom Gender"
   ]
  },
  {
   "cell_type": "code",
   "execution_count": 73,
   "metadata": {},
   "outputs": [
    {
     "name": "stdout",
     "output_type": "stream",
     "text": [
      "        Jumlah sampel  Persentase\n",
      "Gender                           \n",
      "male             1003        51.4\n",
      "female            947        48.6\n"
     ]
    },
    {
     "data": {
      "image/png": "[encoded data removed]",
      "text/plain": [
       "<Figure size 640x480 with 1 Axes>"
      ]
     },
     "metadata": {},
     "output_type": "display_data"
    }
   ],
   "source": [
    "feature = catUsersFeatures[0]\n",
    "featuresExtractDiet(feature)\n",
    "plt.savefig('assets/users/uni-gender.png')"
   ]
  },
  {
   "cell_type": "markdown",
   "metadata": {},
   "source": [
    "Kolom NObeyesdad"
   ]
  },
  {
   "cell_type": "code",
   "execution_count": 74,
   "metadata": {},
   "outputs": [
    {
     "name": "stdout",
     "output_type": "stream",
     "text": [
      "                     Jumlah sampel  Persentase\n",
      "NObeyesdad                                    \n",
      "obesity_type_iii               323        16.6\n",
      "obesity_type_i                 283        14.5\n",
      "normal_weight                  280        14.4\n",
      "overweight_level_i             271        13.9\n",
      "insufficient_weight            271        13.9\n",
      "obesity_type_ii                268        13.7\n",
      "overweight_level_ii            254        13.0\n"
     ]
    },
    {
     "data": {
      "image/png": "[encoded data removed]",
      "text/plain": [
       "<Figure size 640x480 with 1 Axes>"
      ]
     },
     "metadata": {},
     "output_type": "display_data"
    }
   ],
   "source": [
    "feature = catUsersFeatures[1]\n",
    "featuresExtractDiet(feature)\n",
    "plt.savefig('assets/users/uni-nobeyesdad.png')"
   ]
  },
  {
   "cell_type": "markdown",
   "metadata": {},
   "source": [
    "Kolom family_history_with_overweight"
   ]
  },
  {
   "cell_type": "code",
   "execution_count": 75,
   "metadata": {},
   "outputs": [
    {
     "name": "stdout",
     "output_type": "stream",
     "text": [
      "                                Jumlah sampel  Persentase\n",
      "family_history_with_overweight                           \n",
      "yes                                      1578        80.9\n",
      "no                                        372        19.1\n"
     ]
    },
    {
     "data": {
      "image/png": "[encoded data removed]",
      "text/plain": [
       "<Figure size 640x480 with 1 Axes>"
      ]
     },
     "metadata": {},
     "output_type": "display_data"
    }
   ],
   "source": [
    "feature = catUsersFeatures[2]\n",
    "featuresExtractDiet(feature)\n",
    "plt.savefig('assets/users/uni-family.png')"
   ]
  },
  {
   "cell_type": "markdown",
   "metadata": {},
   "source": [
    "2. Olah Numerical Features"
   ]
  },
  {
   "cell_type": "code",
   "execution_count": 76,
   "metadata": {},
   "outputs": [
    {
     "data": {
      "image/png": "[encoded data removed]",
      "text/plain": [
       "<Figure size 1300x1000 with 4 Axes>"
      ]
     },
     "metadata": {},
     "output_type": "display_data"
    }
   ],
   "source": [
    "cleanedUsers.hist(bins=35, figsize=(13,10))\n",
    "plt.savefig('assets/users/uni-numerical.png')\n",
    "plt.show()"
   ]
  },
  {
   "cell_type": "markdown",
   "metadata": {},
   "source": [
    "Dari hasil pemetaan kolom numerik di atas, dapat disimpulkan bahwa:\n",
    "1. Kolom BMI\n",
    "   - Pada kolom BMI persebaran banyak data cenderung rata. Dengan perolehan banyak data terbanyak ada di kisaran angka 18.\n",
    "    - Banyak BMI terendah ada di angka 50.\n",
    "2. Kolom Weight\n",
    "   - Pada kolom Weight persebaran banyak data cenderung miring ke kanan (*right-skewed*). Dengan perolehan banyak data terbanyak ada di kisaran angka 50 dan 80.\n",
    "    - Banyak angka terendah ada di kisaran angka 140 - 160.\n",
    "3. Kolom Age\n",
    "   - Pada kolom Age persebaran banyak data cenderung miring ke kanan (*right-skewed*). \n",
    "   - Banyak data terbanyak ada pada angka 21.\n",
    "   - Banyak data terendah ada di kisaran angka 28 - 35."
   ]
  },
  {
   "cell_type": "markdown",
   "metadata": {},
   "source": [
    "# Data Preparation"
   ]
  },
  {
   "cell_type": "markdown",
   "metadata": {},
   "source": [
    "## Pengecekan dan Penyimpulan *Missing Value* Ulang"
   ]
  },
  {
   "cell_type": "markdown",
   "metadata": {},
   "source": [
    "### Data Diet"
   ]
  },
  {
   "cell_type": "code",
   "execution_count": 77,
   "metadata": {},
   "outputs": [
    {
     "data": {
      "text/plain": [
       "Diet_type       0\n",
       "Recipe_name     0\n",
       "Cuisine_type    0\n",
       "Protein(g)      0\n",
       "Carbs(g)        0\n",
       "Fat(g)          0\n",
       "dtype: int64"
      ]
     },
     "execution_count": 77,
     "metadata": {},
     "output_type": "execute_result"
    }
   ],
   "source": [
    "cleanedDiets.isnull().sum()"
   ]
  },
  {
   "cell_type": "markdown",
   "metadata": {},
   "source": [
    "### Data *Users*"
   ]
  },
  {
   "cell_type": "code",
   "execution_count": 78,
   "metadata": {},
   "outputs": [
    {
     "data": {
      "text/plain": [
       "id                                0\n",
       "BMI                               0\n",
       "Weight                            0\n",
       "Gender                            0\n",
       "Age                               0\n",
       "NObeyesdad                        0\n",
       "family_history_with_overweight    0\n",
       "dtype: int64"
      ]
     },
     "execution_count": 78,
     "metadata": {},
     "output_type": "execute_result"
    }
   ],
   "source": [
    "cleanedUsers.isnull().sum()"
   ]
  },
  {
   "cell_type": "markdown",
   "metadata": {},
   "source": [
    "Dari hasil inspeksi lanjutan di atas, sudah tidak ada data *null* yang terkandung di dalam kedua dataset meskipun telah melalui banyak langkah pemrosesan. Dapat disimpulkan bahwa data sudah baik."
   ]
  },
  {
   "cell_type": "markdown",
   "metadata": {},
   "source": [
    "## Mengurutkan Data Berdasarkan Kategori Tertentu\n"
   ]
  },
  {
   "cell_type": "markdown",
   "metadata": {},
   "source": [
    "### Data Diet\n",
    "\n",
    "Pengurutan dilakukan pada nilai kategori diet dan tipe masakan."
   ]
  },
  {
   "cell_type": "code",
   "execution_count": 79,
   "metadata": {},
   "outputs": [],
   "source": [
    "fixDiet = cleanedDiets.sort_values(['Diet_type', 'Cuisine_type'], ascending=True)"
   ]
  },
  {
   "cell_type": "code",
   "execution_count": 80,
   "metadata": {},
   "outputs": [
    {
     "data": {
      "text/html": [
       "<div>\n",
       "<style scoped>\n",
       "    .dataframe tbody tr th:only-of-type {\n",
       "        vertical-align: middle;\n",
       "    }\n",
       "\n",
       "    .dataframe tbody tr th {\n",
       "        vertical-align: top;\n",
       "    }\n",
       "\n",
       "    .dataframe thead th {\n",
       "        text-align: right;\n",
       "    }\n",
       "</style>\n",
       "<table border=\"1\" class=\"dataframe\">\n",
       "  <thead>\n",
       "    <tr style=\"text-align: right;\">\n",
       "      <th></th>\n",
       "      <th>Diet_type</th>\n",
       "      <th>Recipe_name</th>\n",
       "      <th>Cuisine_type</th>\n",
       "      <th>Protein(g)</th>\n",
       "      <th>Carbs(g)</th>\n",
       "      <th>Fat(g)</th>\n",
       "    </tr>\n",
       "  </thead>\n",
       "  <tbody>\n",
       "    <tr>\n",
       "      <th>6061</th>\n",
       "      <td>dash</td>\n",
       "      <td>100-Mile Dash</td>\n",
       "      <td>american</td>\n",
       "      <td>1.90</td>\n",
       "      <td>236.76</td>\n",
       "      <td>1.02</td>\n",
       "    </tr>\n",
       "    <tr>\n",
       "      <th>6063</th>\n",
       "      <td>dash</td>\n",
       "      <td>Garlicky Wilted Kale (With A Dash Of Nutmeg)</td>\n",
       "      <td>american</td>\n",
       "      <td>29.41</td>\n",
       "      <td>75.78</td>\n",
       "      <td>47.80</td>\n",
       "    </tr>\n",
       "    <tr>\n",
       "      <th>6065</th>\n",
       "      <td>dash</td>\n",
       "      <td>Three Dots And A Dash</td>\n",
       "      <td>american</td>\n",
       "      <td>0.51</td>\n",
       "      <td>139.67</td>\n",
       "      <td>0.00</td>\n",
       "    </tr>\n",
       "    <tr>\n",
       "      <th>6068</th>\n",
       "      <td>dash</td>\n",
       "      <td>Aztec Chocolate Bark</td>\n",
       "      <td>american</td>\n",
       "      <td>34.28</td>\n",
       "      <td>227.68</td>\n",
       "      <td>134.18</td>\n",
       "    </tr>\n",
       "    <tr>\n",
       "      <th>6070</th>\n",
       "      <td>dash</td>\n",
       "      <td>Spaghetti Squash With Maple Syrup And Shallots...</td>\n",
       "      <td>american</td>\n",
       "      <td>8.54</td>\n",
       "      <td>128.66</td>\n",
       "      <td>39.43</td>\n",
       "    </tr>\n",
       "  </tbody>\n",
       "</table>\n",
       "</div>"
      ],
      "text/plain": [
       "     Diet_type                                        Recipe_name  \\\n",
       "6061      dash                                      100-Mile Dash   \n",
       "6063      dash       Garlicky Wilted Kale (With A Dash Of Nutmeg)   \n",
       "6065      dash                              Three Dots And A Dash   \n",
       "6068      dash                               Aztec Chocolate Bark   \n",
       "6070      dash  Spaghetti Squash With Maple Syrup And Shallots...   \n",
       "\n",
       "     Cuisine_type  Protein(g)  Carbs(g)  Fat(g)  \n",
       "6061     american        1.90    236.76    1.02  \n",
       "6063     american       29.41     75.78   47.80  \n",
       "6065     american        0.51    139.67    0.00  \n",
       "6068     american       34.28    227.68  134.18  \n",
       "6070     american        8.54    128.66   39.43  "
      ]
     },
     "execution_count": 80,
     "metadata": {},
     "output_type": "execute_result"
    }
   ],
   "source": [
    "fixDiet.head()"
   ]
  },
  {
   "cell_type": "markdown",
   "metadata": {},
   "source": [
    "Saat ini data sudah diurutkan berdasarkan kedua fitur tersebut."
   ]
  },
  {
   "cell_type": "markdown",
   "metadata": {},
   "source": [
    "### Data *Users*\n",
    "\n",
    "Data diurutkan berdasarkan tipe berat badan."
   ]
  },
  {
   "cell_type": "code",
   "execution_count": 81,
   "metadata": {},
   "outputs": [],
   "source": [
    "fixUsers = cleanedUsers.sort_values('NObeyesdad', ascending=True)"
   ]
  },
  {
   "cell_type": "code",
   "execution_count": 82,
   "metadata": {},
   "outputs": [
    {
     "data": {
      "text/html": [
       "<div>\n",
       "<style scoped>\n",
       "    .dataframe tbody tr th:only-of-type {\n",
       "        vertical-align: middle;\n",
       "    }\n",
       "\n",
       "    .dataframe tbody tr th {\n",
       "        vertical-align: top;\n",
       "    }\n",
       "\n",
       "    .dataframe thead th {\n",
       "        text-align: right;\n",
       "    }\n",
       "</style>\n",
       "<table border=\"1\" class=\"dataframe\">\n",
       "  <thead>\n",
       "    <tr style=\"text-align: right;\">\n",
       "      <th></th>\n",
       "      <th>id</th>\n",
       "      <th>BMI</th>\n",
       "      <th>Weight</th>\n",
       "      <th>Gender</th>\n",
       "      <th>Age</th>\n",
       "      <th>NObeyesdad</th>\n",
       "      <th>family_history_with_overweight</th>\n",
       "    </tr>\n",
       "  </thead>\n",
       "  <tbody>\n",
       "    <tr>\n",
       "      <th>740</th>\n",
       "      <td>741</td>\n",
       "      <td>17.904117</td>\n",
       "      <td>42.0</td>\n",
       "      <td>female</td>\n",
       "      <td>19</td>\n",
       "      <td>insufficient_weight</td>\n",
       "      <td>no</td>\n",
       "    </tr>\n",
       "    <tr>\n",
       "      <th>581</th>\n",
       "      <td>582</td>\n",
       "      <td>17.190859</td>\n",
       "      <td>59.0</td>\n",
       "      <td>male</td>\n",
       "      <td>19</td>\n",
       "      <td>insufficient_weight</td>\n",
       "      <td>yes</td>\n",
       "    </tr>\n",
       "    <tr>\n",
       "      <th>580</th>\n",
       "      <td>581</td>\n",
       "      <td>17.814455</td>\n",
       "      <td>59.0</td>\n",
       "      <td>male</td>\n",
       "      <td>17</td>\n",
       "      <td>insufficient_weight</td>\n",
       "      <td>yes</td>\n",
       "    </tr>\n",
       "    <tr>\n",
       "      <th>579</th>\n",
       "      <td>580</td>\n",
       "      <td>17.390428</td>\n",
       "      <td>59.0</td>\n",
       "      <td>male</td>\n",
       "      <td>17</td>\n",
       "      <td>insufficient_weight</td>\n",
       "      <td>yes</td>\n",
       "    </tr>\n",
       "    <tr>\n",
       "      <th>578</th>\n",
       "      <td>579</td>\n",
       "      <td>17.921313</td>\n",
       "      <td>42.0</td>\n",
       "      <td>female</td>\n",
       "      <td>19</td>\n",
       "      <td>insufficient_weight</td>\n",
       "      <td>no</td>\n",
       "    </tr>\n",
       "  </tbody>\n",
       "</table>\n",
       "</div>"
      ],
      "text/plain": [
       "      id        BMI  Weight  Gender  Age           NObeyesdad  \\\n",
       "740  741  17.904117    42.0  female   19  insufficient_weight   \n",
       "581  582  17.190859    59.0    male   19  insufficient_weight   \n",
       "580  581  17.814455    59.0    male   17  insufficient_weight   \n",
       "579  580  17.390428    59.0    male   17  insufficient_weight   \n",
       "578  579  17.921313    42.0  female   19  insufficient_weight   \n",
       "\n",
       "    family_history_with_overweight  \n",
       "740                             no  \n",
       "581                            yes  \n",
       "580                            yes  \n",
       "579                            yes  \n",
       "578                             no  "
      ]
     },
     "execution_count": 82,
     "metadata": {},
     "output_type": "execute_result"
    }
   ],
   "source": [
    "fixUsers.head()"
   ]
  },
  {
   "cell_type": "markdown",
   "metadata": {},
   "source": [
    "Saat ini data sudah diurutkan berdasarkan jenis berat badan."
   ]
  },
  {
   "cell_type": "markdown",
   "metadata": {},
   "source": [
    "## Pengecekan dan Penyimpulan Data Duplikat Ulang\n",
    "\n",
    "Setelah dilakukan pengurutan, perlu memastikan bahwa data yang diloloskan harus merupakan data unik"
   ]
  },
  {
   "cell_type": "markdown",
   "metadata": {},
   "source": [
    "### Data Diet\n",
    "\n",
    "Pengecekan data duplikat dilakukan pada fitur resep makanan"
   ]
  },
  {
   "cell_type": "code",
   "execution_count": 83,
   "metadata": {},
   "outputs": [
    {
     "data": {
      "text/plain": [
       "(5960, 6)"
      ]
     },
     "execution_count": 83,
     "metadata": {},
     "output_type": "execute_result"
    }
   ],
   "source": [
    "fixDiet.shape"
   ]
  },
  {
   "cell_type": "code",
   "execution_count": 84,
   "metadata": {},
   "outputs": [
    {
     "data": {
      "text/plain": [
       "590"
      ]
     },
     "execution_count": 84,
     "metadata": {},
     "output_type": "execute_result"
    }
   ],
   "source": [
    "fixDiet['Recipe_name'].duplicated().sum()"
   ]
  },
  {
   "cell_type": "markdown",
   "metadata": {},
   "source": [
    "Terlihat ada data duplikat yang ada didalam dataset diet. Selanjutnya adalah melakukan proses penghapusan data duplikat pada data resep makanan."
   ]
  },
  {
   "cell_type": "code",
   "execution_count": 85,
   "metadata": {},
   "outputs": [],
   "source": [
    "fixDiet = fixDiet.drop_duplicates('Recipe_name')"
   ]
  },
  {
   "cell_type": "code",
   "execution_count": 86,
   "metadata": {},
   "outputs": [
    {
     "data": {
      "text/plain": [
       "(5370, 6)"
      ]
     },
     "execution_count": 86,
     "metadata": {},
     "output_type": "execute_result"
    }
   ],
   "source": [
    "fixDiet.shape"
   ]
  },
  {
   "cell_type": "markdown",
   "metadata": {},
   "source": [
    "Setelah dilakukan penghapusan data duplikat, banyak baris data menjadi berkurang. Tetapi masih cukup untuk dilakukan *modeling*."
   ]
  },
  {
   "cell_type": "markdown",
   "metadata": {},
   "source": [
    "### Data User\n",
    "\n",
    "Pengecekan data duplikat dilakukan pada fitur ID"
   ]
  },
  {
   "cell_type": "code",
   "execution_count": 87,
   "metadata": {},
   "outputs": [
    {
     "data": {
      "text/plain": [
       "(1950, 7)"
      ]
     },
     "execution_count": 87,
     "metadata": {},
     "output_type": "execute_result"
    }
   ],
   "source": [
    "fixUsers.shape"
   ]
  },
  {
   "cell_type": "code",
   "execution_count": 88,
   "metadata": {},
   "outputs": [
    {
     "data": {
      "text/plain": [
       "0"
      ]
     },
     "execution_count": 88,
     "metadata": {},
     "output_type": "execute_result"
    }
   ],
   "source": [
    "fixUsers['id'].duplicated().sum()"
   ]
  },
  {
   "cell_type": "markdown",
   "metadata": {},
   "source": [
    "Setelah dilakukan pengecekan data duplikat pada fitur **id**, terlihat sudah tidak ada data duplikat disana. Maka tidak perlu dilakukan proses penghapusan data duplikat."
   ]
  },
  {
   "cell_type": "markdown",
   "metadata": {},
   "source": [
    "## Rekonstruksi Urutan Kolom\n",
    "\n",
    "Yang dilakukan pada tahap ini adalah mengubah urutan kolom pada setiap dataset menjadi lebih mudah dilihat, dan mengubah penamaan yang tidak konsisten agar lebih rapi. Selain itu, juga membuat sebuah fitur baru yang merupakan hasil penggabungan fitur-fitur penting agar dapat dilakukan proses rekomendasi. Dan juga menambahkan nilai ID pada setiap data tipe diet dan detailnya."
   ]
  },
  {
   "cell_type": "markdown",
   "metadata": {},
   "source": [
    "### Data Diet\n"
   ]
  },
  {
   "cell_type": "code",
   "execution_count": 89,
   "metadata": {},
   "outputs": [],
   "source": [
    "# id\n",
    "idDiet = range(1, fixDiet.shape[0] + 1)\n",
    "\n",
    "# Tipe Diet\n",
    "dietName = fixDiet['Diet_type'].tolist()\n",
    "\n",
    "# Nama Resep\n",
    "recipeName = fixDiet['Recipe_name'].tolist()\n",
    "# Jenis Masakan\n",
    "cuisineType = fixDiet['Cuisine_type'].tolist()\n",
    "\n",
    "# Kadar Protein\n",
    "protein = fixDiet['Protein(g)'].tolist()\n",
    "\n",
    "# Kadar Karbohidrat\n",
    "carbs = fixDiet['Carbs(g)'].tolist()\n",
    "\n",
    "# Kadar Lemak\n",
    "fat = fixDiet['Fat(g)'].tolist()\n",
    "\n",
    "# Gabungan Fitur Diet, Nama Resep, dan Jenis Masakan\n",
    "mixedFeature = fixDiet['Diet_type'] + ' ' + fixDiet['Recipe_name'] + ' ' + fixDiet['Cuisine_type']\n"
   ]
  },
  {
   "cell_type": "code",
   "execution_count": 90,
   "metadata": {},
   "outputs": [],
   "source": [
    "dietDf = pd.DataFrame({\n",
    "    'id_diet': idDiet,\n",
    "    'tipe_diet': dietName,\n",
    "    'tipe_masakan': cuisineType,\n",
    "    'resep_masakan': recipeName,\n",
    "    'kadar_protein': protein,\n",
    "    'kadar_karbo': carbs,\n",
    "    'kadar_lemak': fat,\n",
    "    'fitur_tfidf': mixedFeature\n",
    "})"
   ]
  },
  {
   "cell_type": "code",
   "execution_count": 91,
   "metadata": {},
   "outputs": [
    {
     "data": {
      "text/html": [
       "<div>\n",
       "<style scoped>\n",
       "    .dataframe tbody tr th:only-of-type {\n",
       "        vertical-align: middle;\n",
       "    }\n",
       "\n",
       "    .dataframe tbody tr th {\n",
       "        vertical-align: top;\n",
       "    }\n",
       "\n",
       "    .dataframe thead th {\n",
       "        text-align: right;\n",
       "    }\n",
       "</style>\n",
       "<table border=\"1\" class=\"dataframe\">\n",
       "  <thead>\n",
       "    <tr style=\"text-align: right;\">\n",
       "      <th></th>\n",
       "      <th>id_diet</th>\n",
       "      <th>tipe_diet</th>\n",
       "      <th>tipe_masakan</th>\n",
       "      <th>resep_masakan</th>\n",
       "      <th>kadar_protein</th>\n",
       "      <th>kadar_karbo</th>\n",
       "      <th>kadar_lemak</th>\n",
       "      <th>fitur_tfidf</th>\n",
       "    </tr>\n",
       "  </thead>\n",
       "  <tbody>\n",
       "    <tr>\n",
       "      <th>6061</th>\n",
       "      <td>1</td>\n",
       "      <td>dash</td>\n",
       "      <td>american</td>\n",
       "      <td>100-Mile Dash</td>\n",
       "      <td>1.90</td>\n",
       "      <td>236.76</td>\n",
       "      <td>1.02</td>\n",
       "      <td>dash 100-Mile Dash american</td>\n",
       "    </tr>\n",
       "    <tr>\n",
       "      <th>6063</th>\n",
       "      <td>2</td>\n",
       "      <td>dash</td>\n",
       "      <td>american</td>\n",
       "      <td>Garlicky Wilted Kale (With A Dash Of Nutmeg)</td>\n",
       "      <td>29.41</td>\n",
       "      <td>75.78</td>\n",
       "      <td>47.80</td>\n",
       "      <td>dash Garlicky Wilted Kale (With A Dash Of Nutm...</td>\n",
       "    </tr>\n",
       "    <tr>\n",
       "      <th>6065</th>\n",
       "      <td>3</td>\n",
       "      <td>dash</td>\n",
       "      <td>american</td>\n",
       "      <td>Three Dots And A Dash</td>\n",
       "      <td>0.51</td>\n",
       "      <td>139.67</td>\n",
       "      <td>0.00</td>\n",
       "      <td>dash Three Dots And A Dash american</td>\n",
       "    </tr>\n",
       "    <tr>\n",
       "      <th>6068</th>\n",
       "      <td>4</td>\n",
       "      <td>dash</td>\n",
       "      <td>american</td>\n",
       "      <td>Aztec Chocolate Bark</td>\n",
       "      <td>34.28</td>\n",
       "      <td>227.68</td>\n",
       "      <td>134.18</td>\n",
       "      <td>dash Aztec Chocolate Bark american</td>\n",
       "    </tr>\n",
       "    <tr>\n",
       "      <th>6070</th>\n",
       "      <td>5</td>\n",
       "      <td>dash</td>\n",
       "      <td>american</td>\n",
       "      <td>Spaghetti Squash With Maple Syrup And Shallots...</td>\n",
       "      <td>8.54</td>\n",
       "      <td>128.66</td>\n",
       "      <td>39.43</td>\n",
       "      <td>dash Spaghetti Squash With Maple Syrup And Sha...</td>\n",
       "    </tr>\n",
       "  </tbody>\n",
       "</table>\n",
       "</div>"
      ],
      "text/plain": [
       "      id_diet tipe_diet tipe_masakan  \\\n",
       "6061        1      dash     american   \n",
       "6063        2      dash     american   \n",
       "6065        3      dash     american   \n",
       "6068        4      dash     american   \n",
       "6070        5      dash     american   \n",
       "\n",
       "                                          resep_masakan  kadar_protein  \\\n",
       "6061                                      100-Mile Dash           1.90   \n",
       "6063       Garlicky Wilted Kale (With A Dash Of Nutmeg)          29.41   \n",
       "6065                              Three Dots And A Dash           0.51   \n",
       "6068                               Aztec Chocolate Bark          34.28   \n",
       "6070  Spaghetti Squash With Maple Syrup And Shallots...           8.54   \n",
       "\n",
       "      kadar_karbo  kadar_lemak  \\\n",
       "6061       236.76         1.02   \n",
       "6063        75.78        47.80   \n",
       "6065       139.67         0.00   \n",
       "6068       227.68       134.18   \n",
       "6070       128.66        39.43   \n",
       "\n",
       "                                            fitur_tfidf  \n",
       "6061                        dash 100-Mile Dash american  \n",
       "6063  dash Garlicky Wilted Kale (With A Dash Of Nutm...  \n",
       "6065                dash Three Dots And A Dash american  \n",
       "6068                 dash Aztec Chocolate Bark american  \n",
       "6070  dash Spaghetti Squash With Maple Syrup And Sha...  "
      ]
     },
     "execution_count": 91,
     "metadata": {},
     "output_type": "execute_result"
    }
   ],
   "source": [
    "dietDf.head()"
   ]
  },
  {
   "cell_type": "markdown",
   "metadata": {},
   "source": [
    "### Data *Users*"
   ]
  },
  {
   "cell_type": "code",
   "execution_count": 92,
   "metadata": {},
   "outputs": [],
   "source": [
    "# id\n",
    "idUser = fixUsers['id'].tolist()\n",
    "\n",
    "# Jumlah BMI\n",
    "bmi = fixUsers['BMI'].tolist()\n",
    "\n",
    "# Berat Badan\n",
    "weight = fixUsers['Weight'].tolist()\n",
    "\n",
    "# Jenis Kelamin\n",
    "gender = fixUsers['Gender'].tolist()\n",
    "\n",
    "# Usia\n",
    "age = fixUsers['Age'].tolist()\n",
    "\n",
    "# Tipe Obesitas\n",
    "obesityType = fixUsers['NObeyesdad'].tolist()\n",
    "\n",
    "# Riwayat Keluarga Obesitas\n",
    "historyFam = fixUsers['family_history_with_overweight'].tolist()"
   ]
  },
  {
   "cell_type": "code",
   "execution_count": 93,
   "metadata": {},
   "outputs": [],
   "source": [
    "userDf = pd.DataFrame({\n",
    "    'id_user': idUser,\n",
    "    'jenis_kelamin': gender,\n",
    "    'usia': age,\n",
    "    'tipe_berat_badan': obesityType,\n",
    "    'BMI': bmi,\n",
    "    'berat_badan': weight,\n",
    "    'keturunan_obesitas': historyFam\n",
    "})"
   ]
  },
  {
   "cell_type": "code",
   "execution_count": 94,
   "metadata": {},
   "outputs": [
    {
     "data": {
      "text/html": [
       "<div>\n",
       "<style scoped>\n",
       "    .dataframe tbody tr th:only-of-type {\n",
       "        vertical-align: middle;\n",
       "    }\n",
       "\n",
       "    .dataframe tbody tr th {\n",
       "        vertical-align: top;\n",
       "    }\n",
       "\n",
       "    .dataframe thead th {\n",
       "        text-align: right;\n",
       "    }\n",
       "</style>\n",
       "<table border=\"1\" class=\"dataframe\">\n",
       "  <thead>\n",
       "    <tr style=\"text-align: right;\">\n",
       "      <th></th>\n",
       "      <th>id_user</th>\n",
       "      <th>jenis_kelamin</th>\n",
       "      <th>usia</th>\n",
       "      <th>tipe_berat_badan</th>\n",
       "      <th>BMI</th>\n",
       "      <th>berat_badan</th>\n",
       "      <th>keturunan_obesitas</th>\n",
       "    </tr>\n",
       "  </thead>\n",
       "  <tbody>\n",
       "    <tr>\n",
       "      <th>0</th>\n",
       "      <td>741</td>\n",
       "      <td>female</td>\n",
       "      <td>19</td>\n",
       "      <td>insufficient_weight</td>\n",
       "      <td>17.904117</td>\n",
       "      <td>42.0</td>\n",
       "      <td>no</td>\n",
       "    </tr>\n",
       "    <tr>\n",
       "      <th>1</th>\n",
       "      <td>582</td>\n",
       "      <td>male</td>\n",
       "      <td>19</td>\n",
       "      <td>insufficient_weight</td>\n",
       "      <td>17.190859</td>\n",
       "      <td>59.0</td>\n",
       "      <td>yes</td>\n",
       "    </tr>\n",
       "    <tr>\n",
       "      <th>2</th>\n",
       "      <td>581</td>\n",
       "      <td>male</td>\n",
       "      <td>17</td>\n",
       "      <td>insufficient_weight</td>\n",
       "      <td>17.814455</td>\n",
       "      <td>59.0</td>\n",
       "      <td>yes</td>\n",
       "    </tr>\n",
       "    <tr>\n",
       "      <th>3</th>\n",
       "      <td>580</td>\n",
       "      <td>male</td>\n",
       "      <td>17</td>\n",
       "      <td>insufficient_weight</td>\n",
       "      <td>17.390428</td>\n",
       "      <td>59.0</td>\n",
       "      <td>yes</td>\n",
       "    </tr>\n",
       "    <tr>\n",
       "      <th>4</th>\n",
       "      <td>579</td>\n",
       "      <td>female</td>\n",
       "      <td>19</td>\n",
       "      <td>insufficient_weight</td>\n",
       "      <td>17.921313</td>\n",
       "      <td>42.0</td>\n",
       "      <td>no</td>\n",
       "    </tr>\n",
       "  </tbody>\n",
       "</table>\n",
       "</div>"
      ],
      "text/plain": [
       "  id_user jenis_kelamin  usia     tipe_berat_badan        BMI  berat_badan  \\\n",
       "0     741        female    19  insufficient_weight  17.904117         42.0   \n",
       "1     582          male    19  insufficient_weight  17.190859         59.0   \n",
       "2     581          male    17  insufficient_weight  17.814455         59.0   \n",
       "3     580          male    17  insufficient_weight  17.390428         59.0   \n",
       "4     579        female    19  insufficient_weight  17.921313         42.0   \n",
       "\n",
       "  keturunan_obesitas  \n",
       "0                 no  \n",
       "1                yes  \n",
       "2                yes  \n",
       "3                yes  \n",
       "4                 no  "
      ]
     },
     "execution_count": 94,
     "metadata": {},
     "output_type": "execute_result"
    }
   ],
   "source": [
    "userDf.head()"
   ]
  },
  {
   "cell_type": "markdown",
   "metadata": {},
   "source": [
    "# Model Development"
   ]
  },
  {
   "cell_type": "markdown",
   "metadata": {},
   "source": [
    "## Content-based Filtering\n",
    "\n",
    "Pada tahap *model development* pada **Content-based Filtering** ini, akan dilakukan pemodelan sistem rekomendasi berdasarkan jenis atau tipe diet  beserta jenis masakannya. Maka dari itu, data yang digunakan adalah **data diet**. Hal-hal yang perlu dipersiapkan adalah sebagai berikut:"
   ]
  },
  {
   "cell_type": "markdown",
   "metadata": {},
   "source": [
    "### TF-IDF Vectorizer\n",
    "\n",
    "Penerapan fungsi ini ditujukan untuk mencari nilai vektor sebagai representasi fitur yang digunakan, yaitu fitur **fitur_tfidf**."
   ]
  },
  {
   "cell_type": "markdown",
   "metadata": {},
   "source": [
    "Perhitungan IDF Pada Nilai *Unique*"
   ]
  },
  {
   "cell_type": "code",
   "execution_count": 95,
   "metadata": {},
   "outputs": [],
   "source": [
    "# Pemanggilan TFIDF\n",
    "tfidf = TfidfVectorizer()\n",
    "\n",
    "# Pengambilan nilai unique dari data\n",
    "uniqueValues = dietDf['fitur_tfidf'].unique()\n",
    "\n",
    "# Pengubahan nilai dalam bentuk matriks\n",
    "tfidfMatrix = tfidf.fit_transform(uniqueValues)\n"
   ]
  },
  {
   "cell_type": "markdown",
   "metadata": {},
   "source": [
    "### Pembuatan Fungsi Rekomendasi"
   ]
  },
  {
   "cell_type": "code",
   "execution_count": 96,
   "metadata": {},
   "outputs": [],
   "source": [
    "def getRecommendationsContent(dietType, cuType, nutritionalData, n=10):\n",
    "    # Penggabungan kedua input teks\n",
    "    inputText = f'{dietType} {cuType}'\n",
    "   \n",
    "    # Pengubahan input teks menjadi vektor\n",
    "    tfidf = TfidfVectorizer()\n",
    "    tfidfMatrix = tfidf.fit_transform(dietDf['fitur_tfidf'].unique())\n",
    "    inputTfidf = tfidf.transform([inputText])\n",
    "   \n",
    "    # Pencarian Nilai Similarity dari inputan\n",
    "    simScores = cosine_similarity(inputTfidf, tfidfMatrix).flatten()\n",
    "   \n",
    "    # Reshape nutritional data\n",
    "    nutritionalDfReshaped = nutritionalData.reshape(1, -1)\n",
    "   \n",
    "    # Menambahkan nilai similarity data nutrisi\n",
    "    nutritionalSim = cosine_similarity(nutritionalDfReshaped, dietDf[['kadar_protein', 'kadar_karbo', 'kadar_lemak']].values).flatten() * 2\n",
    "   \n",
    "    # Kombinasi kedua nilai similarity\n",
    "    combinedSim = simScores + nutritionalSim\n",
    "   \n",
    "    # Mengurutkan skor similaritas dari tertinggi ke terendah\n",
    "    sortedScores = combinedSim.argsort()[::-1]\n",
    "   \n",
    "    # Mengambil top n indeks similar\n",
    "    top5Index = sortedScores[:n]\n",
    "   \n",
    "    # Mengambil data dari data asli dengan indeks yang didapatkan\n",
    "    top5Recommend = dietDf.iloc[top5Index].copy() \n",
    "   \n",
    "    # Menghapus Kolom fitur_tfidf\n",
    "    top5Recommend = top5Recommend.drop('fitur_tfidf', axis=1)\n",
    "   \n",
    "    return top5Recommend"
   ]
  },
  {
   "cell_type": "markdown",
   "metadata": {},
   "source": [
    "### Mendapatkan Rekomendasi "
   ]
  },
  {
   "cell_type": "code",
   "execution_count": 99,
   "metadata": {},
   "outputs": [
    {
     "data": {
      "text/html": [
       "<div>\n",
       "<style scoped>\n",
       "    .dataframe tbody tr th:only-of-type {\n",
       "        vertical-align: middle;\n",
       "    }\n",
       "\n",
       "    .dataframe tbody tr th {\n",
       "        vertical-align: top;\n",
       "    }\n",
       "\n",
       "    .dataframe thead th {\n",
       "        text-align: right;\n",
       "    }\n",
       "</style>\n",
       "<table border=\"1\" class=\"dataframe\">\n",
       "  <thead>\n",
       "    <tr style=\"text-align: right;\">\n",
       "      <th></th>\n",
       "      <th>id_diet</th>\n",
       "      <th>tipe_diet</th>\n",
       "      <th>tipe_masakan</th>\n",
       "      <th>resep_masakan</th>\n",
       "      <th>kadar_protein</th>\n",
       "      <th>kadar_karbo</th>\n",
       "      <th>kadar_lemak</th>\n",
       "    </tr>\n",
       "  </thead>\n",
       "  <tbody>\n",
       "    <tr>\n",
       "      <th>4324</th>\n",
       "      <td>2639</td>\n",
       "      <td>mediterranean</td>\n",
       "      <td>mediterranean</td>\n",
       "      <td>Mediterranean Chicken</td>\n",
       "      <td>99.66</td>\n",
       "      <td>116.78</td>\n",
       "      <td>118.14</td>\n",
       "    </tr>\n",
       "    <tr>\n",
       "      <th>4441</th>\n",
       "      <td>2706</td>\n",
       "      <td>mediterranean</td>\n",
       "      <td>mediterranean</td>\n",
       "      <td>Roasted Mediterranean Chicken</td>\n",
       "      <td>166.33</td>\n",
       "      <td>154.45</td>\n",
       "      <td>133.42</td>\n",
       "    </tr>\n",
       "    <tr>\n",
       "      <th>5851</th>\n",
       "      <td>3276</td>\n",
       "      <td>mediterranean</td>\n",
       "      <td>mediterranean</td>\n",
       "      <td>Chicken Mediterranean Recipes</td>\n",
       "      <td>76.68</td>\n",
       "      <td>104.36</td>\n",
       "      <td>49.95</td>\n",
       "    </tr>\n",
       "    <tr>\n",
       "      <th>5210</th>\n",
       "      <td>3043</td>\n",
       "      <td>mediterranean</td>\n",
       "      <td>mediterranean</td>\n",
       "      <td>Mediterranean Chicken Salad Recipes</td>\n",
       "      <td>34.06</td>\n",
       "      <td>54.17</td>\n",
       "      <td>35.91</td>\n",
       "    </tr>\n",
       "    <tr>\n",
       "      <th>4506</th>\n",
       "      <td>2735</td>\n",
       "      <td>mediterranean</td>\n",
       "      <td>mediterranean</td>\n",
       "      <td>Mediterranean Chicken Salad</td>\n",
       "      <td>126.39</td>\n",
       "      <td>137.70</td>\n",
       "      <td>59.16</td>\n",
       "    </tr>\n",
       "    <tr>\n",
       "      <th>5675</th>\n",
       "      <td>3201</td>\n",
       "      <td>mediterranean</td>\n",
       "      <td>mediterranean</td>\n",
       "      <td>Mediterranean Chicken Wrap</td>\n",
       "      <td>41.38</td>\n",
       "      <td>55.18</td>\n",
       "      <td>45.58</td>\n",
       "    </tr>\n",
       "    <tr>\n",
       "      <th>4470</th>\n",
       "      <td>2552</td>\n",
       "      <td>mediterranean</td>\n",
       "      <td>italian</td>\n",
       "      <td>Mediterranean Chicken Pizza</td>\n",
       "      <td>132.19</td>\n",
       "      <td>188.73</td>\n",
       "      <td>117.34</td>\n",
       "    </tr>\n",
       "    <tr>\n",
       "      <th>4602</th>\n",
       "      <td>2794</td>\n",
       "      <td>mediterranean</td>\n",
       "      <td>mediterranean</td>\n",
       "      <td>Mediterranean Grilled Chicken Salad</td>\n",
       "      <td>169.19</td>\n",
       "      <td>99.96</td>\n",
       "      <td>176.90</td>\n",
       "    </tr>\n",
       "    <tr>\n",
       "      <th>4549</th>\n",
       "      <td>2759</td>\n",
       "      <td>mediterranean</td>\n",
       "      <td>mediterranean</td>\n",
       "      <td>Grilled Mediterranean Chicken Salad</td>\n",
       "      <td>156.63</td>\n",
       "      <td>146.77</td>\n",
       "      <td>89.22</td>\n",
       "    </tr>\n",
       "    <tr>\n",
       "      <th>5733</th>\n",
       "      <td>3229</td>\n",
       "      <td>mediterranean</td>\n",
       "      <td>mediterranean</td>\n",
       "      <td>Mediterranean Chicken Focaccia</td>\n",
       "      <td>127.55</td>\n",
       "      <td>186.18</td>\n",
       "      <td>174.71</td>\n",
       "    </tr>\n",
       "  </tbody>\n",
       "</table>\n",
       "</div>"
      ],
      "text/plain": [
       "      id_diet      tipe_diet   tipe_masakan  \\\n",
       "4324     2639  mediterranean  mediterranean   \n",
       "4441     2706  mediterranean  mediterranean   \n",
       "5851     3276  mediterranean  mediterranean   \n",
       "5210     3043  mediterranean  mediterranean   \n",
       "4506     2735  mediterranean  mediterranean   \n",
       "5675     3201  mediterranean  mediterranean   \n",
       "4470     2552  mediterranean        italian   \n",
       "4602     2794  mediterranean  mediterranean   \n",
       "4549     2759  mediterranean  mediterranean   \n",
       "5733     3229  mediterranean  mediterranean   \n",
       "\n",
       "                            resep_masakan  kadar_protein  kadar_karbo  \\\n",
       "4324                Mediterranean Chicken          99.66       116.78   \n",
       "4441        Roasted Mediterranean Chicken         166.33       154.45   \n",
       "5851        Chicken Mediterranean Recipes          76.68       104.36   \n",
       "5210  Mediterranean Chicken Salad Recipes          34.06        54.17   \n",
       "4506          Mediterranean Chicken Salad         126.39       137.70   \n",
       "5675           Mediterranean Chicken Wrap          41.38        55.18   \n",
       "4470          Mediterranean Chicken Pizza         132.19       188.73   \n",
       "4602  Mediterranean Grilled Chicken Salad         169.19        99.96   \n",
       "4549  Grilled Mediterranean Chicken Salad         156.63       146.77   \n",
       "5733       Mediterranean Chicken Focaccia         127.55       186.18   \n",
       "\n",
       "      kadar_lemak  \n",
       "4324       118.14  \n",
       "4441       133.42  \n",
       "5851        49.95  \n",
       "5210        35.91  \n",
       "4506        59.16  \n",
       "5675        45.58  \n",
       "4470       117.34  \n",
       "4602       176.90  \n",
       "4549        89.22  \n",
       "5733       174.71  "
      ]
     },
     "execution_count": 99,
     "metadata": {},
     "output_type": "execute_result"
    }
   ],
   "source": [
    "# Contoh input pengguna\n",
    "dietType = \"mediterranean\"\n",
    "cuType = \"chicken\"\n",
    "nutritionalData = np.array([99.66, 116.78, 118.14])  # Contoh data nutrisi (protein, karbo, lemak)\n",
    "\n",
    "# Memanggil fungsi dengan input pengguna\n",
    "recommendations = getRecommendationsContent(dietType, cuType, nutritionalData, n=10)\n",
    "\n",
    "# Mencetak 5 rekomendasi teratas\n",
    "recommendations\n"
   ]
  }
 ],
 "metadata": {
  "kernelspec": {
   "display_name": "terapan",
   "language": "python",
   "name": "python3"
  },
  "language_info": {
   "codemirror_mode": {
    "name": "ipython",
    "version": 3
   },
   "file_extension": ".py",
   "mimetype": "text/x-python",
   "name": "python",
   "nbconvert_exporter": "python",
   "pygments_lexer": "ipython3",
   "version": "3.11.5"
  }
 },
 "nbformat": 4,
 "nbformat_minor": 2
}
