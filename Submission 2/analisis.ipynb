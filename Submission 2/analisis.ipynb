{
 "cells": [
  {
   "cell_type": "markdown",
   "metadata": {},
   "source": [
    "# Import Library"
   ]
  },
  {
   "cell_type": "code",
   "execution_count": 1,
   "metadata": {},
   "outputs": [
    {
     "name": "stderr",
     "output_type": "stream",
     "text": [
      "C:\\Users\\legion\\AppData\\Local\\Temp\\ipykernel_55488\\3266100752.py:2: DeprecationWarning: \n",
      "Pyarrow will become a required dependency of pandas in the next major release of pandas (pandas 3.0),\n",
      "(to allow more performant data types, such as the Arrow string type, and better interoperability with other libraries)\n",
      "but was not found to be installed on your system.\n",
      "If this would cause problems for you,\n",
      "please provide us feedback at https://github.com/pandas-dev/pandas/issues/54466\n",
      "        \n",
      "  import pandas as pd\n"
     ]
    }
   ],
   "source": [
    "# Olah Data\n",
    "import pandas as pd\n",
    "import numpy as np\n",
    "import matplotlib.pyplot as plt\n",
    "import seaborn as sns"
   ]
  },
  {
   "cell_type": "markdown",
   "metadata": {},
   "source": [
    "# Data Loading"
   ]
  },
  {
   "cell_type": "code",
   "execution_count": 2,
   "metadata": {},
   "outputs": [],
   "source": [
    "# Path \n",
    "allDietsDfPath = 'data/All_Diets.csv'\n",
    "allUsersDfPath = 'data/ObesityDataSet_cleaned_and_data_sinthetic.csv'\n",
    "\n",
    "# Dataset\n",
    "allDietsDf = pd.read_csv(allDietsDfPath)\n",
    "allUsersDf = pd.read_csv(allUsersDfPath)\n"
   ]
  },
  {
   "cell_type": "code",
   "execution_count": 15,
   "metadata": {},
   "outputs": [
    {
     "data": {
      "text/html": [
       "<div>\n",
       "<style scoped>\n",
       "    .dataframe tbody tr th:only-of-type {\n",
       "        vertical-align: middle;\n",
       "    }\n",
       "\n",
       "    .dataframe tbody tr th {\n",
       "        vertical-align: top;\n",
       "    }\n",
       "\n",
       "    .dataframe thead th {\n",
       "        text-align: right;\n",
       "    }\n",
       "</style>\n",
       "<table border=\"1\" class=\"dataframe\">\n",
       "  <thead>\n",
       "    <tr style=\"text-align: right;\">\n",
       "      <th></th>\n",
       "      <th>Diet_type</th>\n",
       "      <th>Recipe_name</th>\n",
       "      <th>Cuisine_type</th>\n",
       "      <th>Protein(g)</th>\n",
       "      <th>Carbs(g)</th>\n",
       "      <th>Fat(g)</th>\n",
       "      <th>Extraction_day</th>\n",
       "      <th>Extraction_time</th>\n",
       "    </tr>\n",
       "  </thead>\n",
       "  <tbody>\n",
       "    <tr>\n",
       "      <th>7290</th>\n",
       "      <td>dash</td>\n",
       "      <td>Spinach-Turkey Roll-Ups</td>\n",
       "      <td>american</td>\n",
       "      <td>28.47</td>\n",
       "      <td>7.15</td>\n",
       "      <td>25.42</td>\n",
       "      <td>2022-10-16</td>\n",
       "      <td>20:37:26</td>\n",
       "    </tr>\n",
       "    <tr>\n",
       "      <th>2790</th>\n",
       "      <td>vegan</td>\n",
       "      <td>Vegan Macaroni Salad</td>\n",
       "      <td>american</td>\n",
       "      <td>30.26</td>\n",
       "      <td>177.35</td>\n",
       "      <td>66.65</td>\n",
       "      <td>2022-10-16</td>\n",
       "      <td>20:13:40</td>\n",
       "    </tr>\n",
       "    <tr>\n",
       "      <th>5418</th>\n",
       "      <td>mediterranean</td>\n",
       "      <td>Mediterranean Salad</td>\n",
       "      <td>mediterranean</td>\n",
       "      <td>13.18</td>\n",
       "      <td>30.07</td>\n",
       "      <td>12.17</td>\n",
       "      <td>2022-10-16</td>\n",
       "      <td>16:49:39</td>\n",
       "    </tr>\n",
       "    <tr>\n",
       "      <th>4667</th>\n",
       "      <td>mediterranean</td>\n",
       "      <td>Mediterranean Tuna Salad with Croutons</td>\n",
       "      <td>mediterranean</td>\n",
       "      <td>123.77</td>\n",
       "      <td>111.23</td>\n",
       "      <td>94.53</td>\n",
       "      <td>2022-10-16</td>\n",
       "      <td>16:45:17</td>\n",
       "    </tr>\n",
       "    <tr>\n",
       "      <th>6576</th>\n",
       "      <td>dash</td>\n",
       "      <td>Tennessee Hollow</td>\n",
       "      <td>world</td>\n",
       "      <td>0.04</td>\n",
       "      <td>1.12</td>\n",
       "      <td>0.00</td>\n",
       "      <td>2022-10-16</td>\n",
       "      <td>20:32:37</td>\n",
       "    </tr>\n",
       "    <tr>\n",
       "      <th>1148</th>\n",
       "      <td>paleo</td>\n",
       "      <td>Grain Free Double Chocolate Banana Bread</td>\n",
       "      <td>american</td>\n",
       "      <td>73.61</td>\n",
       "      <td>224.75</td>\n",
       "      <td>186.62</td>\n",
       "      <td>2022-10-16</td>\n",
       "      <td>17:30:14</td>\n",
       "    </tr>\n",
       "    <tr>\n",
       "      <th>1119</th>\n",
       "      <td>paleo</td>\n",
       "      <td>Paleo Orange Chicken</td>\n",
       "      <td>french</td>\n",
       "      <td>234.69</td>\n",
       "      <td>98.07</td>\n",
       "      <td>97.05</td>\n",
       "      <td>2022-10-16</td>\n",
       "      <td>17:29:54</td>\n",
       "    </tr>\n",
       "    <tr>\n",
       "      <th>1862</th>\n",
       "      <td>vegan</td>\n",
       "      <td>Instant-Pot Vegan Cauliflower Queso</td>\n",
       "      <td>american</td>\n",
       "      <td>27.68</td>\n",
       "      <td>59.25</td>\n",
       "      <td>18.02</td>\n",
       "      <td>2022-10-16</td>\n",
       "      <td>20:06:59</td>\n",
       "    </tr>\n",
       "    <tr>\n",
       "      <th>7730</th>\n",
       "      <td>dash</td>\n",
       "      <td>Jazzed Up Turkey Tetrazzini</td>\n",
       "      <td>american</td>\n",
       "      <td>517.47</td>\n",
       "      <td>575.58</td>\n",
       "      <td>377.75</td>\n",
       "      <td>2022-10-16</td>\n",
       "      <td>20:40:17</td>\n",
       "    </tr>\n",
       "    <tr>\n",
       "      <th>2806</th>\n",
       "      <td>keto</td>\n",
       "      <td>Zucchini Noodles with Spicy Meatballs Recipe</td>\n",
       "      <td>asian</td>\n",
       "      <td>57.79</td>\n",
       "      <td>39.10</td>\n",
       "      <td>86.53</td>\n",
       "      <td>2022-10-16</td>\n",
       "      <td>17:58:03</td>\n",
       "    </tr>\n",
       "  </tbody>\n",
       "</table>\n",
       "</div>"
      ],
      "text/plain": [
       "          Diet_type                                   Recipe_name  \\\n",
       "7290           dash                       Spinach-Turkey Roll-Ups   \n",
       "2790          vegan                          Vegan Macaroni Salad   \n",
       "5418  mediterranean                           Mediterranean Salad   \n",
       "4667  mediterranean        Mediterranean Tuna Salad with Croutons   \n",
       "6576           dash                              Tennessee Hollow   \n",
       "1148          paleo      Grain Free Double Chocolate Banana Bread   \n",
       "1119          paleo                          Paleo Orange Chicken   \n",
       "1862          vegan           Instant-Pot Vegan Cauliflower Queso   \n",
       "7730           dash                   Jazzed Up Turkey Tetrazzini   \n",
       "2806           keto  Zucchini Noodles with Spicy Meatballs Recipe   \n",
       "\n",
       "       Cuisine_type  Protein(g)  Carbs(g)  Fat(g) Extraction_day  \\\n",
       "7290       american       28.47      7.15   25.42     2022-10-16   \n",
       "2790       american       30.26    177.35   66.65     2022-10-16   \n",
       "5418  mediterranean       13.18     30.07   12.17     2022-10-16   \n",
       "4667  mediterranean      123.77    111.23   94.53     2022-10-16   \n",
       "6576          world        0.04      1.12    0.00     2022-10-16   \n",
       "1148       american       73.61    224.75  186.62     2022-10-16   \n",
       "1119         french      234.69     98.07   97.05     2022-10-16   \n",
       "1862       american       27.68     59.25   18.02     2022-10-16   \n",
       "7730       american      517.47    575.58  377.75     2022-10-16   \n",
       "2806          asian       57.79     39.10   86.53     2022-10-16   \n",
       "\n",
       "     Extraction_time  \n",
       "7290        20:37:26  \n",
       "2790        20:13:40  \n",
       "5418        16:49:39  \n",
       "4667        16:45:17  \n",
       "6576        20:32:37  \n",
       "1148        17:30:14  \n",
       "1119        17:29:54  \n",
       "1862        20:06:59  \n",
       "7730        20:40:17  \n",
       "2806        17:58:03  "
      ]
     },
     "execution_count": 15,
     "metadata": {},
     "output_type": "execute_result"
    }
   ],
   "source": [
    "allDietsDf.sample(10)"
   ]
  },
  {
   "cell_type": "code",
   "execution_count": 6,
   "metadata": {},
   "outputs": [
    {
     "data": {
      "text/html": [
       "<div>\n",
       "<style scoped>\n",
       "    .dataframe tbody tr th:only-of-type {\n",
       "        vertical-align: middle;\n",
       "    }\n",
       "\n",
       "    .dataframe tbody tr th {\n",
       "        vertical-align: top;\n",
       "    }\n",
       "\n",
       "    .dataframe thead th {\n",
       "        text-align: right;\n",
       "    }\n",
       "</style>\n",
       "<table border=\"1\" class=\"dataframe\">\n",
       "  <thead>\n",
       "    <tr style=\"text-align: right;\">\n",
       "      <th></th>\n",
       "      <th>id</th>\n",
       "      <th>Gender</th>\n",
       "      <th>Age</th>\n",
       "      <th>Height</th>\n",
       "      <th>Weight</th>\n",
       "      <th>family_history_with_overweight</th>\n",
       "      <th>FAVC</th>\n",
       "      <th>FCVC</th>\n",
       "      <th>NCP</th>\n",
       "      <th>CAEC</th>\n",
       "      <th>SMOKE</th>\n",
       "      <th>CH2O</th>\n",
       "      <th>SCC</th>\n",
       "      <th>FAF</th>\n",
       "      <th>TUE</th>\n",
       "      <th>CALC</th>\n",
       "      <th>MTRANS</th>\n",
       "      <th>NObeyesdad</th>\n",
       "      <th>BMI</th>\n",
       "    </tr>\n",
       "  </thead>\n",
       "  <tbody>\n",
       "    <tr>\n",
       "      <th>0</th>\n",
       "      <td>1</td>\n",
       "      <td>female</td>\n",
       "      <td>21</td>\n",
       "      <td>1.62</td>\n",
       "      <td>64</td>\n",
       "      <td>yes</td>\n",
       "      <td>no</td>\n",
       "      <td>sometimes</td>\n",
       "      <td>3</td>\n",
       "      <td>sometimes</td>\n",
       "      <td>no</td>\n",
       "      <td>between 1 and 2 l</td>\n",
       "      <td>no</td>\n",
       "      <td>0</td>\n",
       "      <td>3 to 5</td>\n",
       "      <td>no</td>\n",
       "      <td>public_transportation</td>\n",
       "      <td>normal_weight</td>\n",
       "      <td>24.386526</td>\n",
       "    </tr>\n",
       "    <tr>\n",
       "      <th>1</th>\n",
       "      <td>2</td>\n",
       "      <td>female</td>\n",
       "      <td>21</td>\n",
       "      <td>1.52</td>\n",
       "      <td>56</td>\n",
       "      <td>yes</td>\n",
       "      <td>no</td>\n",
       "      <td>always</td>\n",
       "      <td>3</td>\n",
       "      <td>sometimes</td>\n",
       "      <td>yes</td>\n",
       "      <td>more than 2 l</td>\n",
       "      <td>yes</td>\n",
       "      <td>4 to 5</td>\n",
       "      <td>0 to 2</td>\n",
       "      <td>sometimes</td>\n",
       "      <td>public_transportation</td>\n",
       "      <td>normal_weight</td>\n",
       "      <td>24.238227</td>\n",
       "    </tr>\n",
       "    <tr>\n",
       "      <th>2</th>\n",
       "      <td>3</td>\n",
       "      <td>male</td>\n",
       "      <td>23</td>\n",
       "      <td>1.80</td>\n",
       "      <td>77</td>\n",
       "      <td>yes</td>\n",
       "      <td>no</td>\n",
       "      <td>sometimes</td>\n",
       "      <td>3</td>\n",
       "      <td>sometimes</td>\n",
       "      <td>no</td>\n",
       "      <td>between 1 and 2 l</td>\n",
       "      <td>no</td>\n",
       "      <td>2 to 4</td>\n",
       "      <td>3 to 5</td>\n",
       "      <td>frequently</td>\n",
       "      <td>public_transportation</td>\n",
       "      <td>normal_weight</td>\n",
       "      <td>23.765432</td>\n",
       "    </tr>\n",
       "    <tr>\n",
       "      <th>3</th>\n",
       "      <td>4</td>\n",
       "      <td>male</td>\n",
       "      <td>27</td>\n",
       "      <td>1.80</td>\n",
       "      <td>87</td>\n",
       "      <td>no</td>\n",
       "      <td>no</td>\n",
       "      <td>always</td>\n",
       "      <td>3</td>\n",
       "      <td>sometimes</td>\n",
       "      <td>no</td>\n",
       "      <td>between 1 and 2 l</td>\n",
       "      <td>no</td>\n",
       "      <td>2 to 4</td>\n",
       "      <td>0 to 2</td>\n",
       "      <td>frequently</td>\n",
       "      <td>walking</td>\n",
       "      <td>overweight_level_i</td>\n",
       "      <td>26.851852</td>\n",
       "    </tr>\n",
       "    <tr>\n",
       "      <th>4</th>\n",
       "      <td>5</td>\n",
       "      <td>male</td>\n",
       "      <td>22</td>\n",
       "      <td>1.78</td>\n",
       "      <td>90</td>\n",
       "      <td>no</td>\n",
       "      <td>no</td>\n",
       "      <td>sometimes</td>\n",
       "      <td>1</td>\n",
       "      <td>sometimes</td>\n",
       "      <td>no</td>\n",
       "      <td>between 1 and 2 l</td>\n",
       "      <td>no</td>\n",
       "      <td>0</td>\n",
       "      <td>0 to 2</td>\n",
       "      <td>sometimes</td>\n",
       "      <td>public_transportation</td>\n",
       "      <td>overweight_level_ii</td>\n",
       "      <td>28.342381</td>\n",
       "    </tr>\n",
       "  </tbody>\n",
       "</table>\n",
       "</div>"
      ],
      "text/plain": [
       "  id  Gender  Age  Height  Weight family_history_with_overweight FAVC  \\\n",
       "0  1  female   21    1.62      64                            yes   no   \n",
       "1  2  female   21    1.52      56                            yes   no   \n",
       "2  3    male   23    1.80      77                            yes   no   \n",
       "3  4    male   27    1.80      87                             no   no   \n",
       "4  5    male   22    1.78      90                             no   no   \n",
       "\n",
       "        FCVC  NCP       CAEC SMOKE               CH2O  SCC     FAF     TUE  \\\n",
       "0  sometimes    3  sometimes    no  between 1 and 2 l   no       0  3 to 5   \n",
       "1     always    3  sometimes   yes      more than 2 l  yes  4 to 5  0 to 2   \n",
       "2  sometimes    3  sometimes    no  between 1 and 2 l   no  2 to 4  3 to 5   \n",
       "3     always    3  sometimes    no  between 1 and 2 l   no  2 to 4  0 to 2   \n",
       "4  sometimes    1  sometimes    no  between 1 and 2 l   no       0  0 to 2   \n",
       "\n",
       "         CALC                 MTRANS           NObeyesdad        BMI  \n",
       "0          no  public_transportation        normal_weight  24.386526  \n",
       "1   sometimes  public_transportation        normal_weight  24.238227  \n",
       "2  frequently  public_transportation        normal_weight  23.765432  \n",
       "3  frequently                walking   overweight_level_i  26.851852  \n",
       "4   sometimes  public_transportation  overweight_level_ii  28.342381  "
      ]
     },
     "execution_count": 6,
     "metadata": {},
     "output_type": "execute_result"
    }
   ],
   "source": [
    "allUsersDf.head()"
   ]
  },
  {
   "cell_type": "markdown",
   "metadata": {},
   "source": [
    "# Data Assessing"
   ]
  },
  {
   "cell_type": "code",
   "execution_count": 10,
   "metadata": {},
   "outputs": [
    {
     "data": {
      "text/plain": [
       "(7806, 8)"
      ]
     },
     "execution_count": 10,
     "metadata": {},
     "output_type": "execute_result"
    }
   ],
   "source": [
    "# Cek shape dataset tipe diet\n",
    "allDietsDf.shape"
   ]
  },
  {
   "cell_type": "code",
   "execution_count": 9,
   "metadata": {},
   "outputs": [
    {
     "data": {
      "text/plain": [
       "(2111, 19)"
      ]
     },
     "execution_count": 9,
     "metadata": {},
     "output_type": "execute_result"
    }
   ],
   "source": [
    "# Cek shape dataset users\n",
    "allUsersDf.shape"
   ]
  },
  {
   "cell_type": "markdown",
   "metadata": {},
   "source": [
    "## Informasi Umum"
   ]
  },
  {
   "cell_type": "markdown",
   "metadata": {},
   "source": [
    "### Dataset Diet"
   ]
  },
  {
   "cell_type": "code",
   "execution_count": 11,
   "metadata": {},
   "outputs": [
    {
     "name": "stdout",
     "output_type": "stream",
     "text": [
      "<class 'pandas.core.frame.DataFrame'>\n",
      "RangeIndex: 7806 entries, 0 to 7805\n",
      "Data columns (total 8 columns):\n",
      " #   Column           Non-Null Count  Dtype  \n",
      "---  ------           --------------  -----  \n",
      " 0   Diet_type        7806 non-null   object \n",
      " 1   Recipe_name      7806 non-null   object \n",
      " 2   Cuisine_type     7806 non-null   object \n",
      " 3   Protein(g)       7806 non-null   float64\n",
      " 4   Carbs(g)         7806 non-null   float64\n",
      " 5   Fat(g)           7806 non-null   float64\n",
      " 6   Extraction_day   7806 non-null   object \n",
      " 7   Extraction_time  7806 non-null   object \n",
      "dtypes: float64(3), object(5)\n",
      "memory usage: 488.0+ KB\n"
     ]
    }
   ],
   "source": [
    "allDietsDf.info()"
   ]
  },
  {
   "cell_type": "markdown",
   "metadata": {},
   "source": [
    "### Dataset *Users*"
   ]
  },
  {
   "cell_type": "code",
   "execution_count": 33,
   "metadata": {},
   "outputs": [
    {
     "name": "stdout",
     "output_type": "stream",
     "text": [
      "<class 'pandas.core.frame.DataFrame'>\n",
      "RangeIndex: 2111 entries, 0 to 2110\n",
      "Data columns (total 19 columns):\n",
      " #   Column                          Non-Null Count  Dtype  \n",
      "---  ------                          --------------  -----  \n",
      " 0   id                              2111 non-null   object \n",
      " 1   Gender                          2111 non-null   object \n",
      " 2   Age                             2111 non-null   int64  \n",
      " 3   Height                          2111 non-null   float64\n",
      " 4   Weight                          2111 non-null   float64\n",
      " 5   family_history_with_overweight  2111 non-null   object \n",
      " 6   FAVC                            2111 non-null   object \n",
      " 7   FCVC                            2111 non-null   object \n",
      " 8   NCP                             2111 non-null   int64  \n",
      " 9   CAEC                            2111 non-null   object \n",
      " 10  SMOKE                           2111 non-null   object \n",
      " 11  CH2O                            2111 non-null   object \n",
      " 12  SCC                             2111 non-null   object \n",
      " 13  FAF                             2111 non-null   object \n",
      " 14  TUE                             2111 non-null   object \n",
      " 15  CALC                            2111 non-null   object \n",
      " 16  MTRANS                          2111 non-null   object \n",
      " 17  NObeyesdad                      2111 non-null   object \n",
      " 18  BMI                             2111 non-null   float64\n",
      "dtypes: float64(3), int64(2), object(14)\n",
      "memory usage: 313.5+ KB\n"
     ]
    }
   ],
   "source": [
    "allUsersDf.info()"
   ]
  },
  {
   "cell_type": "markdown",
   "metadata": {},
   "source": [
    "## Cek Data Null"
   ]
  },
  {
   "cell_type": "markdown",
   "metadata": {},
   "source": [
    "### Dataset Diet"
   ]
  },
  {
   "cell_type": "code",
   "execution_count": 13,
   "metadata": {},
   "outputs": [
    {
     "data": {
      "text/plain": [
       "Diet_type          0\n",
       "Recipe_name        0\n",
       "Cuisine_type       0\n",
       "Protein(g)         0\n",
       "Carbs(g)           0\n",
       "Fat(g)             0\n",
       "Extraction_day     0\n",
       "Extraction_time    0\n",
       "dtype: int64"
      ]
     },
     "execution_count": 13,
     "metadata": {},
     "output_type": "execute_result"
    }
   ],
   "source": [
    "allDietsDf.isna().sum()"
   ]
  },
  {
   "cell_type": "markdown",
   "metadata": {},
   "source": [
    "### Dataset *Users*"
   ]
  },
  {
   "cell_type": "code",
   "execution_count": 14,
   "metadata": {},
   "outputs": [
    {
     "data": {
      "text/plain": [
       "id                                0\n",
       "Gender                            0\n",
       "Age                               0\n",
       "Height                            0\n",
       "Weight                            0\n",
       "family_history_with_overweight    0\n",
       "FAVC                              0\n",
       "FCVC                              0\n",
       "NCP                               0\n",
       "CAEC                              0\n",
       "SMOKE                             0\n",
       "CH2O                              0\n",
       "SCC                               0\n",
       "FAF                               0\n",
       "TUE                               0\n",
       "CALC                              0\n",
       "MTRANS                            0\n",
       "NObeyesdad                        0\n",
       "BMI                               0\n",
       "dtype: int64"
      ]
     },
     "execution_count": 14,
     "metadata": {},
     "output_type": "execute_result"
    }
   ],
   "source": [
    "allUsersDf.isna().sum()"
   ]
  },
  {
   "cell_type": "markdown",
   "metadata": {},
   "source": [
    "## Cek Data Duplikat"
   ]
  },
  {
   "cell_type": "markdown",
   "metadata": {},
   "source": [
    "### Dataset Diet"
   ]
  },
  {
   "cell_type": "code",
   "execution_count": 16,
   "metadata": {},
   "outputs": [
    {
     "data": {
      "text/plain": [
       "5"
      ]
     },
     "execution_count": 16,
     "metadata": {},
     "output_type": "execute_result"
    }
   ],
   "source": [
    "allDietsDf.duplicated().sum()"
   ]
  },
  {
   "cell_type": "markdown",
   "metadata": {},
   "source": [
    "### Dataset *Users*"
   ]
  },
  {
   "cell_type": "code",
   "execution_count": 17,
   "metadata": {},
   "outputs": [
    {
     "data": {
      "text/plain": [
       "0"
      ]
     },
     "execution_count": 17,
     "metadata": {},
     "output_type": "execute_result"
    }
   ],
   "source": [
    "allUsersDf.duplicated().sum()"
   ]
  },
  {
   "cell_type": "markdown",
   "metadata": {},
   "source": [
    "## Nilai Statistik Dataset"
   ]
  },
  {
   "cell_type": "markdown",
   "metadata": {},
   "source": [
    "### Dataset Diet"
   ]
  },
  {
   "cell_type": "code",
   "execution_count": 27,
   "metadata": {},
   "outputs": [
    {
     "data": {
      "text/html": [
       "<div>\n",
       "<style scoped>\n",
       "    .dataframe tbody tr th:only-of-type {\n",
       "        vertical-align: middle;\n",
       "    }\n",
       "\n",
       "    .dataframe tbody tr th {\n",
       "        vertical-align: top;\n",
       "    }\n",
       "\n",
       "    .dataframe thead th {\n",
       "        text-align: right;\n",
       "    }\n",
       "</style>\n",
       "<table border=\"1\" class=\"dataframe\">\n",
       "  <thead>\n",
       "    <tr style=\"text-align: right;\">\n",
       "      <th></th>\n",
       "      <th>Protein(g)</th>\n",
       "      <th>Carbs(g)</th>\n",
       "      <th>Fat(g)</th>\n",
       "    </tr>\n",
       "  </thead>\n",
       "  <tbody>\n",
       "    <tr>\n",
       "      <th>count</th>\n",
       "      <td>7806.000000</td>\n",
       "      <td>7806.000000</td>\n",
       "      <td>7806.000000</td>\n",
       "    </tr>\n",
       "    <tr>\n",
       "      <th>mean</th>\n",
       "      <td>83.231498</td>\n",
       "      <td>152.123189</td>\n",
       "      <td>117.328542</td>\n",
       "    </tr>\n",
       "    <tr>\n",
       "      <th>std</th>\n",
       "      <td>89.797282</td>\n",
       "      <td>185.907322</td>\n",
       "      <td>122.098117</td>\n",
       "    </tr>\n",
       "    <tr>\n",
       "      <th>min</th>\n",
       "      <td>0.000000</td>\n",
       "      <td>0.060000</td>\n",
       "      <td>0.000000</td>\n",
       "    </tr>\n",
       "    <tr>\n",
       "      <th>25%</th>\n",
       "      <td>24.415000</td>\n",
       "      <td>36.162500</td>\n",
       "      <td>41.067500</td>\n",
       "    </tr>\n",
       "    <tr>\n",
       "      <th>50%</th>\n",
       "      <td>56.280000</td>\n",
       "      <td>93.415000</td>\n",
       "      <td>84.865000</td>\n",
       "    </tr>\n",
       "    <tr>\n",
       "      <th>75%</th>\n",
       "      <td>112.357500</td>\n",
       "      <td>205.915000</td>\n",
       "      <td>158.290000</td>\n",
       "    </tr>\n",
       "    <tr>\n",
       "      <th>max</th>\n",
       "      <td>1273.610000</td>\n",
       "      <td>3405.550000</td>\n",
       "      <td>1930.240000</td>\n",
       "    </tr>\n",
       "  </tbody>\n",
       "</table>\n",
       "</div>"
      ],
      "text/plain": [
       "        Protein(g)     Carbs(g)       Fat(g)\n",
       "count  7806.000000  7806.000000  7806.000000\n",
       "mean     83.231498   152.123189   117.328542\n",
       "std      89.797282   185.907322   122.098117\n",
       "min       0.000000     0.060000     0.000000\n",
       "25%      24.415000    36.162500    41.067500\n",
       "50%      56.280000    93.415000    84.865000\n",
       "75%     112.357500   205.915000   158.290000\n",
       "max    1273.610000  3405.550000  1930.240000"
      ]
     },
     "execution_count": 27,
     "metadata": {},
     "output_type": "execute_result"
    }
   ],
   "source": [
    "allDietsDf.describe()"
   ]
  },
  {
   "cell_type": "markdown",
   "metadata": {},
   "source": [
    "### Dataset *Users*"
   ]
  },
  {
   "cell_type": "code",
   "execution_count": 28,
   "metadata": {},
   "outputs": [
    {
     "data": {
      "text/html": [
       "<div>\n",
       "<style scoped>\n",
       "    .dataframe tbody tr th:only-of-type {\n",
       "        vertical-align: middle;\n",
       "    }\n",
       "\n",
       "    .dataframe tbody tr th {\n",
       "        vertical-align: top;\n",
       "    }\n",
       "\n",
       "    .dataframe thead th {\n",
       "        text-align: right;\n",
       "    }\n",
       "</style>\n",
       "<table border=\"1\" class=\"dataframe\">\n",
       "  <thead>\n",
       "    <tr style=\"text-align: right;\">\n",
       "      <th></th>\n",
       "      <th>Age</th>\n",
       "      <th>Height</th>\n",
       "      <th>Weight</th>\n",
       "      <th>NCP</th>\n",
       "      <th>BMI</th>\n",
       "    </tr>\n",
       "  </thead>\n",
       "  <tbody>\n",
       "    <tr>\n",
       "      <th>count</th>\n",
       "      <td>2111.000000</td>\n",
       "      <td>2111.000000</td>\n",
       "      <td>2111.000000</td>\n",
       "      <td>2111.000000</td>\n",
       "      <td>2111.000000</td>\n",
       "    </tr>\n",
       "    <tr>\n",
       "      <th>mean</th>\n",
       "      <td>24.315964</td>\n",
       "      <td>1.701677</td>\n",
       "      <td>86.588820</td>\n",
       "      <td>2.687826</td>\n",
       "      <td>29.700159</td>\n",
       "    </tr>\n",
       "    <tr>\n",
       "      <th>std</th>\n",
       "      <td>6.357078</td>\n",
       "      <td>0.093305</td>\n",
       "      <td>26.188572</td>\n",
       "      <td>0.809680</td>\n",
       "      <td>8.011337</td>\n",
       "    </tr>\n",
       "    <tr>\n",
       "      <th>min</th>\n",
       "      <td>14.000000</td>\n",
       "      <td>1.450000</td>\n",
       "      <td>39.000000</td>\n",
       "      <td>1.000000</td>\n",
       "      <td>12.998685</td>\n",
       "    </tr>\n",
       "    <tr>\n",
       "      <th>25%</th>\n",
       "      <td>20.000000</td>\n",
       "      <td>1.630000</td>\n",
       "      <td>65.500000</td>\n",
       "      <td>3.000000</td>\n",
       "      <td>24.325802</td>\n",
       "    </tr>\n",
       "    <tr>\n",
       "      <th>50%</th>\n",
       "      <td>23.000000</td>\n",
       "      <td>1.700499</td>\n",
       "      <td>83.000000</td>\n",
       "      <td>3.000000</td>\n",
       "      <td>28.719089</td>\n",
       "    </tr>\n",
       "    <tr>\n",
       "      <th>75%</th>\n",
       "      <td>26.000000</td>\n",
       "      <td>1.768464</td>\n",
       "      <td>107.000000</td>\n",
       "      <td>3.000000</td>\n",
       "      <td>36.016501</td>\n",
       "    </tr>\n",
       "    <tr>\n",
       "      <th>max</th>\n",
       "      <td>61.000000</td>\n",
       "      <td>1.980000</td>\n",
       "      <td>173.000000</td>\n",
       "      <td>4.000000</td>\n",
       "      <td>50.811753</td>\n",
       "    </tr>\n",
       "  </tbody>\n",
       "</table>\n",
       "</div>"
      ],
      "text/plain": [
       "               Age       Height       Weight          NCP          BMI\n",
       "count  2111.000000  2111.000000  2111.000000  2111.000000  2111.000000\n",
       "mean     24.315964     1.701677    86.588820     2.687826    29.700159\n",
       "std       6.357078     0.093305    26.188572     0.809680     8.011337\n",
       "min      14.000000     1.450000    39.000000     1.000000    12.998685\n",
       "25%      20.000000     1.630000    65.500000     3.000000    24.325802\n",
       "50%      23.000000     1.700499    83.000000     3.000000    28.719089\n",
       "75%      26.000000     1.768464   107.000000     3.000000    36.016501\n",
       "max      61.000000     1.980000   173.000000     4.000000    50.811753"
      ]
     },
     "execution_count": 28,
     "metadata": {},
     "output_type": "execute_result"
    }
   ],
   "source": [
    "allUsersDf.describe()"
   ]
  },
  {
   "cell_type": "markdown",
   "metadata": {},
   "source": [
    "Dari hasil analisa pada tahap **Data Assessing** kesimpulannya adalah:\n",
    "1. Dataset Diet\n",
    "   - Tidak terdapat kesalahan tipe data kolom\n",
    "   - Tidak terdapat nilai *null*\n",
    "   - Terdapat **5** data duplikat\n",
    "\n",
    "Catatan:\n",
    "Terdapat nilai 0 pada kolom **Protein(g)**, dan **Fat(g)** dari hasil eksekusi perintah *describe* yang perlu ditinjau ulang pada tahap **EDA**.\n",
    " \n",
    "2. Dataset *Users*\n",
    "   - Terdapat kesalahan tipe data pada kolom **Weight**, seharusnya *float* bukan *integer*\n",
    "   - Tidak terdapat nilai *null*\n",
    "   - Tidak terdapat data duplikat\n"
   ]
  },
  {
   "cell_type": "markdown",
   "metadata": {},
   "source": [
    "# Data Cleaning"
   ]
  },
  {
   "cell_type": "markdown",
   "metadata": {},
   "source": [
    "## Hapus Data Duplikat Dataset Diet\n",
    "\n",
    "Penghapusan data duplikat pada dataset diet dilakukan secara langsung karena jumlahnya yang tergolong kecil dibanding total banyak data yang ada."
   ]
  },
  {
   "cell_type": "code",
   "execution_count": 29,
   "metadata": {},
   "outputs": [
    {
     "data": {
      "text/plain": [
       "(7806, 8)"
      ]
     },
     "execution_count": 29,
     "metadata": {},
     "output_type": "execute_result"
    }
   ],
   "source": [
    "allDietsDf.shape"
   ]
  },
  {
   "cell_type": "code",
   "execution_count": 30,
   "metadata": {},
   "outputs": [],
   "source": [
    "allDietsDf.drop_duplicates(inplace=True)"
   ]
  },
  {
   "cell_type": "code",
   "execution_count": 31,
   "metadata": {},
   "outputs": [
    {
     "data": {
      "text/plain": [
       "(7801, 8)"
      ]
     },
     "execution_count": 31,
     "metadata": {},
     "output_type": "execute_result"
    }
   ],
   "source": [
    "allDietsDf.shape"
   ]
  },
  {
   "cell_type": "markdown",
   "metadata": {},
   "source": [
    "Saat ini pada dataset diet sudah tidak ada data duplikat"
   ]
  },
  {
   "cell_type": "markdown",
   "metadata": {},
   "source": [
    "## Ubah Tipe Data Kolom Weight Dataset *Users*"
   ]
  },
  {
   "cell_type": "code",
   "execution_count": 32,
   "metadata": {},
   "outputs": [],
   "source": [
    "allUsersDf['Weight'] = allUsersDf.Weight.astype(float)"
   ]
  },
  {
   "cell_type": "markdown",
   "metadata": {},
   "source": [
    "Saat ini, kolom **Weight** sudah berubah tipe data menjadi *float* dari yang semula *integer*."
   ]
  },
  {
   "cell_type": "markdown",
   "metadata": {},
   "source": [
    "# Exploratory Data Analysis (EDA)"
   ]
  },
  {
   "cell_type": "markdown",
   "metadata": {},
   "source": [
    "## Cek Nilai *Unique*\n",
    "### Data Diet\n",
    "\n",
    "Diet_type"
   ]
  },
  {
   "cell_type": "code",
   "execution_count": 21,
   "metadata": {},
   "outputs": [
    {
     "name": "stdout",
     "output_type": "stream",
     "text": [
      "Jumlah nilai unik adalah 5\n",
      "Uraian nilai unik: \n",
      " ['paleo' 'vegan' 'keto' 'mediterranean' 'dash']\n"
     ]
    }
   ],
   "source": [
    "print('Jumlah nilai unik adalah', allDietsDf.Diet_type.nunique())\n",
    "print('Uraian nilai unik: \\n', allDietsDf.Diet_type.unique())"
   ]
  },
  {
   "cell_type": "markdown",
   "metadata": {},
   "source": [
    "Cuisine_type"
   ]
  },
  {
   "cell_type": "code",
   "execution_count": 23,
   "metadata": {},
   "outputs": [
    {
     "name": "stdout",
     "output_type": "stream",
     "text": [
      "Jumlah nilai unik adalah 19\n",
      "Uraian nilai unik: \n",
      " ['american' 'south east asian' 'mexican' 'chinese' 'mediterranean'\n",
      " 'italian' 'french' 'indian' 'nordic' 'eastern europe' 'central europe'\n",
      " 'kosher' 'british' 'caribbean' 'south american' 'middle eastern' 'asian'\n",
      " 'japanese' 'world']\n"
     ]
    }
   ],
   "source": [
    "print('Jumlah nilai unik adalah', allDietsDf.Cuisine_type.nunique())\n",
    "print('Uraian nilai unik: \\n', allDietsDf.Cuisine_type.unique())"
   ]
  },
  {
   "cell_type": "markdown",
   "metadata": {},
   "source": [
    "### Data User\n",
    "\n",
    "Gender"
   ]
  },
  {
   "cell_type": "code",
   "execution_count": 24,
   "metadata": {},
   "outputs": [
    {
     "name": "stdout",
     "output_type": "stream",
     "text": [
      "Jumlah nilai unik adalah 2\n",
      "Uraian nilai unik: \n",
      " ['female' 'male']\n"
     ]
    }
   ],
   "source": [
    "print('Jumlah nilai unik adalah', allUsersDf.Gender.nunique())\n",
    "print('Uraian nilai unik: \\n', allUsersDf.Gender.unique())"
   ]
  },
  {
   "cell_type": "markdown",
   "metadata": {},
   "source": [
    "family_history_with_overweight"
   ]
  },
  {
   "cell_type": "code",
   "execution_count": 25,
   "metadata": {},
   "outputs": [
    {
     "name": "stdout",
     "output_type": "stream",
     "text": [
      "Jumlah nilai unik adalah 2\n",
      "Uraian nilai unik: \n",
      " ['yes' 'no']\n"
     ]
    }
   ],
   "source": [
    "print('Jumlah nilai unik adalah', allUsersDf.family_history_with_overweight.nunique())\n",
    "print('Uraian nilai unik: \\n', allUsersDf.family_history_with_overweight.unique())"
   ]
  },
  {
   "cell_type": "markdown",
   "metadata": {},
   "source": [
    "NObeyesdad"
   ]
  },
  {
   "cell_type": "code",
   "execution_count": 26,
   "metadata": {},
   "outputs": [
    {
     "name": "stdout",
     "output_type": "stream",
     "text": [
      "Jumlah nilai unik adalah 7\n",
      "Uraian nilai unik: \n",
      " ['normal_weight' 'overweight_level_i' 'overweight_level_ii'\n",
      " 'obesity_type_i' 'insufficient_weight' 'obesity_type_ii'\n",
      " 'obesity_type_iii']\n"
     ]
    }
   ],
   "source": [
    "print('Jumlah nilai unik adalah', allUsersDf.NObeyesdad.nunique())\n",
    "print('Uraian nilai unik: \\n', allUsersDf.NObeyesdad.unique())"
   ]
  },
  {
   "cell_type": "markdown",
   "metadata": {},
   "source": [
    "## Cek Invalid Value"
   ]
  },
  {
   "cell_type": "markdown",
   "metadata": {},
   "source": []
  }
 ],
 "metadata": {
  "kernelspec": {
   "display_name": "terapan",
   "language": "python",
   "name": "python3"
  },
  "language_info": {
   "codemirror_mode": {
    "name": "ipython",
    "version": 3
   },
   "file_extension": ".py",
   "mimetype": "text/x-python",
   "name": "python",
   "nbconvert_exporter": "python",
   "pygments_lexer": "ipython3",
   "version": "3.9.18"
  }
 },
 "nbformat": 4,
 "nbformat_minor": 2
}
