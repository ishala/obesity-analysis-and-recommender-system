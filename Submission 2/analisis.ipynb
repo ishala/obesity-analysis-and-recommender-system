{
 "cells": [
  {
   "cell_type": "markdown",
   "metadata": {},
   "source": [
    "# Import Library"
   ]
  },
  {
   "cell_type": "code",
   "execution_count": 615,
   "metadata": {},
   "outputs": [],
   "source": [
    "# Olah Data\n",
    "import pandas as pd\n",
    "import numpy as np\n",
    "import matplotlib.pyplot as plt\n",
    "import seaborn as sns"
   ]
  },
  {
   "cell_type": "markdown",
   "metadata": {},
   "source": [
    "# Data Loading"
   ]
  },
  {
   "cell_type": "code",
   "execution_count": 616,
   "metadata": {},
   "outputs": [],
   "source": [
    "# Path \n",
    "allDietsDfPath = 'data/All_Diets.csv'\n",
    "allUsersDfPath = 'data/ObesityDataSet_cleaned_and_data_sinthetic.csv'\n",
    "\n",
    "# Dataset\n",
    "allDietsDf = pd.read_csv(allDietsDfPath)\n",
    "allUsersDf = pd.read_csv(allUsersDfPath)\n"
   ]
  },
  {
   "cell_type": "code",
   "execution_count": 617,
   "metadata": {},
   "outputs": [
    {
     "data": {
      "text/html": [
       "<div>\n",
       "<style scoped>\n",
       "    .dataframe tbody tr th:only-of-type {\n",
       "        vertical-align: middle;\n",
       "    }\n",
       "\n",
       "    .dataframe tbody tr th {\n",
       "        vertical-align: top;\n",
       "    }\n",
       "\n",
       "    .dataframe thead th {\n",
       "        text-align: right;\n",
       "    }\n",
       "</style>\n",
       "<table border=\"1\" class=\"dataframe\">\n",
       "  <thead>\n",
       "    <tr style=\"text-align: right;\">\n",
       "      <th></th>\n",
       "      <th>Diet_type</th>\n",
       "      <th>Recipe_name</th>\n",
       "      <th>Cuisine_type</th>\n",
       "      <th>Protein(g)</th>\n",
       "      <th>Carbs(g)</th>\n",
       "      <th>Fat(g)</th>\n",
       "      <th>Extraction_day</th>\n",
       "      <th>Extraction_time</th>\n",
       "    </tr>\n",
       "  </thead>\n",
       "  <tbody>\n",
       "    <tr>\n",
       "      <th>6578</th>\n",
       "      <td>dash</td>\n",
       "      <td>Roasted Cedar-Plank Salmon with Mustard-Maple ...</td>\n",
       "      <td>nordic</td>\n",
       "      <td>149.32</td>\n",
       "      <td>77.47</td>\n",
       "      <td>41.86</td>\n",
       "      <td>2022-10-16</td>\n",
       "      <td>20:32:37</td>\n",
       "    </tr>\n",
       "    <tr>\n",
       "      <th>4132</th>\n",
       "      <td>keto</td>\n",
       "      <td>Keto Protein Desserts: Made With your Favourit...</td>\n",
       "      <td>american</td>\n",
       "      <td>28.08</td>\n",
       "      <td>9.29</td>\n",
       "      <td>18.37</td>\n",
       "      <td>2022-10-16</td>\n",
       "      <td>18:08:10</td>\n",
       "    </tr>\n",
       "    <tr>\n",
       "      <th>3106</th>\n",
       "      <td>keto</td>\n",
       "      <td>Keto Cuban Sandwich</td>\n",
       "      <td>caribbean</td>\n",
       "      <td>143.61</td>\n",
       "      <td>59.18</td>\n",
       "      <td>229.70</td>\n",
       "      <td>2022-10-16</td>\n",
       "      <td>18:00:30</td>\n",
       "    </tr>\n",
       "    <tr>\n",
       "      <th>5925</th>\n",
       "      <td>mediterranean</td>\n",
       "      <td>Mediterranean-style prawns</td>\n",
       "      <td>mediterranean</td>\n",
       "      <td>151.49</td>\n",
       "      <td>92.26</td>\n",
       "      <td>50.03</td>\n",
       "      <td>2022-10-16</td>\n",
       "      <td>16:52:39</td>\n",
       "    </tr>\n",
       "    <tr>\n",
       "      <th>2136</th>\n",
       "      <td>vegan</td>\n",
       "      <td>Banana-Coconut Cake Recipe</td>\n",
       "      <td>caribbean</td>\n",
       "      <td>55.36</td>\n",
       "      <td>1063.72</td>\n",
       "      <td>621.42</td>\n",
       "      <td>2022-10-16</td>\n",
       "      <td>20:09:03</td>\n",
       "    </tr>\n",
       "    <tr>\n",
       "      <th>3191</th>\n",
       "      <td>keto</td>\n",
       "      <td>Keto Chicken Pesto Burgers</td>\n",
       "      <td>american</td>\n",
       "      <td>131.09</td>\n",
       "      <td>14.73</td>\n",
       "      <td>107.32</td>\n",
       "      <td>2022-10-16</td>\n",
       "      <td>18:01:10</td>\n",
       "    </tr>\n",
       "    <tr>\n",
       "      <th>4164</th>\n",
       "      <td>keto</td>\n",
       "      <td>Baked Tuna Melt Jalapeño Poppers (Keto, Gluten...</td>\n",
       "      <td>mexican</td>\n",
       "      <td>294.53</td>\n",
       "      <td>187.42</td>\n",
       "      <td>280.90</td>\n",
       "      <td>2022-10-16</td>\n",
       "      <td>18:08:24</td>\n",
       "    </tr>\n",
       "    <tr>\n",
       "      <th>4717</th>\n",
       "      <td>mediterranean</td>\n",
       "      <td>Mediterranean Feta Salad With Pomegranate Dres...</td>\n",
       "      <td>mediterranean</td>\n",
       "      <td>51.84</td>\n",
       "      <td>175.52</td>\n",
       "      <td>195.42</td>\n",
       "      <td>2022-10-16</td>\n",
       "      <td>16:45:30</td>\n",
       "    </tr>\n",
       "    <tr>\n",
       "      <th>5299</th>\n",
       "      <td>mediterranean</td>\n",
       "      <td>Mediterranean fritters</td>\n",
       "      <td>mediterranean</td>\n",
       "      <td>41.31</td>\n",
       "      <td>137.53</td>\n",
       "      <td>44.65</td>\n",
       "      <td>2022-10-16</td>\n",
       "      <td>16:48:58</td>\n",
       "    </tr>\n",
       "    <tr>\n",
       "      <th>5881</th>\n",
       "      <td>mediterranean</td>\n",
       "      <td>Mediterranean Marinated Chicken</td>\n",
       "      <td>mediterranean</td>\n",
       "      <td>103.28</td>\n",
       "      <td>5.78</td>\n",
       "      <td>84.19</td>\n",
       "      <td>2022-10-16</td>\n",
       "      <td>16:52:19</td>\n",
       "    </tr>\n",
       "  </tbody>\n",
       "</table>\n",
       "</div>"
      ],
      "text/plain": [
       "          Diet_type                                        Recipe_name  \\\n",
       "6578           dash  Roasted Cedar-Plank Salmon with Mustard-Maple ...   \n",
       "4132           keto  Keto Protein Desserts: Made With your Favourit...   \n",
       "3106           keto                                Keto Cuban Sandwich   \n",
       "5925  mediterranean                         Mediterranean-style prawns   \n",
       "2136          vegan                         Banana-Coconut Cake Recipe   \n",
       "3191           keto                         Keto Chicken Pesto Burgers   \n",
       "4164           keto  Baked Tuna Melt Jalapeño Poppers (Keto, Gluten...   \n",
       "4717  mediterranean  Mediterranean Feta Salad With Pomegranate Dres...   \n",
       "5299  mediterranean                             Mediterranean fritters   \n",
       "5881  mediterranean                    Mediterranean Marinated Chicken   \n",
       "\n",
       "       Cuisine_type  Protein(g)  Carbs(g)  Fat(g) Extraction_day  \\\n",
       "6578         nordic      149.32     77.47   41.86     2022-10-16   \n",
       "4132       american       28.08      9.29   18.37     2022-10-16   \n",
       "3106      caribbean      143.61     59.18  229.70     2022-10-16   \n",
       "5925  mediterranean      151.49     92.26   50.03     2022-10-16   \n",
       "2136      caribbean       55.36   1063.72  621.42     2022-10-16   \n",
       "3191       american      131.09     14.73  107.32     2022-10-16   \n",
       "4164        mexican      294.53    187.42  280.90     2022-10-16   \n",
       "4717  mediterranean       51.84    175.52  195.42     2022-10-16   \n",
       "5299  mediterranean       41.31    137.53   44.65     2022-10-16   \n",
       "5881  mediterranean      103.28      5.78   84.19     2022-10-16   \n",
       "\n",
       "     Extraction_time  \n",
       "6578        20:32:37  \n",
       "4132        18:08:10  \n",
       "3106        18:00:30  \n",
       "5925        16:52:39  \n",
       "2136        20:09:03  \n",
       "3191        18:01:10  \n",
       "4164        18:08:24  \n",
       "4717        16:45:30  \n",
       "5299        16:48:58  \n",
       "5881        16:52:19  "
      ]
     },
     "execution_count": 617,
     "metadata": {},
     "output_type": "execute_result"
    }
   ],
   "source": [
    "allDietsDf.sample(10)"
   ]
  },
  {
   "cell_type": "code",
   "execution_count": 618,
   "metadata": {},
   "outputs": [
    {
     "data": {
      "text/html": [
       "<div>\n",
       "<style scoped>\n",
       "    .dataframe tbody tr th:only-of-type {\n",
       "        vertical-align: middle;\n",
       "    }\n",
       "\n",
       "    .dataframe tbody tr th {\n",
       "        vertical-align: top;\n",
       "    }\n",
       "\n",
       "    .dataframe thead th {\n",
       "        text-align: right;\n",
       "    }\n",
       "</style>\n",
       "<table border=\"1\" class=\"dataframe\">\n",
       "  <thead>\n",
       "    <tr style=\"text-align: right;\">\n",
       "      <th></th>\n",
       "      <th>id</th>\n",
       "      <th>Gender</th>\n",
       "      <th>Age</th>\n",
       "      <th>Height</th>\n",
       "      <th>Weight</th>\n",
       "      <th>family_history_with_overweight</th>\n",
       "      <th>FAVC</th>\n",
       "      <th>FCVC</th>\n",
       "      <th>NCP</th>\n",
       "      <th>CAEC</th>\n",
       "      <th>SMOKE</th>\n",
       "      <th>CH2O</th>\n",
       "      <th>SCC</th>\n",
       "      <th>FAF</th>\n",
       "      <th>TUE</th>\n",
       "      <th>CALC</th>\n",
       "      <th>MTRANS</th>\n",
       "      <th>NObeyesdad</th>\n",
       "      <th>BMI</th>\n",
       "    </tr>\n",
       "  </thead>\n",
       "  <tbody>\n",
       "    <tr>\n",
       "      <th>0</th>\n",
       "      <td>1</td>\n",
       "      <td>female</td>\n",
       "      <td>21</td>\n",
       "      <td>1.62</td>\n",
       "      <td>64</td>\n",
       "      <td>yes</td>\n",
       "      <td>no</td>\n",
       "      <td>sometimes</td>\n",
       "      <td>3</td>\n",
       "      <td>sometimes</td>\n",
       "      <td>no</td>\n",
       "      <td>between 1 and 2 l</td>\n",
       "      <td>no</td>\n",
       "      <td>0</td>\n",
       "      <td>3 to 5</td>\n",
       "      <td>no</td>\n",
       "      <td>public_transportation</td>\n",
       "      <td>normal_weight</td>\n",
       "      <td>24.386526</td>\n",
       "    </tr>\n",
       "    <tr>\n",
       "      <th>1</th>\n",
       "      <td>2</td>\n",
       "      <td>female</td>\n",
       "      <td>21</td>\n",
       "      <td>1.52</td>\n",
       "      <td>56</td>\n",
       "      <td>yes</td>\n",
       "      <td>no</td>\n",
       "      <td>always</td>\n",
       "      <td>3</td>\n",
       "      <td>sometimes</td>\n",
       "      <td>yes</td>\n",
       "      <td>more than 2 l</td>\n",
       "      <td>yes</td>\n",
       "      <td>4 to 5</td>\n",
       "      <td>0 to 2</td>\n",
       "      <td>sometimes</td>\n",
       "      <td>public_transportation</td>\n",
       "      <td>normal_weight</td>\n",
       "      <td>24.238227</td>\n",
       "    </tr>\n",
       "    <tr>\n",
       "      <th>2</th>\n",
       "      <td>3</td>\n",
       "      <td>male</td>\n",
       "      <td>23</td>\n",
       "      <td>1.80</td>\n",
       "      <td>77</td>\n",
       "      <td>yes</td>\n",
       "      <td>no</td>\n",
       "      <td>sometimes</td>\n",
       "      <td>3</td>\n",
       "      <td>sometimes</td>\n",
       "      <td>no</td>\n",
       "      <td>between 1 and 2 l</td>\n",
       "      <td>no</td>\n",
       "      <td>2 to 4</td>\n",
       "      <td>3 to 5</td>\n",
       "      <td>frequently</td>\n",
       "      <td>public_transportation</td>\n",
       "      <td>normal_weight</td>\n",
       "      <td>23.765432</td>\n",
       "    </tr>\n",
       "    <tr>\n",
       "      <th>3</th>\n",
       "      <td>4</td>\n",
       "      <td>male</td>\n",
       "      <td>27</td>\n",
       "      <td>1.80</td>\n",
       "      <td>87</td>\n",
       "      <td>no</td>\n",
       "      <td>no</td>\n",
       "      <td>always</td>\n",
       "      <td>3</td>\n",
       "      <td>sometimes</td>\n",
       "      <td>no</td>\n",
       "      <td>between 1 and 2 l</td>\n",
       "      <td>no</td>\n",
       "      <td>2 to 4</td>\n",
       "      <td>0 to 2</td>\n",
       "      <td>frequently</td>\n",
       "      <td>walking</td>\n",
       "      <td>overweight_level_i</td>\n",
       "      <td>26.851852</td>\n",
       "    </tr>\n",
       "    <tr>\n",
       "      <th>4</th>\n",
       "      <td>5</td>\n",
       "      <td>male</td>\n",
       "      <td>22</td>\n",
       "      <td>1.78</td>\n",
       "      <td>90</td>\n",
       "      <td>no</td>\n",
       "      <td>no</td>\n",
       "      <td>sometimes</td>\n",
       "      <td>1</td>\n",
       "      <td>sometimes</td>\n",
       "      <td>no</td>\n",
       "      <td>between 1 and 2 l</td>\n",
       "      <td>no</td>\n",
       "      <td>0</td>\n",
       "      <td>0 to 2</td>\n",
       "      <td>sometimes</td>\n",
       "      <td>public_transportation</td>\n",
       "      <td>overweight_level_ii</td>\n",
       "      <td>28.342381</td>\n",
       "    </tr>\n",
       "  </tbody>\n",
       "</table>\n",
       "</div>"
      ],
      "text/plain": [
       "  id  Gender  Age  Height  Weight family_history_with_overweight FAVC  \\\n",
       "0  1  female   21    1.62      64                            yes   no   \n",
       "1  2  female   21    1.52      56                            yes   no   \n",
       "2  3    male   23    1.80      77                            yes   no   \n",
       "3  4    male   27    1.80      87                             no   no   \n",
       "4  5    male   22    1.78      90                             no   no   \n",
       "\n",
       "        FCVC  NCP       CAEC SMOKE               CH2O  SCC     FAF     TUE  \\\n",
       "0  sometimes    3  sometimes    no  between 1 and 2 l   no       0  3 to 5   \n",
       "1     always    3  sometimes   yes      more than 2 l  yes  4 to 5  0 to 2   \n",
       "2  sometimes    3  sometimes    no  between 1 and 2 l   no  2 to 4  3 to 5   \n",
       "3     always    3  sometimes    no  between 1 and 2 l   no  2 to 4  0 to 2   \n",
       "4  sometimes    1  sometimes    no  between 1 and 2 l   no       0  0 to 2   \n",
       "\n",
       "         CALC                 MTRANS           NObeyesdad        BMI  \n",
       "0          no  public_transportation        normal_weight  24.386526  \n",
       "1   sometimes  public_transportation        normal_weight  24.238227  \n",
       "2  frequently  public_transportation        normal_weight  23.765432  \n",
       "3  frequently                walking   overweight_level_i  26.851852  \n",
       "4   sometimes  public_transportation  overweight_level_ii  28.342381  "
      ]
     },
     "execution_count": 618,
     "metadata": {},
     "output_type": "execute_result"
    }
   ],
   "source": [
    "allUsersDf.head()"
   ]
  },
  {
   "cell_type": "markdown",
   "metadata": {},
   "source": [
    "# Data Assessing"
   ]
  },
  {
   "cell_type": "code",
   "execution_count": 619,
   "metadata": {},
   "outputs": [
    {
     "data": {
      "text/plain": [
       "(7806, 8)"
      ]
     },
     "execution_count": 619,
     "metadata": {},
     "output_type": "execute_result"
    }
   ],
   "source": [
    "# Cek shape dataset tipe diet\n",
    "allDietsDf.shape"
   ]
  },
  {
   "cell_type": "code",
   "execution_count": 620,
   "metadata": {},
   "outputs": [
    {
     "data": {
      "text/plain": [
       "(2111, 19)"
      ]
     },
     "execution_count": 620,
     "metadata": {},
     "output_type": "execute_result"
    }
   ],
   "source": [
    "# Cek shape dataset users\n",
    "allUsersDf.shape"
   ]
  },
  {
   "cell_type": "markdown",
   "metadata": {},
   "source": [
    "## Informasi Umum"
   ]
  },
  {
   "cell_type": "markdown",
   "metadata": {},
   "source": [
    "### Dataset Diet"
   ]
  },
  {
   "cell_type": "code",
   "execution_count": 621,
   "metadata": {},
   "outputs": [
    {
     "name": "stdout",
     "output_type": "stream",
     "text": [
      "<class 'pandas.core.frame.DataFrame'>\n",
      "RangeIndex: 7806 entries, 0 to 7805\n",
      "Data columns (total 8 columns):\n",
      " #   Column           Non-Null Count  Dtype  \n",
      "---  ------           --------------  -----  \n",
      " 0   Diet_type        7806 non-null   object \n",
      " 1   Recipe_name      7806 non-null   object \n",
      " 2   Cuisine_type     7806 non-null   object \n",
      " 3   Protein(g)       7806 non-null   float64\n",
      " 4   Carbs(g)         7806 non-null   float64\n",
      " 5   Fat(g)           7806 non-null   float64\n",
      " 6   Extraction_day   7806 non-null   object \n",
      " 7   Extraction_time  7806 non-null   object \n",
      "dtypes: float64(3), object(5)\n",
      "memory usage: 488.0+ KB\n"
     ]
    }
   ],
   "source": [
    "allDietsDf.info()"
   ]
  },
  {
   "cell_type": "markdown",
   "metadata": {},
   "source": [
    "### Dataset *Users*"
   ]
  },
  {
   "cell_type": "code",
   "execution_count": 622,
   "metadata": {},
   "outputs": [
    {
     "name": "stdout",
     "output_type": "stream",
     "text": [
      "<class 'pandas.core.frame.DataFrame'>\n",
      "RangeIndex: 2111 entries, 0 to 2110\n",
      "Data columns (total 19 columns):\n",
      " #   Column                          Non-Null Count  Dtype  \n",
      "---  ------                          --------------  -----  \n",
      " 0   id                              2111 non-null   object \n",
      " 1   Gender                          2111 non-null   object \n",
      " 2   Age                             2111 non-null   int64  \n",
      " 3   Height                          2111 non-null   float64\n",
      " 4   Weight                          2111 non-null   int64  \n",
      " 5   family_history_with_overweight  2111 non-null   object \n",
      " 6   FAVC                            2111 non-null   object \n",
      " 7   FCVC                            2111 non-null   object \n",
      " 8   NCP                             2111 non-null   int64  \n",
      " 9   CAEC                            2111 non-null   object \n",
      " 10  SMOKE                           2111 non-null   object \n",
      " 11  CH2O                            2111 non-null   object \n",
      " 12  SCC                             2111 non-null   object \n",
      " 13  FAF                             2111 non-null   object \n",
      " 14  TUE                             2111 non-null   object \n",
      " 15  CALC                            2111 non-null   object \n",
      " 16  MTRANS                          2111 non-null   object \n",
      " 17  NObeyesdad                      2111 non-null   object \n",
      " 18  BMI                             2111 non-null   float64\n",
      "dtypes: float64(2), int64(3), object(14)\n",
      "memory usage: 313.5+ KB\n"
     ]
    }
   ],
   "source": [
    "allUsersDf.info()"
   ]
  },
  {
   "cell_type": "markdown",
   "metadata": {},
   "source": [
    "## Cek Data Null"
   ]
  },
  {
   "cell_type": "markdown",
   "metadata": {},
   "source": [
    "### Dataset Diet"
   ]
  },
  {
   "cell_type": "code",
   "execution_count": 623,
   "metadata": {},
   "outputs": [
    {
     "data": {
      "text/plain": [
       "Diet_type          0\n",
       "Recipe_name        0\n",
       "Cuisine_type       0\n",
       "Protein(g)         0\n",
       "Carbs(g)           0\n",
       "Fat(g)             0\n",
       "Extraction_day     0\n",
       "Extraction_time    0\n",
       "dtype: int64"
      ]
     },
     "execution_count": 623,
     "metadata": {},
     "output_type": "execute_result"
    }
   ],
   "source": [
    "allDietsDf.isna().sum()"
   ]
  },
  {
   "cell_type": "markdown",
   "metadata": {},
   "source": [
    "### Dataset *Users*"
   ]
  },
  {
   "cell_type": "code",
   "execution_count": 624,
   "metadata": {},
   "outputs": [
    {
     "data": {
      "text/plain": [
       "id                                0\n",
       "Gender                            0\n",
       "Age                               0\n",
       "Height                            0\n",
       "Weight                            0\n",
       "family_history_with_overweight    0\n",
       "FAVC                              0\n",
       "FCVC                              0\n",
       "NCP                               0\n",
       "CAEC                              0\n",
       "SMOKE                             0\n",
       "CH2O                              0\n",
       "SCC                               0\n",
       "FAF                               0\n",
       "TUE                               0\n",
       "CALC                              0\n",
       "MTRANS                            0\n",
       "NObeyesdad                        0\n",
       "BMI                               0\n",
       "dtype: int64"
      ]
     },
     "execution_count": 624,
     "metadata": {},
     "output_type": "execute_result"
    }
   ],
   "source": [
    "allUsersDf.isna().sum()"
   ]
  },
  {
   "cell_type": "markdown",
   "metadata": {},
   "source": [
    "## Cek Data Duplikat"
   ]
  },
  {
   "cell_type": "markdown",
   "metadata": {},
   "source": [
    "### Dataset Diet"
   ]
  },
  {
   "cell_type": "code",
   "execution_count": 625,
   "metadata": {},
   "outputs": [
    {
     "data": {
      "text/plain": [
       "5"
      ]
     },
     "execution_count": 625,
     "metadata": {},
     "output_type": "execute_result"
    }
   ],
   "source": [
    "allDietsDf.duplicated().sum()"
   ]
  },
  {
   "cell_type": "markdown",
   "metadata": {},
   "source": [
    "### Dataset *Users*"
   ]
  },
  {
   "cell_type": "code",
   "execution_count": 626,
   "metadata": {},
   "outputs": [
    {
     "data": {
      "text/plain": [
       "0"
      ]
     },
     "execution_count": 626,
     "metadata": {},
     "output_type": "execute_result"
    }
   ],
   "source": [
    "allUsersDf.duplicated().sum()"
   ]
  },
  {
   "cell_type": "markdown",
   "metadata": {},
   "source": [
    "## Nilai Statistik Dataset"
   ]
  },
  {
   "cell_type": "markdown",
   "metadata": {},
   "source": [
    "### Dataset Diet"
   ]
  },
  {
   "cell_type": "code",
   "execution_count": 627,
   "metadata": {},
   "outputs": [
    {
     "data": {
      "text/html": [
       "<div>\n",
       "<style scoped>\n",
       "    .dataframe tbody tr th:only-of-type {\n",
       "        vertical-align: middle;\n",
       "    }\n",
       "\n",
       "    .dataframe tbody tr th {\n",
       "        vertical-align: top;\n",
       "    }\n",
       "\n",
       "    .dataframe thead th {\n",
       "        text-align: right;\n",
       "    }\n",
       "</style>\n",
       "<table border=\"1\" class=\"dataframe\">\n",
       "  <thead>\n",
       "    <tr style=\"text-align: right;\">\n",
       "      <th></th>\n",
       "      <th>Protein(g)</th>\n",
       "      <th>Carbs(g)</th>\n",
       "      <th>Fat(g)</th>\n",
       "    </tr>\n",
       "  </thead>\n",
       "  <tbody>\n",
       "    <tr>\n",
       "      <th>count</th>\n",
       "      <td>7806.000000</td>\n",
       "      <td>7806.000000</td>\n",
       "      <td>7806.000000</td>\n",
       "    </tr>\n",
       "    <tr>\n",
       "      <th>mean</th>\n",
       "      <td>83.231498</td>\n",
       "      <td>152.123189</td>\n",
       "      <td>117.328542</td>\n",
       "    </tr>\n",
       "    <tr>\n",
       "      <th>std</th>\n",
       "      <td>89.797282</td>\n",
       "      <td>185.907322</td>\n",
       "      <td>122.098117</td>\n",
       "    </tr>\n",
       "    <tr>\n",
       "      <th>min</th>\n",
       "      <td>0.000000</td>\n",
       "      <td>0.060000</td>\n",
       "      <td>0.000000</td>\n",
       "    </tr>\n",
       "    <tr>\n",
       "      <th>25%</th>\n",
       "      <td>24.415000</td>\n",
       "      <td>36.162500</td>\n",
       "      <td>41.067500</td>\n",
       "    </tr>\n",
       "    <tr>\n",
       "      <th>50%</th>\n",
       "      <td>56.280000</td>\n",
       "      <td>93.415000</td>\n",
       "      <td>84.865000</td>\n",
       "    </tr>\n",
       "    <tr>\n",
       "      <th>75%</th>\n",
       "      <td>112.357500</td>\n",
       "      <td>205.915000</td>\n",
       "      <td>158.290000</td>\n",
       "    </tr>\n",
       "    <tr>\n",
       "      <th>max</th>\n",
       "      <td>1273.610000</td>\n",
       "      <td>3405.550000</td>\n",
       "      <td>1930.240000</td>\n",
       "    </tr>\n",
       "  </tbody>\n",
       "</table>\n",
       "</div>"
      ],
      "text/plain": [
       "        Protein(g)     Carbs(g)       Fat(g)\n",
       "count  7806.000000  7806.000000  7806.000000\n",
       "mean     83.231498   152.123189   117.328542\n",
       "std      89.797282   185.907322   122.098117\n",
       "min       0.000000     0.060000     0.000000\n",
       "25%      24.415000    36.162500    41.067500\n",
       "50%      56.280000    93.415000    84.865000\n",
       "75%     112.357500   205.915000   158.290000\n",
       "max    1273.610000  3405.550000  1930.240000"
      ]
     },
     "execution_count": 627,
     "metadata": {},
     "output_type": "execute_result"
    }
   ],
   "source": [
    "allDietsDf.describe()"
   ]
  },
  {
   "cell_type": "markdown",
   "metadata": {},
   "source": [
    "### Dataset *Users*"
   ]
  },
  {
   "cell_type": "code",
   "execution_count": 628,
   "metadata": {},
   "outputs": [
    {
     "data": {
      "text/html": [
       "<div>\n",
       "<style scoped>\n",
       "    .dataframe tbody tr th:only-of-type {\n",
       "        vertical-align: middle;\n",
       "    }\n",
       "\n",
       "    .dataframe tbody tr th {\n",
       "        vertical-align: top;\n",
       "    }\n",
       "\n",
       "    .dataframe thead th {\n",
       "        text-align: right;\n",
       "    }\n",
       "</style>\n",
       "<table border=\"1\" class=\"dataframe\">\n",
       "  <thead>\n",
       "    <tr style=\"text-align: right;\">\n",
       "      <th></th>\n",
       "      <th>Age</th>\n",
       "      <th>Height</th>\n",
       "      <th>Weight</th>\n",
       "      <th>NCP</th>\n",
       "      <th>BMI</th>\n",
       "    </tr>\n",
       "  </thead>\n",
       "  <tbody>\n",
       "    <tr>\n",
       "      <th>count</th>\n",
       "      <td>2111.000000</td>\n",
       "      <td>2111.000000</td>\n",
       "      <td>2111.000000</td>\n",
       "      <td>2111.000000</td>\n",
       "      <td>2111.000000</td>\n",
       "    </tr>\n",
       "    <tr>\n",
       "      <th>mean</th>\n",
       "      <td>24.315964</td>\n",
       "      <td>1.701677</td>\n",
       "      <td>86.588820</td>\n",
       "      <td>2.687826</td>\n",
       "      <td>29.700159</td>\n",
       "    </tr>\n",
       "    <tr>\n",
       "      <th>std</th>\n",
       "      <td>6.357078</td>\n",
       "      <td>0.093305</td>\n",
       "      <td>26.188572</td>\n",
       "      <td>0.809680</td>\n",
       "      <td>8.011337</td>\n",
       "    </tr>\n",
       "    <tr>\n",
       "      <th>min</th>\n",
       "      <td>14.000000</td>\n",
       "      <td>1.450000</td>\n",
       "      <td>39.000000</td>\n",
       "      <td>1.000000</td>\n",
       "      <td>12.998685</td>\n",
       "    </tr>\n",
       "    <tr>\n",
       "      <th>25%</th>\n",
       "      <td>20.000000</td>\n",
       "      <td>1.630000</td>\n",
       "      <td>65.500000</td>\n",
       "      <td>3.000000</td>\n",
       "      <td>24.325802</td>\n",
       "    </tr>\n",
       "    <tr>\n",
       "      <th>50%</th>\n",
       "      <td>23.000000</td>\n",
       "      <td>1.700499</td>\n",
       "      <td>83.000000</td>\n",
       "      <td>3.000000</td>\n",
       "      <td>28.719089</td>\n",
       "    </tr>\n",
       "    <tr>\n",
       "      <th>75%</th>\n",
       "      <td>26.000000</td>\n",
       "      <td>1.768464</td>\n",
       "      <td>107.000000</td>\n",
       "      <td>3.000000</td>\n",
       "      <td>36.016501</td>\n",
       "    </tr>\n",
       "    <tr>\n",
       "      <th>max</th>\n",
       "      <td>61.000000</td>\n",
       "      <td>1.980000</td>\n",
       "      <td>173.000000</td>\n",
       "      <td>4.000000</td>\n",
       "      <td>50.811753</td>\n",
       "    </tr>\n",
       "  </tbody>\n",
       "</table>\n",
       "</div>"
      ],
      "text/plain": [
       "               Age       Height       Weight          NCP          BMI\n",
       "count  2111.000000  2111.000000  2111.000000  2111.000000  2111.000000\n",
       "mean     24.315964     1.701677    86.588820     2.687826    29.700159\n",
       "std       6.357078     0.093305    26.188572     0.809680     8.011337\n",
       "min      14.000000     1.450000    39.000000     1.000000    12.998685\n",
       "25%      20.000000     1.630000    65.500000     3.000000    24.325802\n",
       "50%      23.000000     1.700499    83.000000     3.000000    28.719089\n",
       "75%      26.000000     1.768464   107.000000     3.000000    36.016501\n",
       "max      61.000000     1.980000   173.000000     4.000000    50.811753"
      ]
     },
     "execution_count": 628,
     "metadata": {},
     "output_type": "execute_result"
    }
   ],
   "source": [
    "allUsersDf.describe()"
   ]
  },
  {
   "cell_type": "markdown",
   "metadata": {},
   "source": [
    "Dari hasil analisa pada tahap **Data Assessing** kesimpulannya adalah:\n",
    "1. Dataset Diet\n",
    "   - Tidak terdapat kesalahan tipe data kolom\n",
    "   - Tidak terdapat nilai *null*\n",
    "   - Terdapat **5** data duplikat\n",
    "\n",
    "Catatan:\n",
    "Terdapat nilai 0 pada kolom **Protein(g)**, dan **Fat(g)** dari hasil eksekusi perintah *describe* yang perlu ditinjau ulang pada tahap **EDA**.\n",
    " \n",
    "2. Dataset *Users*\n",
    "   - Terdapat kesalahan tipe data pada kolom **Weight**, seharusnya *float* bukan *integer*\n",
    "   - Tidak terdapat nilai *null*\n",
    "   - Tidak terdapat data duplikat\n"
   ]
  },
  {
   "cell_type": "markdown",
   "metadata": {},
   "source": [
    "# Data Cleaning"
   ]
  },
  {
   "cell_type": "markdown",
   "metadata": {},
   "source": [
    "## Hapus Data Duplikat Dataset Diet\n",
    "\n",
    "Penghapusan data duplikat pada dataset diet dilakukan secara langsung karena jumlahnya yang tergolong kecil dibanding total banyak data yang ada."
   ]
  },
  {
   "cell_type": "code",
   "execution_count": 629,
   "metadata": {},
   "outputs": [
    {
     "data": {
      "text/plain": [
       "(7806, 8)"
      ]
     },
     "execution_count": 629,
     "metadata": {},
     "output_type": "execute_result"
    }
   ],
   "source": [
    "allDietsDf.shape"
   ]
  },
  {
   "cell_type": "code",
   "execution_count": 630,
   "metadata": {},
   "outputs": [],
   "source": [
    "allDietsDf.drop_duplicates(inplace=True)"
   ]
  },
  {
   "cell_type": "code",
   "execution_count": 631,
   "metadata": {},
   "outputs": [
    {
     "data": {
      "text/plain": [
       "(7801, 8)"
      ]
     },
     "execution_count": 631,
     "metadata": {},
     "output_type": "execute_result"
    }
   ],
   "source": [
    "allDietsDf.shape"
   ]
  },
  {
   "cell_type": "markdown",
   "metadata": {},
   "source": [
    "Saat ini pada dataset diet sudah tidak ada data duplikat"
   ]
  },
  {
   "cell_type": "markdown",
   "metadata": {},
   "source": [
    "## Ubah Tipe Data Kolom Weight Dataset *Users*"
   ]
  },
  {
   "cell_type": "code",
   "execution_count": 632,
   "metadata": {},
   "outputs": [],
   "source": [
    "allUsersDf['Weight'] = allUsersDf.Weight.astype(float)"
   ]
  },
  {
   "cell_type": "markdown",
   "metadata": {},
   "source": [
    "Saat ini, kolom **Weight** sudah berubah tipe data menjadi *float* dari yang semula *integer*."
   ]
  },
  {
   "cell_type": "markdown",
   "metadata": {},
   "source": [
    "# Exploratory Data Analysis (EDA)"
   ]
  },
  {
   "cell_type": "markdown",
   "metadata": {},
   "source": [
    "## Deskripsi Variabel"
   ]
  },
  {
   "cell_type": "markdown",
   "metadata": {},
   "source": [
    "### Data Diet"
   ]
  },
  {
   "cell_type": "code",
   "execution_count": 633,
   "metadata": {},
   "outputs": [
    {
     "name": "stdout",
     "output_type": "stream",
     "text": [
      "<class 'pandas.core.frame.DataFrame'>\n",
      "Index: 7801 entries, 0 to 7805\n",
      "Data columns (total 8 columns):\n",
      " #   Column           Non-Null Count  Dtype  \n",
      "---  ------           --------------  -----  \n",
      " 0   Diet_type        7801 non-null   object \n",
      " 1   Recipe_name      7801 non-null   object \n",
      " 2   Cuisine_type     7801 non-null   object \n",
      " 3   Protein(g)       7801 non-null   float64\n",
      " 4   Carbs(g)         7801 non-null   float64\n",
      " 5   Fat(g)           7801 non-null   float64\n",
      " 6   Extraction_day   7801 non-null   object \n",
      " 7   Extraction_time  7801 non-null   object \n",
      "dtypes: float64(3), object(5)\n",
      "memory usage: 548.5+ KB\n"
     ]
    }
   ],
   "source": [
    "# Informasi dataset diet\n",
    "allDietsDf.info()"
   ]
  },
  {
   "cell_type": "code",
   "execution_count": 634,
   "metadata": {},
   "outputs": [
    {
     "name": "stdout",
     "output_type": "stream",
     "text": [
      "<class 'pandas.core.frame.DataFrame'>\n",
      "RangeIndex: 2111 entries, 0 to 2110\n",
      "Data columns (total 19 columns):\n",
      " #   Column                          Non-Null Count  Dtype  \n",
      "---  ------                          --------------  -----  \n",
      " 0   id                              2111 non-null   object \n",
      " 1   Gender                          2111 non-null   object \n",
      " 2   Age                             2111 non-null   int64  \n",
      " 3   Height                          2111 non-null   float64\n",
      " 4   Weight                          2111 non-null   float64\n",
      " 5   family_history_with_overweight  2111 non-null   object \n",
      " 6   FAVC                            2111 non-null   object \n",
      " 7   FCVC                            2111 non-null   object \n",
      " 8   NCP                             2111 non-null   int64  \n",
      " 9   CAEC                            2111 non-null   object \n",
      " 10  SMOKE                           2111 non-null   object \n",
      " 11  CH2O                            2111 non-null   object \n",
      " 12  SCC                             2111 non-null   object \n",
      " 13  FAF                             2111 non-null   object \n",
      " 14  TUE                             2111 non-null   object \n",
      " 15  CALC                            2111 non-null   object \n",
      " 16  MTRANS                          2111 non-null   object \n",
      " 17  NObeyesdad                      2111 non-null   object \n",
      " 18  BMI                             2111 non-null   float64\n",
      "dtypes: float64(3), int64(2), object(14)\n",
      "memory usage: 313.5+ KB\n"
     ]
    }
   ],
   "source": [
    "# Informasi dataset users\n",
    "allUsersDf.info()"
   ]
  },
  {
   "cell_type": "markdown",
   "metadata": {},
   "source": [
    "### Data *Users*\n",
    "\n",
    "1. Id: Kolom index\n",
    "2. BMI (*Body Mass Index*): Indeks masa tubuh ideal (target)\n",
    "3. Gender: Jenis Kelamin \n",
    "4. Age: Umur\n",
    "5. Height: Tinggi badan (inch)\n",
    "6. Weight: Berat badan (kg)\n",
    "7. family_history_with_overweight: Riwayat keluarga dengan berat badan berlebih (obesitas)\n",
    "8. FAVC: Frekuensi mengkonsumsi makanan tinggi kalori\n",
    "9.  FCVC: Frekuensi mengkonsumsi sayur-mayur\n",
    "10. NCP: Jumlah makan pokok perhari\n",
    "11. CAEC: Frekuensi makan cemilan\n",
    "12. SMOKE: Kebiasaan merokok\n",
    "13. CH2O: Jumlah minum air\n",
    "14. SCC: Kebiasaan monitoring konsumsi kalori\n",
    "15. FAF: Frekuensi kegiatan fisik\n",
    "16. TUE: Waktu penggunaan perangkat (jam)\n",
    "17. CALC: Frekuensi mengkonsumsi alkohol\n",
    "18. MTRANS: Kategori transportasi yang digunakan\n",
    "19. NObeyesdad: Kategori berat badan\n",
    "\n",
    "Untuk uraian lebih lanjut adalah sebagai berikut:\n",
    "- Terdapat 14 kolom dengan tipe data object, yaitu Id, Gender, family_history_with_overweight,FAVC,FCVC,CAEC,SMOKE,CH2O,SCC,FAF,TUE,CALC,MTRANS,NObeyesdad\n",
    "- Terdapat 2 kolom dengan tipe data integer, yaitu Age dan NCP\n",
    "- Terdapat 3 kolom dengan tipe data float, Height, Weight, dan BMI"
   ]
  },
  {
   "cell_type": "markdown",
   "metadata": {},
   "source": [
    "## Menghapus Kolom yang Tidak Perlu\n",
    "### Dataset Diet"
   ]
  },
  {
   "cell_type": "code",
   "execution_count": 635,
   "metadata": {},
   "outputs": [
    {
     "data": {
      "text/html": [
       "<div>\n",
       "<style scoped>\n",
       "    .dataframe tbody tr th:only-of-type {\n",
       "        vertical-align: middle;\n",
       "    }\n",
       "\n",
       "    .dataframe tbody tr th {\n",
       "        vertical-align: top;\n",
       "    }\n",
       "\n",
       "    .dataframe thead th {\n",
       "        text-align: right;\n",
       "    }\n",
       "</style>\n",
       "<table border=\"1\" class=\"dataframe\">\n",
       "  <thead>\n",
       "    <tr style=\"text-align: right;\">\n",
       "      <th></th>\n",
       "      <th>Diet_type</th>\n",
       "      <th>Recipe_name</th>\n",
       "      <th>Cuisine_type</th>\n",
       "      <th>Protein(g)</th>\n",
       "      <th>Carbs(g)</th>\n",
       "      <th>Fat(g)</th>\n",
       "    </tr>\n",
       "  </thead>\n",
       "  <tbody>\n",
       "    <tr>\n",
       "      <th>0</th>\n",
       "      <td>paleo</td>\n",
       "      <td>Bone Broth From 'Nom Nom Paleo'</td>\n",
       "      <td>american</td>\n",
       "      <td>5.22</td>\n",
       "      <td>1.29</td>\n",
       "      <td>3.20</td>\n",
       "    </tr>\n",
       "    <tr>\n",
       "      <th>1</th>\n",
       "      <td>paleo</td>\n",
       "      <td>Paleo Effect Asian-Glazed Pork Sides, A Sweet ...</td>\n",
       "      <td>south east asian</td>\n",
       "      <td>181.55</td>\n",
       "      <td>28.62</td>\n",
       "      <td>146.14</td>\n",
       "    </tr>\n",
       "    <tr>\n",
       "      <th>2</th>\n",
       "      <td>paleo</td>\n",
       "      <td>Paleo Pumpkin Pie</td>\n",
       "      <td>american</td>\n",
       "      <td>30.91</td>\n",
       "      <td>302.59</td>\n",
       "      <td>96.76</td>\n",
       "    </tr>\n",
       "    <tr>\n",
       "      <th>3</th>\n",
       "      <td>paleo</td>\n",
       "      <td>Strawberry Guacamole recipes</td>\n",
       "      <td>mexican</td>\n",
       "      <td>9.62</td>\n",
       "      <td>75.78</td>\n",
       "      <td>59.89</td>\n",
       "    </tr>\n",
       "    <tr>\n",
       "      <th>4</th>\n",
       "      <td>paleo</td>\n",
       "      <td>Asian Cauliflower Fried \"Rice\" From 'Nom Nom P...</td>\n",
       "      <td>chinese</td>\n",
       "      <td>39.84</td>\n",
       "      <td>54.08</td>\n",
       "      <td>71.55</td>\n",
       "    </tr>\n",
       "  </tbody>\n",
       "</table>\n",
       "</div>"
      ],
      "text/plain": [
       "  Diet_type                                        Recipe_name  \\\n",
       "0     paleo                    Bone Broth From 'Nom Nom Paleo'   \n",
       "1     paleo  Paleo Effect Asian-Glazed Pork Sides, A Sweet ...   \n",
       "2     paleo                                  Paleo Pumpkin Pie   \n",
       "3     paleo                       Strawberry Guacamole recipes   \n",
       "4     paleo  Asian Cauliflower Fried \"Rice\" From 'Nom Nom P...   \n",
       "\n",
       "       Cuisine_type  Protein(g)  Carbs(g)  Fat(g)  \n",
       "0          american        5.22      1.29    3.20  \n",
       "1  south east asian      181.55     28.62  146.14  \n",
       "2          american       30.91    302.59   96.76  \n",
       "3           mexican        9.62     75.78   59.89  \n",
       "4           chinese       39.84     54.08   71.55  "
      ]
     },
     "execution_count": 635,
     "metadata": {},
     "output_type": "execute_result"
    }
   ],
   "source": [
    "allDietsDf = allDietsDf[['Diet_type', 'Recipe_name', 'Cuisine_type', 'Protein(g)', 'Carbs(g)', 'Fat(g)']]\n",
    "\n",
    "allDietsDf.head()"
   ]
  },
  {
   "cell_type": "markdown",
   "metadata": {},
   "source": [
    "### Dataset *Users*"
   ]
  },
  {
   "cell_type": "code",
   "execution_count": 636,
   "metadata": {},
   "outputs": [
    {
     "data": {
      "text/html": [
       "<div>\n",
       "<style scoped>\n",
       "    .dataframe tbody tr th:only-of-type {\n",
       "        vertical-align: middle;\n",
       "    }\n",
       "\n",
       "    .dataframe tbody tr th {\n",
       "        vertical-align: top;\n",
       "    }\n",
       "\n",
       "    .dataframe thead th {\n",
       "        text-align: right;\n",
       "    }\n",
       "</style>\n",
       "<table border=\"1\" class=\"dataframe\">\n",
       "  <thead>\n",
       "    <tr style=\"text-align: right;\">\n",
       "      <th></th>\n",
       "      <th>id</th>\n",
       "      <th>BMI</th>\n",
       "      <th>Weight</th>\n",
       "      <th>Gender</th>\n",
       "      <th>Age</th>\n",
       "      <th>NObeyesdad</th>\n",
       "      <th>family_history_with_overweight</th>\n",
       "    </tr>\n",
       "  </thead>\n",
       "  <tbody>\n",
       "    <tr>\n",
       "      <th>0</th>\n",
       "      <td>1</td>\n",
       "      <td>24.386526</td>\n",
       "      <td>64.0</td>\n",
       "      <td>female</td>\n",
       "      <td>21</td>\n",
       "      <td>normal_weight</td>\n",
       "      <td>yes</td>\n",
       "    </tr>\n",
       "    <tr>\n",
       "      <th>1</th>\n",
       "      <td>2</td>\n",
       "      <td>24.238227</td>\n",
       "      <td>56.0</td>\n",
       "      <td>female</td>\n",
       "      <td>21</td>\n",
       "      <td>normal_weight</td>\n",
       "      <td>yes</td>\n",
       "    </tr>\n",
       "    <tr>\n",
       "      <th>2</th>\n",
       "      <td>3</td>\n",
       "      <td>23.765432</td>\n",
       "      <td>77.0</td>\n",
       "      <td>male</td>\n",
       "      <td>23</td>\n",
       "      <td>normal_weight</td>\n",
       "      <td>yes</td>\n",
       "    </tr>\n",
       "    <tr>\n",
       "      <th>3</th>\n",
       "      <td>4</td>\n",
       "      <td>26.851852</td>\n",
       "      <td>87.0</td>\n",
       "      <td>male</td>\n",
       "      <td>27</td>\n",
       "      <td>overweight_level_i</td>\n",
       "      <td>no</td>\n",
       "    </tr>\n",
       "    <tr>\n",
       "      <th>4</th>\n",
       "      <td>5</td>\n",
       "      <td>28.342381</td>\n",
       "      <td>90.0</td>\n",
       "      <td>male</td>\n",
       "      <td>22</td>\n",
       "      <td>overweight_level_ii</td>\n",
       "      <td>no</td>\n",
       "    </tr>\n",
       "  </tbody>\n",
       "</table>\n",
       "</div>"
      ],
      "text/plain": [
       "  id        BMI  Weight  Gender  Age           NObeyesdad  \\\n",
       "0  1  24.386526    64.0  female   21        normal_weight   \n",
       "1  2  24.238227    56.0  female   21        normal_weight   \n",
       "2  3  23.765432    77.0    male   23        normal_weight   \n",
       "3  4  26.851852    87.0    male   27   overweight_level_i   \n",
       "4  5  28.342381    90.0    male   22  overweight_level_ii   \n",
       "\n",
       "  family_history_with_overweight  \n",
       "0                            yes  \n",
       "1                            yes  \n",
       "2                            yes  \n",
       "3                             no  \n",
       "4                             no  "
      ]
     },
     "execution_count": 636,
     "metadata": {},
     "output_type": "execute_result"
    }
   ],
   "source": [
    "allUsersDf = allUsersDf[['id', 'BMI','Weight',  'Gender', 'Age', 'NObeyesdad', 'family_history_with_overweight']]\n",
    "\n",
    "allUsersDf.head()"
   ]
  },
  {
   "cell_type": "markdown",
   "metadata": {},
   "source": [
    "## Cek Nilai *Unique* dan *Invalid Value* Kolom Kategorikal\n",
    "### Data Diet\n",
    "\n",
    "Diet_type"
   ]
  },
  {
   "cell_type": "code",
   "execution_count": 637,
   "metadata": {},
   "outputs": [
    {
     "name": "stdout",
     "output_type": "stream",
     "text": [
      "Jumlah nilai unik adalah 5\n",
      "Uraian nilai unik: \n",
      " ['paleo' 'vegan' 'keto' 'mediterranean' 'dash']\n"
     ]
    }
   ],
   "source": [
    "print('Jumlah nilai unik adalah', allDietsDf.Diet_type.nunique())\n",
    "print('Uraian nilai unik: \\n', allDietsDf.Diet_type.unique())"
   ]
  },
  {
   "cell_type": "markdown",
   "metadata": {},
   "source": [
    "Cuisine_type"
   ]
  },
  {
   "cell_type": "code",
   "execution_count": 638,
   "metadata": {},
   "outputs": [
    {
     "name": "stdout",
     "output_type": "stream",
     "text": [
      "Jumlah nilai unik adalah 19\n",
      "Uraian nilai unik: \n",
      " ['american' 'south east asian' 'mexican' 'chinese' 'mediterranean'\n",
      " 'italian' 'french' 'indian' 'nordic' 'eastern europe' 'central europe'\n",
      " 'kosher' 'british' 'caribbean' 'south american' 'middle eastern' 'asian'\n",
      " 'japanese' 'world']\n"
     ]
    }
   ],
   "source": [
    "print('Jumlah nilai unik adalah', allDietsDf.Cuisine_type.nunique())\n",
    "print('Uraian nilai unik: \\n', allDietsDf.Cuisine_type.unique())"
   ]
  },
  {
   "cell_type": "markdown",
   "metadata": {},
   "source": [
    "Kesimpulan yang didapatkan adalah:\n",
    "- **Tidak ada *invalid value*** pada kolom kategorikal di data diet."
   ]
  },
  {
   "cell_type": "markdown",
   "metadata": {},
   "source": [
    "### Data *Users*\n",
    "\n",
    "Gender"
   ]
  },
  {
   "cell_type": "code",
   "execution_count": 639,
   "metadata": {},
   "outputs": [
    {
     "name": "stdout",
     "output_type": "stream",
     "text": [
      "Jumlah nilai unik adalah 2\n",
      "Uraian nilai unik: \n",
      " ['female' 'male']\n"
     ]
    }
   ],
   "source": [
    "print('Jumlah nilai unik adalah', allUsersDf.Gender.nunique())\n",
    "print('Uraian nilai unik: \\n', allUsersDf.Gender.unique())"
   ]
  },
  {
   "cell_type": "markdown",
   "metadata": {},
   "source": [
    "family_history_with_overweight"
   ]
  },
  {
   "cell_type": "code",
   "execution_count": 640,
   "metadata": {},
   "outputs": [
    {
     "name": "stdout",
     "output_type": "stream",
     "text": [
      "Jumlah nilai unik adalah 2\n",
      "Uraian nilai unik: \n",
      " ['yes' 'no']\n"
     ]
    }
   ],
   "source": [
    "print('Jumlah nilai unik adalah', allUsersDf.family_history_with_overweight.nunique())\n",
    "print('Uraian nilai unik: \\n', allUsersDf.family_history_with_overweight.unique())"
   ]
  },
  {
   "cell_type": "markdown",
   "metadata": {},
   "source": [
    "NObeyesdad"
   ]
  },
  {
   "cell_type": "code",
   "execution_count": 641,
   "metadata": {},
   "outputs": [
    {
     "name": "stdout",
     "output_type": "stream",
     "text": [
      "Jumlah nilai unik adalah 7\n",
      "Uraian nilai unik: \n",
      " ['normal_weight' 'overweight_level_i' 'overweight_level_ii'\n",
      " 'obesity_type_i' 'insufficient_weight' 'obesity_type_ii'\n",
      " 'obesity_type_iii']\n"
     ]
    }
   ],
   "source": [
    "print('Jumlah nilai unik adalah', allUsersDf.NObeyesdad.nunique())\n",
    "print('Uraian nilai unik: \\n', allUsersDf.NObeyesdad.unique())"
   ]
  },
  {
   "cell_type": "markdown",
   "metadata": {},
   "source": [
    "Kesimpulan yang didapatkan adalah:\n",
    "- **Tidak ada *invalid value*** pada kolom kategorikal di data *users*."
   ]
  },
  {
   "cell_type": "markdown",
   "metadata": {},
   "source": [
    "## Cek Invalid Value Kolom Numerik"
   ]
  },
  {
   "cell_type": "markdown",
   "metadata": {},
   "source": [
    "### Data Diet"
   ]
  },
  {
   "cell_type": "markdown",
   "metadata": {},
   "source": [
    "Protein(g)"
   ]
  },
  {
   "cell_type": "code",
   "execution_count": 642,
   "metadata": {},
   "outputs": [
    {
     "name": "stdout",
     "output_type": "stream",
     "text": [
      "17\n"
     ]
    }
   ],
   "source": [
    "print((allDietsDf['Protein(g)'] <= 0).sum())"
   ]
  },
  {
   "cell_type": "markdown",
   "metadata": {},
   "source": [
    "Carbs(g)"
   ]
  },
  {
   "cell_type": "code",
   "execution_count": 643,
   "metadata": {},
   "outputs": [
    {
     "name": "stdout",
     "output_type": "stream",
     "text": [
      "0\n"
     ]
    }
   ],
   "source": [
    "print((allDietsDf['Carbs(g)'] <= 0).sum())"
   ]
  },
  {
   "cell_type": "markdown",
   "metadata": {},
   "source": [
    "Fat(g)"
   ]
  },
  {
   "cell_type": "code",
   "execution_count": 644,
   "metadata": {},
   "outputs": [
    {
     "name": "stdout",
     "output_type": "stream",
     "text": [
      "38\n"
     ]
    }
   ],
   "source": [
    "print((allDietsDf['Fat(g)'] <= 0).sum())"
   ]
  },
  {
   "cell_type": "markdown",
   "metadata": {},
   "source": [
    "Kesimpulan yang didapatkan adalah:\n",
    "- Terdapat **17** data protein yang nilainya kurang dari 0. Yang perlu dilakukan adalah **menghapus** data-data itu, bertujuan untuk memberikan rekomendasi makanan dengan nilai gizi yang cukup.\n",
    "- Terdapat **38** data lemak yang nilainya kurang dari 0. Yang perlu dilakukan adalah **mempertahankan** data-data itu, sebab kondisi itu diartikan makanan-makanan itu rendah lemak dan baik untuk dikonsumsi."
   ]
  },
  {
   "cell_type": "code",
   "execution_count": 645,
   "metadata": {},
   "outputs": [],
   "source": [
    "'''\n",
    "Penghapusan nilai protein yang kurang dari\n",
    "atau sama dengan 0 \n",
    "'''\n",
    "allDietsDf = allDietsDf[~(allDietsDf['Protein(g)'] <= 0)]"
   ]
  },
  {
   "cell_type": "markdown",
   "metadata": {},
   "source": [
    "Catatan:\n",
    "Perlu adanya pemeriksaan *outlier* untuk melihat persebaran data agar mengetahui informasi lebih lanjut."
   ]
  },
  {
   "cell_type": "markdown",
   "metadata": {},
   "source": [
    "### Data User"
   ]
  },
  {
   "cell_type": "markdown",
   "metadata": {},
   "source": [
    "BMI"
   ]
  },
  {
   "cell_type": "code",
   "execution_count": 646,
   "metadata": {},
   "outputs": [
    {
     "name": "stdout",
     "output_type": "stream",
     "text": [
      "0\n"
     ]
    }
   ],
   "source": [
    "print((allUsersDf['BMI'] <= 0).sum())"
   ]
  },
  {
   "cell_type": "markdown",
   "metadata": {},
   "source": [
    "Weight"
   ]
  },
  {
   "cell_type": "code",
   "execution_count": 647,
   "metadata": {},
   "outputs": [
    {
     "name": "stdout",
     "output_type": "stream",
     "text": [
      "0\n"
     ]
    }
   ],
   "source": [
    "print((allUsersDf['Weight'] <= 0).sum())"
   ]
  },
  {
   "cell_type": "markdown",
   "metadata": {},
   "source": [
    "Age"
   ]
  },
  {
   "cell_type": "code",
   "execution_count": 648,
   "metadata": {},
   "outputs": [
    {
     "name": "stdout",
     "output_type": "stream",
     "text": [
      "0\n"
     ]
    }
   ],
   "source": [
    "print((allUsersDf['Age'] <= 0).sum())"
   ]
  },
  {
   "cell_type": "markdown",
   "metadata": {},
   "source": [
    "Kesimpulan yang didapatkan adalah:\n",
    "- **Tidak ada *invalid value*** pada kolom numerik di data *users*.\n",
    "\n",
    "Catatan:\n",
    "Perlu adanya pemeriksaan *outlier* untuk melihat persebaran data agar mengetahui informasi lebih lanjut."
   ]
  },
  {
   "cell_type": "markdown",
   "metadata": {},
   "source": [
    "## Cek *Outliers*"
   ]
  },
  {
   "cell_type": "markdown",
   "metadata": {},
   "source": [
    "### Data Diet"
   ]
  },
  {
   "cell_type": "markdown",
   "metadata": {},
   "source": [
    "Protein(g)"
   ]
  },
  {
   "cell_type": "code",
   "execution_count": 649,
   "metadata": {},
   "outputs": [
    {
     "data": {
      "image/png": "[encoded data removed]",
      "text/plain": [
       "<Figure size 640x480 with 1 Axes>"
      ]
     },
     "metadata": {},
     "output_type": "display_data"
    }
   ],
   "source": [
    "sns.boxplot(x=allDietsDf['Protein(g)'])\n",
    "plt.savefig('assets/diet/protein1.png')"
   ]
  },
  {
   "cell_type": "markdown",
   "metadata": {},
   "source": [
    "Carbs(g)"
   ]
  },
  {
   "cell_type": "code",
   "execution_count": 650,
   "metadata": {},
   "outputs": [
    {
     "data": {
      "image/png": "[encoded data removed]",
      "text/plain": [
       "<Figure size 640x480 with 1 Axes>"
      ]
     },
     "metadata": {},
     "output_type": "display_data"
    }
   ],
   "source": [
    "sns.boxplot(x=allDietsDf['Carbs(g)'])\n",
    "plt.savefig('assets/diet/carbs1.png')"
   ]
  },
  {
   "cell_type": "markdown",
   "metadata": {},
   "source": [
    "Fat(g)"
   ]
  },
  {
   "cell_type": "code",
   "execution_count": 651,
   "metadata": {},
   "outputs": [
    {
     "data": {
      "image/png": "[encoded data removed]",
      "text/plain": [
       "<Figure size 640x480 with 1 Axes>"
      ]
     },
     "metadata": {},
     "output_type": "display_data"
    }
   ],
   "source": [
    "sns.boxplot(x=allDietsDf['Carbs(g)'])\n",
    "plt.savefig('assets/diet/carbs1.png')"
   ]
  },
  {
   "cell_type": "markdown",
   "metadata": {},
   "source": [
    "Terdapat banyak nilai yang terindikasi *outliers* pada setiap kolom di atas, hal yang perlu dilakukan adalah peninjauan banyak presentase *outliers* tersebut pada total data. Jika memungkinkan akan dihapus."
   ]
  },
  {
   "cell_type": "markdown",
   "metadata": {},
   "source": [
    "### Data *Users*"
   ]
  },
  {
   "cell_type": "markdown",
   "metadata": {},
   "source": [
    "BMI"
   ]
  },
  {
   "cell_type": "code",
   "execution_count": 652,
   "metadata": {},
   "outputs": [
    {
     "data": {
      "image/png": "[encoded data removed]",
      "text/plain": [
       "<Figure size 640x480 with 1 Axes>"
      ]
     },
     "metadata": {},
     "output_type": "display_data"
    }
   ],
   "source": [
    "sns.boxplot(x=allUsersDf['BMI'])\n",
    "plt.savefig('assets/users/bmi1.png')"
   ]
  },
  {
   "cell_type": "markdown",
   "metadata": {},
   "source": [
    "Weight"
   ]
  },
  {
   "cell_type": "code",
   "execution_count": 653,
   "metadata": {},
   "outputs": [
    {
     "data": {
      "image/png": "[encoded data removed]",
      "text/plain": [
       "<Figure size 640x480 with 1 Axes>"
      ]
     },
     "metadata": {},
     "output_type": "display_data"
    }
   ],
   "source": [
    "sns.boxplot(x=allUsersDf['Weight'])\n",
    "plt.savefig('assets/users/weight1.png')"
   ]
  },
  {
   "cell_type": "markdown",
   "metadata": {},
   "source": [
    "Age"
   ]
  },
  {
   "cell_type": "code",
   "execution_count": 654,
   "metadata": {},
   "outputs": [
    {
     "data": {
      "image/png": "[encoded data removed]",
      "text/plain": [
       "<Figure size 640x480 with 1 Axes>"
      ]
     },
     "metadata": {},
     "output_type": "display_data"
    }
   ],
   "source": [
    "sns.boxplot(x=allUsersDf['Age'])\n",
    "plt.savefig('assets/users/age1.png')"
   ]
  },
  {
   "cell_type": "markdown",
   "metadata": {},
   "source": [
    "Terdapat beberapa kesimpulan sebagai berikut:\n",
    "- Pada kolom **Weight**, banyak data *outlier* ada 1. Sehingga dapat dihapus.\n",
    "- Pada kolom **Age**, banyak data *outlier* ada banyak. Sehingga perlu peninjauan banyak presentase *outliers* tersebut pada total data. Jika memungkinkan akan dihapus."
   ]
  },
  {
   "cell_type": "markdown",
   "metadata": {},
   "source": [
    "## Penanganan *Outliers*"
   ]
  },
  {
   "cell_type": "markdown",
   "metadata": {},
   "source": [
    "### Rumus IQR"
   ]
  },
  {
   "cell_type": "code",
   "execution_count": 655,
   "metadata": {},
   "outputs": [],
   "source": [
    "def iqrFormula(data):\n",
    "    # Mengambil kuartil 1 dari keseluruhan data\n",
    "    q1 = data.quantile(0.25)\n",
    "    # Mengambil kuartil 3 dari keseluruhan data\n",
    "    q3 = data.quantile(0.75)\n",
    "\n",
    "    # Mengurangkan antara kuartil 1 dan 3\n",
    "    iqr = q3 - q1\n",
    "\n",
    "    # Batas atas\n",
    "    upper = q3 + 1.5 * iqr\n",
    "    \n",
    "    # Batas bawah\n",
    "    bottom = q1 - 1.5 * iqr\n",
    "\n",
    "    # Rumus outliers\n",
    "    outliers = ((data < bottom) | (data > upper))\n",
    "    \n",
    "    return outliers"
   ]
  },
  {
   "cell_type": "markdown",
   "metadata": {},
   "source": [
    "### Data Diet\n",
    "\n",
    "Dari hasil kesimpulan di atas, terdapat beberapa langkah yang harus dilakukan."
   ]
  },
  {
   "cell_type": "code",
   "execution_count": 656,
   "metadata": {},
   "outputs": [
    {
     "data": {
      "text/plain": [
       "(7784, 6)"
      ]
     },
     "execution_count": 656,
     "metadata": {},
     "output_type": "execute_result"
    }
   ],
   "source": [
    "# Pengecekan shape data diet\n",
    "allDietsDf.shape"
   ]
  },
  {
   "cell_type": "markdown",
   "metadata": {},
   "source": [
    "Penerapan Rumus IQR"
   ]
  },
  {
   "cell_type": "code",
   "execution_count": 657,
   "metadata": {},
   "outputs": [],
   "source": [
    "numericalDiet = allDietsDf.select_dtypes(include=['float64', 'int64'])\n",
    "\n",
    "outliers = iqrFormula(numericalDiet)\n"
   ]
  },
  {
   "cell_type": "markdown",
   "metadata": {},
   "source": [
    "Penghapusan Nilai Outlier"
   ]
  },
  {
   "cell_type": "code",
   "execution_count": 658,
   "metadata": {},
   "outputs": [],
   "source": [
    "cleanedDiets = allDietsDf[~outliers.any(axis=1)]"
   ]
  },
  {
   "cell_type": "code",
   "execution_count": 659,
   "metadata": {},
   "outputs": [
    {
     "data": {
      "text/plain": [
       "(6795, 6)"
      ]
     },
     "execution_count": 659,
     "metadata": {},
     "output_type": "execute_result"
    }
   ],
   "source": [
    "cleanedDiets.shape"
   ]
  },
  {
   "cell_type": "markdown",
   "metadata": {},
   "source": [
    "### Data *Users*"
   ]
  },
  {
   "cell_type": "code",
   "execution_count": 660,
   "metadata": {},
   "outputs": [
    {
     "data": {
      "text/plain": [
       "(2111, 7)"
      ]
     },
     "execution_count": 660,
     "metadata": {},
     "output_type": "execute_result"
    }
   ],
   "source": [
    "allUsersDf.shape"
   ]
  },
  {
   "cell_type": "markdown",
   "metadata": {},
   "source": [
    "Penerapan Rumus IQR\n"
   ]
  },
  {
   "cell_type": "code",
   "execution_count": 661,
   "metadata": {},
   "outputs": [],
   "source": [
    "numericalUsers = allUsersDf.select_dtypes(include=['float64', 'int64'])\n",
    "\n",
    "outliers = iqrFormula(numericalUsers)"
   ]
  },
  {
   "cell_type": "markdown",
   "metadata": {},
   "source": [
    "Penghapusan Nilai Outliers"
   ]
  },
  {
   "cell_type": "code",
   "execution_count": 662,
   "metadata": {},
   "outputs": [],
   "source": [
    "cleanedUsers = allUsersDf[~outliers.any(axis=1)]"
   ]
  },
  {
   "cell_type": "code",
   "execution_count": 663,
   "metadata": {},
   "outputs": [
    {
     "data": {
      "text/plain": [
       "(1950, 7)"
      ]
     },
     "execution_count": 663,
     "metadata": {},
     "output_type": "execute_result"
    }
   ],
   "source": [
    "cleanedUsers.shape"
   ]
  },
  {
   "cell_type": "markdown",
   "metadata": {},
   "source": [
    "## Pengecekan Ulang Nilai Outliers"
   ]
  },
  {
   "cell_type": "markdown",
   "metadata": {},
   "source": [
    "### Data Diet"
   ]
  },
  {
   "cell_type": "markdown",
   "metadata": {},
   "source": [
    "Protein(g)"
   ]
  },
  {
   "cell_type": "code",
   "execution_count": 664,
   "metadata": {},
   "outputs": [
    {
     "data": {
      "image/png": "[encoded data removed]",
      "text/plain": [
       "<Figure size 640x480 with 1 Axes>"
      ]
     },
     "metadata": {},
     "output_type": "display_data"
    }
   ],
   "source": [
    "sns.boxplot(x=cleanedDiets['Protein(g)'])\n",
    "plt.savefig('assets/diet/protein2.png')"
   ]
  },
  {
   "cell_type": "markdown",
   "metadata": {},
   "source": [
    "Carbs(g)"
   ]
  },
  {
   "cell_type": "code",
   "execution_count": 665,
   "metadata": {},
   "outputs": [
    {
     "data": {
      "image/png": "[encoded data removed]",
      "text/plain": [
       "<Figure size 640x480 with 1 Axes>"
      ]
     },
     "metadata": {},
     "output_type": "display_data"
    }
   ],
   "source": [
    "sns.boxplot(x=cleanedDiets['Carbs(g)'])\n",
    "plt.savefig('assets/diet/carbs2.png')"
   ]
  },
  {
   "cell_type": "markdown",
   "metadata": {},
   "source": [
    "Fat(g)"
   ]
  },
  {
   "cell_type": "code",
   "execution_count": 666,
   "metadata": {},
   "outputs": [
    {
     "data": {
      "image/png": "[encoded data removed]",
      "text/plain": [
       "<Figure size 640x480 with 1 Axes>"
      ]
     },
     "metadata": {},
     "output_type": "display_data"
    }
   ],
   "source": [
    "sns.boxplot(x=cleanedDiets['Fat(g)'])\n",
    "plt.savefig('assets/diet/fat2.png')"
   ]
  },
  {
   "cell_type": "markdown",
   "metadata": {},
   "source": [
    "Dari hasil cek di atas, masih terdapat beberapa nilai *outliers* di semua kolom. Maka perlu dilakukan penghapusan ulang."
   ]
  },
  {
   "cell_type": "markdown",
   "metadata": {},
   "source": [
    "### Data *Users*"
   ]
  },
  {
   "cell_type": "markdown",
   "metadata": {},
   "source": [
    "BMI"
   ]
  },
  {
   "cell_type": "code",
   "execution_count": 667,
   "metadata": {},
   "outputs": [
    {
     "data": {
      "image/png": "[encoded data removed]",
      "text/plain": [
       "<Figure size 640x480 with 1 Axes>"
      ]
     },
     "metadata": {},
     "output_type": "display_data"
    }
   ],
   "source": [
    "sns.boxplot(x=cleanedUsers['BMI'])\n",
    "plt.savefig('assets/users/bmi2.png')"
   ]
  },
  {
   "cell_type": "markdown",
   "metadata": {},
   "source": [
    "Weight\n"
   ]
  },
  {
   "cell_type": "code",
   "execution_count": 668,
   "metadata": {},
   "outputs": [
    {
     "data": {
      "image/png": "[encoded data removed]",
      "text/plain": [
       "<Figure size 640x480 with 1 Axes>"
      ]
     },
     "metadata": {},
     "output_type": "display_data"
    }
   ],
   "source": [
    "sns.boxplot(x=cleanedUsers['Weight'])\n",
    "plt.savefig('assets/users/weight2.png')"
   ]
  },
  {
   "cell_type": "markdown",
   "metadata": {},
   "source": [
    "Age"
   ]
  },
  {
   "cell_type": "code",
   "execution_count": 669,
   "metadata": {},
   "outputs": [
    {
     "data": {
      "image/png": "[encoded data removed]",
      "text/plain": [
       "<Figure size 640x480 with 1 Axes>"
      ]
     },
     "metadata": {},
     "output_type": "display_data"
    }
   ],
   "source": [
    "sns.boxplot(x=cleanedUsers['Age'])\n",
    "plt.savefig('assets/users/age2.png')"
   ]
  },
  {
   "cell_type": "markdown",
   "metadata": {},
   "source": [
    "Dari hasil di atas, sudah tidak terdapat nilai *outlier* pada setiap kolom dataset *users*. Maka data di atas sudah dapat digunakan untuk tahap selanjutnya."
   ]
  },
  {
   "cell_type": "markdown",
   "metadata": {},
   "source": [
    "## Penanganan Nilai *Outliers* Dataset Diet\n",
    "Dari hasil pengulangan penerapan IQR yang sudah dilakukan, ternyata terdapat iterasi pengulangan tertentu yang dilakukan. Setelah kode di bawah, sudah tidak terdapat nilai *outliers* lagi pada dataset diet."
   ]
  },
  {
   "cell_type": "code",
   "execution_count": 670,
   "metadata": {},
   "outputs": [
    {
     "data": {
      "text/plain": [
       "(6795, 6)"
      ]
     },
     "execution_count": 670,
     "metadata": {},
     "output_type": "execute_result"
    }
   ],
   "source": [
    "cleanedDiets.shape"
   ]
  },
  {
   "cell_type": "markdown",
   "metadata": {},
   "source": [
    "Penerapan Rumus IQR dan Penghapusan Nilai *Outliers*"
   ]
  },
  {
   "cell_type": "code",
   "execution_count": 671,
   "metadata": {},
   "outputs": [],
   "source": [
    "for i in range(0,8):\n",
    "    numericalDiet = cleanedDiets.select_dtypes(include=['float64', 'int64'])\n",
    "    outliers = iqrFormula(numericalDiet)\n",
    "    cleanedDiets = cleanedDiets[~outliers.any(axis=1)]"
   ]
  },
  {
   "cell_type": "code",
   "execution_count": 672,
   "metadata": {},
   "outputs": [
    {
     "data": {
      "text/plain": [
       "(5960, 6)"
      ]
     },
     "execution_count": 672,
     "metadata": {},
     "output_type": "execute_result"
    }
   ],
   "source": [
    "cleanedDiets.shape"
   ]
  },
  {
   "cell_type": "markdown",
   "metadata": {},
   "source": [
    "## Pengecekan Ulang Nilai *Outliers* Dataset Diet"
   ]
  },
  {
   "cell_type": "markdown",
   "metadata": {},
   "source": [
    "Protein(g)"
   ]
  },
  {
   "cell_type": "code",
   "execution_count": 673,
   "metadata": {},
   "outputs": [
    {
     "data": {
      "image/png": "[encoded data removed]",
      "text/plain": [
       "<Figure size 640x480 with 1 Axes>"
      ]
     },
     "metadata": {},
     "output_type": "display_data"
    }
   ],
   "source": [
    "sns.boxplot(x=cleanedDiets['Protein(g)'])\n",
    "plt.savefig('assets/diet/protein3.png')"
   ]
  },
  {
   "cell_type": "markdown",
   "metadata": {},
   "source": [
    "Carbs(g)"
   ]
  },
  {
   "cell_type": "code",
   "execution_count": 674,
   "metadata": {},
   "outputs": [
    {
     "data": {
      "image/png": "[encoded data removed]",
      "text/plain": [
       "<Figure size 640x480 with 1 Axes>"
      ]
     },
     "metadata": {},
     "output_type": "display_data"
    }
   ],
   "source": [
    "sns.boxplot(x=cleanedDiets['Carbs(g)'])\n",
    "plt.savefig('assets/diet/carbs3.png')"
   ]
  },
  {
   "cell_type": "markdown",
   "metadata": {},
   "source": [
    "Fat(g)"
   ]
  },
  {
   "cell_type": "code",
   "execution_count": 675,
   "metadata": {},
   "outputs": [
    {
     "data": {
      "image/png": "[encoded data removed]",
      "text/plain": [
       "<Figure size 640x480 with 1 Axes>"
      ]
     },
     "metadata": {},
     "output_type": "display_data"
    }
   ],
   "source": [
    "sns.boxplot(x=cleanedDiets['Fat(g)'])\n",
    "plt.savefig('assets/diet/fat3.png')"
   ]
  },
  {
   "cell_type": "markdown",
   "metadata": {},
   "source": [
    "Setelah melakukan **8** iterasi penerapan rumus IQR, terlihat bahwa sudah tidak terdapat nilai *outlier* dan data dapat digunakan pada tahap selanjutnya."
   ]
  }
 ],
 "metadata": {
  "kernelspec": {
   "display_name": "terapan",
   "language": "python",
   "name": "python3"
  },
  "language_info": {
   "codemirror_mode": {
    "name": "ipython",
    "version": 3
   },
   "file_extension": ".py",
   "mimetype": "text/x-python",
   "name": "python",
   "nbconvert_exporter": "python",
   "pygments_lexer": "ipython3",
   "version": "3.9.18"
  }
 },
 "nbformat": 4,
 "nbformat_minor": 2
}
