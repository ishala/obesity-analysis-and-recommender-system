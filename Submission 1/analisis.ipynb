{
 "cells": [
  {
   "cell_type": "markdown",
   "metadata": {},
   "source": [
    "# Import Library"
   ]
  },
  {
   "cell_type": "code",
   "execution_count": 495,
   "metadata": {},
   "outputs": [],
   "source": [
    "import pandas as pd\n",
    "import numpy as np\n",
    "import matplotlib.pyplot as plt\n",
    "import seaborn as sns"
   ]
  },
  {
   "cell_type": "markdown",
   "metadata": {},
   "source": [
    "# Data Loading"
   ]
  },
  {
   "cell_type": "code",
   "execution_count": 496,
   "metadata": {},
   "outputs": [],
   "source": [
    "# path dataset obesitas\n",
    "obesDfPath = 'data/ObesityDataSet_cleaned_and_data_sinthetic.csv'\n",
    "obesDf = pd.read_csv(obesDfPath)"
   ]
  },
  {
   "cell_type": "code",
   "execution_count": 497,
   "metadata": {},
   "outputs": [
    {
     "data": {
      "text/html": [
       "<div>\n",
       "<style scoped>\n",
       "    .dataframe tbody tr th:only-of-type {\n",
       "        vertical-align: middle;\n",
       "    }\n",
       "\n",
       "    .dataframe tbody tr th {\n",
       "        vertical-align: top;\n",
       "    }\n",
       "\n",
       "    .dataframe thead th {\n",
       "        text-align: right;\n",
       "    }\n",
       "</style>\n",
       "<table border=\"1\" class=\"dataframe\">\n",
       "  <thead>\n",
       "    <tr style=\"text-align: right;\">\n",
       "      <th></th>\n",
       "      <th>id</th>\n",
       "      <th>Gender</th>\n",
       "      <th>Age</th>\n",
       "      <th>Height</th>\n",
       "      <th>Weight</th>\n",
       "      <th>family_history_with_overweight</th>\n",
       "      <th>FAVC</th>\n",
       "      <th>FCVC</th>\n",
       "      <th>NCP</th>\n",
       "      <th>CAEC</th>\n",
       "      <th>SMOKE</th>\n",
       "      <th>CH2O</th>\n",
       "      <th>SCC</th>\n",
       "      <th>FAF</th>\n",
       "      <th>TUE</th>\n",
       "      <th>CALC</th>\n",
       "      <th>MTRANS</th>\n",
       "      <th>NObeyesdad</th>\n",
       "      <th>BMI</th>\n",
       "    </tr>\n",
       "  </thead>\n",
       "  <tbody>\n",
       "    <tr>\n",
       "      <th>0</th>\n",
       "      <td>1</td>\n",
       "      <td>female</td>\n",
       "      <td>21</td>\n",
       "      <td>1.62</td>\n",
       "      <td>64</td>\n",
       "      <td>yes</td>\n",
       "      <td>no</td>\n",
       "      <td>sometimes</td>\n",
       "      <td>3</td>\n",
       "      <td>sometimes</td>\n",
       "      <td>no</td>\n",
       "      <td>between 1 and 2 l</td>\n",
       "      <td>no</td>\n",
       "      <td>0</td>\n",
       "      <td>3 to 5</td>\n",
       "      <td>no</td>\n",
       "      <td>public_transportation</td>\n",
       "      <td>normal_weight</td>\n",
       "      <td>24.386526</td>\n",
       "    </tr>\n",
       "    <tr>\n",
       "      <th>1</th>\n",
       "      <td>2</td>\n",
       "      <td>female</td>\n",
       "      <td>21</td>\n",
       "      <td>1.52</td>\n",
       "      <td>56</td>\n",
       "      <td>yes</td>\n",
       "      <td>no</td>\n",
       "      <td>always</td>\n",
       "      <td>3</td>\n",
       "      <td>sometimes</td>\n",
       "      <td>yes</td>\n",
       "      <td>more than 2 l</td>\n",
       "      <td>yes</td>\n",
       "      <td>4 to 5</td>\n",
       "      <td>0 to 2</td>\n",
       "      <td>sometimes</td>\n",
       "      <td>public_transportation</td>\n",
       "      <td>normal_weight</td>\n",
       "      <td>24.238227</td>\n",
       "    </tr>\n",
       "    <tr>\n",
       "      <th>2</th>\n",
       "      <td>3</td>\n",
       "      <td>male</td>\n",
       "      <td>23</td>\n",
       "      <td>1.80</td>\n",
       "      <td>77</td>\n",
       "      <td>yes</td>\n",
       "      <td>no</td>\n",
       "      <td>sometimes</td>\n",
       "      <td>3</td>\n",
       "      <td>sometimes</td>\n",
       "      <td>no</td>\n",
       "      <td>between 1 and 2 l</td>\n",
       "      <td>no</td>\n",
       "      <td>2 to 4</td>\n",
       "      <td>3 to 5</td>\n",
       "      <td>frequently</td>\n",
       "      <td>public_transportation</td>\n",
       "      <td>normal_weight</td>\n",
       "      <td>23.765432</td>\n",
       "    </tr>\n",
       "    <tr>\n",
       "      <th>3</th>\n",
       "      <td>4</td>\n",
       "      <td>male</td>\n",
       "      <td>27</td>\n",
       "      <td>1.80</td>\n",
       "      <td>87</td>\n",
       "      <td>no</td>\n",
       "      <td>no</td>\n",
       "      <td>always</td>\n",
       "      <td>3</td>\n",
       "      <td>sometimes</td>\n",
       "      <td>no</td>\n",
       "      <td>between 1 and 2 l</td>\n",
       "      <td>no</td>\n",
       "      <td>2 to 4</td>\n",
       "      <td>0 to 2</td>\n",
       "      <td>frequently</td>\n",
       "      <td>walking</td>\n",
       "      <td>overweight_level_i</td>\n",
       "      <td>26.851852</td>\n",
       "    </tr>\n",
       "    <tr>\n",
       "      <th>4</th>\n",
       "      <td>5</td>\n",
       "      <td>male</td>\n",
       "      <td>22</td>\n",
       "      <td>1.78</td>\n",
       "      <td>90</td>\n",
       "      <td>no</td>\n",
       "      <td>no</td>\n",
       "      <td>sometimes</td>\n",
       "      <td>1</td>\n",
       "      <td>sometimes</td>\n",
       "      <td>no</td>\n",
       "      <td>between 1 and 2 l</td>\n",
       "      <td>no</td>\n",
       "      <td>0</td>\n",
       "      <td>0 to 2</td>\n",
       "      <td>sometimes</td>\n",
       "      <td>public_transportation</td>\n",
       "      <td>overweight_level_ii</td>\n",
       "      <td>28.342381</td>\n",
       "    </tr>\n",
       "  </tbody>\n",
       "</table>\n",
       "</div>"
      ],
      "text/plain": [
       "  id  Gender  Age  Height  Weight family_history_with_overweight FAVC  \\\n",
       "0  1  female   21    1.62      64                            yes   no   \n",
       "1  2  female   21    1.52      56                            yes   no   \n",
       "2  3    male   23    1.80      77                            yes   no   \n",
       "3  4    male   27    1.80      87                             no   no   \n",
       "4  5    male   22    1.78      90                             no   no   \n",
       "\n",
       "        FCVC  NCP       CAEC SMOKE               CH2O  SCC     FAF     TUE  \\\n",
       "0  sometimes    3  sometimes    no  between 1 and 2 l   no       0  3 to 5   \n",
       "1     always    3  sometimes   yes      more than 2 l  yes  4 to 5  0 to 2   \n",
       "2  sometimes    3  sometimes    no  between 1 and 2 l   no  2 to 4  3 to 5   \n",
       "3     always    3  sometimes    no  between 1 and 2 l   no  2 to 4  0 to 2   \n",
       "4  sometimes    1  sometimes    no  between 1 and 2 l   no       0  0 to 2   \n",
       "\n",
       "         CALC                 MTRANS           NObeyesdad        BMI  \n",
       "0          no  public_transportation        normal_weight  24.386526  \n",
       "1   sometimes  public_transportation        normal_weight  24.238227  \n",
       "2  frequently  public_transportation        normal_weight  23.765432  \n",
       "3  frequently                walking   overweight_level_i  26.851852  \n",
       "4   sometimes  public_transportation  overweight_level_ii  28.342381  "
      ]
     },
     "execution_count": 497,
     "metadata": {},
     "output_type": "execute_result"
    }
   ],
   "source": [
    "# tinjau dataset obesitas\n",
    "obesDf.head()"
   ]
  },
  {
   "cell_type": "markdown",
   "metadata": {},
   "source": [
    "# Data Assessing"
   ]
  },
  {
   "cell_type": "code",
   "execution_count": 498,
   "metadata": {},
   "outputs": [
    {
     "data": {
      "text/plain": [
       "(2111, 19)"
      ]
     },
     "execution_count": 498,
     "metadata": {},
     "output_type": "execute_result"
    }
   ],
   "source": [
    "# Cek shape dataset obesitas\n",
    "obesDf.shape"
   ]
  },
  {
   "cell_type": "markdown",
   "metadata": {},
   "source": [
    "## Penilaian Tiap Dataset"
   ]
  },
  {
   "cell_type": "markdown",
   "metadata": {},
   "source": [
    "### Penilaian Dataset Obesitas\n"
   ]
  },
  {
   "cell_type": "code",
   "execution_count": 499,
   "metadata": {},
   "outputs": [
    {
     "name": "stdout",
     "output_type": "stream",
     "text": [
      "<class 'pandas.core.frame.DataFrame'>\n",
      "RangeIndex: 2111 entries, 0 to 2110\n",
      "Data columns (total 19 columns):\n",
      " #   Column                          Non-Null Count  Dtype  \n",
      "---  ------                          --------------  -----  \n",
      " 0   id                              2111 non-null   object \n",
      " 1   Gender                          2111 non-null   object \n",
      " 2   Age                             2111 non-null   int64  \n",
      " 3   Height                          2111 non-null   float64\n",
      " 4   Weight                          2111 non-null   int64  \n",
      " 5   family_history_with_overweight  2111 non-null   object \n",
      " 6   FAVC                            2111 non-null   object \n",
      " 7   FCVC                            2111 non-null   object \n",
      " 8   NCP                             2111 non-null   int64  \n",
      " 9   CAEC                            2111 non-null   object \n",
      " 10  SMOKE                           2111 non-null   object \n",
      " 11  CH2O                            2111 non-null   object \n",
      " 12  SCC                             2111 non-null   object \n",
      " 13  FAF                             2111 non-null   object \n",
      " 14  TUE                             2111 non-null   object \n",
      " 15  CALC                            2111 non-null   object \n",
      " 16  MTRANS                          2111 non-null   object \n",
      " 17  NObeyesdad                      2111 non-null   object \n",
      " 18  BMI                             2111 non-null   float64\n",
      "dtypes: float64(2), int64(3), object(14)\n",
      "memory usage: 313.5+ KB\n"
     ]
    }
   ],
   "source": [
    "obesDf.info()"
   ]
  },
  {
   "cell_type": "markdown",
   "metadata": {},
   "source": [
    "Cek data null"
   ]
  },
  {
   "cell_type": "code",
   "execution_count": 500,
   "metadata": {},
   "outputs": [
    {
     "data": {
      "text/plain": [
       "id                                0\n",
       "Gender                            0\n",
       "Age                               0\n",
       "Height                            0\n",
       "Weight                            0\n",
       "family_history_with_overweight    0\n",
       "FAVC                              0\n",
       "FCVC                              0\n",
       "NCP                               0\n",
       "CAEC                              0\n",
       "SMOKE                             0\n",
       "CH2O                              0\n",
       "SCC                               0\n",
       "FAF                               0\n",
       "TUE                               0\n",
       "CALC                              0\n",
       "MTRANS                            0\n",
       "NObeyesdad                        0\n",
       "BMI                               0\n",
       "dtype: int64"
      ]
     },
     "execution_count": 500,
     "metadata": {},
     "output_type": "execute_result"
    }
   ],
   "source": [
    "obesDf.isna().sum()"
   ]
  },
  {
   "cell_type": "markdown",
   "metadata": {},
   "source": [
    "Cek data duplikat"
   ]
  },
  {
   "cell_type": "code",
   "execution_count": 501,
   "metadata": {},
   "outputs": [
    {
     "data": {
      "text/plain": [
       "0"
      ]
     },
     "execution_count": 501,
     "metadata": {},
     "output_type": "execute_result"
    }
   ],
   "source": [
    "obesDf.duplicated().sum()"
   ]
  },
  {
   "cell_type": "code",
   "execution_count": 502,
   "metadata": {},
   "outputs": [
    {
     "data": {
      "text/html": [
       "<div>\n",
       "<style scoped>\n",
       "    .dataframe tbody tr th:only-of-type {\n",
       "        vertical-align: middle;\n",
       "    }\n",
       "\n",
       "    .dataframe tbody tr th {\n",
       "        vertical-align: top;\n",
       "    }\n",
       "\n",
       "    .dataframe thead th {\n",
       "        text-align: right;\n",
       "    }\n",
       "</style>\n",
       "<table border=\"1\" class=\"dataframe\">\n",
       "  <thead>\n",
       "    <tr style=\"text-align: right;\">\n",
       "      <th></th>\n",
       "      <th>Age</th>\n",
       "      <th>Height</th>\n",
       "      <th>Weight</th>\n",
       "      <th>NCP</th>\n",
       "      <th>BMI</th>\n",
       "    </tr>\n",
       "  </thead>\n",
       "  <tbody>\n",
       "    <tr>\n",
       "      <th>count</th>\n",
       "      <td>2111.000000</td>\n",
       "      <td>2111.000000</td>\n",
       "      <td>2111.000000</td>\n",
       "      <td>2111.000000</td>\n",
       "      <td>2111.000000</td>\n",
       "    </tr>\n",
       "    <tr>\n",
       "      <th>mean</th>\n",
       "      <td>24.315964</td>\n",
       "      <td>1.701677</td>\n",
       "      <td>86.588820</td>\n",
       "      <td>2.687826</td>\n",
       "      <td>29.700159</td>\n",
       "    </tr>\n",
       "    <tr>\n",
       "      <th>std</th>\n",
       "      <td>6.357078</td>\n",
       "      <td>0.093305</td>\n",
       "      <td>26.188572</td>\n",
       "      <td>0.809680</td>\n",
       "      <td>8.011337</td>\n",
       "    </tr>\n",
       "    <tr>\n",
       "      <th>min</th>\n",
       "      <td>14.000000</td>\n",
       "      <td>1.450000</td>\n",
       "      <td>39.000000</td>\n",
       "      <td>1.000000</td>\n",
       "      <td>12.998685</td>\n",
       "    </tr>\n",
       "    <tr>\n",
       "      <th>25%</th>\n",
       "      <td>20.000000</td>\n",
       "      <td>1.630000</td>\n",
       "      <td>65.500000</td>\n",
       "      <td>3.000000</td>\n",
       "      <td>24.325802</td>\n",
       "    </tr>\n",
       "    <tr>\n",
       "      <th>50%</th>\n",
       "      <td>23.000000</td>\n",
       "      <td>1.700499</td>\n",
       "      <td>83.000000</td>\n",
       "      <td>3.000000</td>\n",
       "      <td>28.719089</td>\n",
       "    </tr>\n",
       "    <tr>\n",
       "      <th>75%</th>\n",
       "      <td>26.000000</td>\n",
       "      <td>1.768464</td>\n",
       "      <td>107.000000</td>\n",
       "      <td>3.000000</td>\n",
       "      <td>36.016501</td>\n",
       "    </tr>\n",
       "    <tr>\n",
       "      <th>max</th>\n",
       "      <td>61.000000</td>\n",
       "      <td>1.980000</td>\n",
       "      <td>173.000000</td>\n",
       "      <td>4.000000</td>\n",
       "      <td>50.811753</td>\n",
       "    </tr>\n",
       "  </tbody>\n",
       "</table>\n",
       "</div>"
      ],
      "text/plain": [
       "               Age       Height       Weight          NCP          BMI\n",
       "count  2111.000000  2111.000000  2111.000000  2111.000000  2111.000000\n",
       "mean     24.315964     1.701677    86.588820     2.687826    29.700159\n",
       "std       6.357078     0.093305    26.188572     0.809680     8.011337\n",
       "min      14.000000     1.450000    39.000000     1.000000    12.998685\n",
       "25%      20.000000     1.630000    65.500000     3.000000    24.325802\n",
       "50%      23.000000     1.700499    83.000000     3.000000    28.719089\n",
       "75%      26.000000     1.768464   107.000000     3.000000    36.016501\n",
       "max      61.000000     1.980000   173.000000     4.000000    50.811753"
      ]
     },
     "execution_count": 502,
     "metadata": {},
     "output_type": "execute_result"
    }
   ],
   "source": [
    "obesDf.describe()"
   ]
  },
  {
   "cell_type": "markdown",
   "metadata": {},
   "source": [
    "Dari hasil di atas, bahwa pada dataset obesitas:\n",
    "- Tidak ada nilai null\n",
    "- Tidak ada nilai duplikat\n",
    "\n",
    "Catatan:\n",
    "Terdapat kesalahan tipe data ada kolom Weight, perlu perubahan dari tipe data integer menjadi float"
   ]
  },
  {
   "cell_type": "markdown",
   "metadata": {},
   "source": [
    "# Data Cleaning"
   ]
  },
  {
   "cell_type": "markdown",
   "metadata": {},
   "source": [
    "## Mengubah Tipe Data Kolom Weight pada Dataset Obesitas"
   ]
  },
  {
   "cell_type": "code",
   "execution_count": 503,
   "metadata": {},
   "outputs": [],
   "source": [
    "obesDf['Weight'] = obesDf.Weight.astype(float)"
   ]
  },
  {
   "cell_type": "code",
   "execution_count": 504,
   "metadata": {},
   "outputs": [
    {
     "data": {
      "text/html": [
       "<div>\n",
       "<style scoped>\n",
       "    .dataframe tbody tr th:only-of-type {\n",
       "        vertical-align: middle;\n",
       "    }\n",
       "\n",
       "    .dataframe tbody tr th {\n",
       "        vertical-align: top;\n",
       "    }\n",
       "\n",
       "    .dataframe thead th {\n",
       "        text-align: right;\n",
       "    }\n",
       "</style>\n",
       "<table border=\"1\" class=\"dataframe\">\n",
       "  <thead>\n",
       "    <tr style=\"text-align: right;\">\n",
       "      <th></th>\n",
       "      <th>id</th>\n",
       "      <th>Gender</th>\n",
       "      <th>Age</th>\n",
       "      <th>Height</th>\n",
       "      <th>Weight</th>\n",
       "      <th>family_history_with_overweight</th>\n",
       "      <th>FAVC</th>\n",
       "      <th>FCVC</th>\n",
       "      <th>NCP</th>\n",
       "      <th>CAEC</th>\n",
       "      <th>SMOKE</th>\n",
       "      <th>CH2O</th>\n",
       "      <th>SCC</th>\n",
       "      <th>FAF</th>\n",
       "      <th>TUE</th>\n",
       "      <th>CALC</th>\n",
       "      <th>MTRANS</th>\n",
       "      <th>NObeyesdad</th>\n",
       "      <th>BMI</th>\n",
       "    </tr>\n",
       "  </thead>\n",
       "  <tbody>\n",
       "    <tr>\n",
       "      <th>0</th>\n",
       "      <td>1</td>\n",
       "      <td>female</td>\n",
       "      <td>21</td>\n",
       "      <td>1.62</td>\n",
       "      <td>64.0</td>\n",
       "      <td>yes</td>\n",
       "      <td>no</td>\n",
       "      <td>sometimes</td>\n",
       "      <td>3</td>\n",
       "      <td>sometimes</td>\n",
       "      <td>no</td>\n",
       "      <td>between 1 and 2 l</td>\n",
       "      <td>no</td>\n",
       "      <td>0</td>\n",
       "      <td>3 to 5</td>\n",
       "      <td>no</td>\n",
       "      <td>public_transportation</td>\n",
       "      <td>normal_weight</td>\n",
       "      <td>24.386526</td>\n",
       "    </tr>\n",
       "    <tr>\n",
       "      <th>1</th>\n",
       "      <td>2</td>\n",
       "      <td>female</td>\n",
       "      <td>21</td>\n",
       "      <td>1.52</td>\n",
       "      <td>56.0</td>\n",
       "      <td>yes</td>\n",
       "      <td>no</td>\n",
       "      <td>always</td>\n",
       "      <td>3</td>\n",
       "      <td>sometimes</td>\n",
       "      <td>yes</td>\n",
       "      <td>more than 2 l</td>\n",
       "      <td>yes</td>\n",
       "      <td>4 to 5</td>\n",
       "      <td>0 to 2</td>\n",
       "      <td>sometimes</td>\n",
       "      <td>public_transportation</td>\n",
       "      <td>normal_weight</td>\n",
       "      <td>24.238227</td>\n",
       "    </tr>\n",
       "    <tr>\n",
       "      <th>2</th>\n",
       "      <td>3</td>\n",
       "      <td>male</td>\n",
       "      <td>23</td>\n",
       "      <td>1.80</td>\n",
       "      <td>77.0</td>\n",
       "      <td>yes</td>\n",
       "      <td>no</td>\n",
       "      <td>sometimes</td>\n",
       "      <td>3</td>\n",
       "      <td>sometimes</td>\n",
       "      <td>no</td>\n",
       "      <td>between 1 and 2 l</td>\n",
       "      <td>no</td>\n",
       "      <td>2 to 4</td>\n",
       "      <td>3 to 5</td>\n",
       "      <td>frequently</td>\n",
       "      <td>public_transportation</td>\n",
       "      <td>normal_weight</td>\n",
       "      <td>23.765432</td>\n",
       "    </tr>\n",
       "    <tr>\n",
       "      <th>3</th>\n",
       "      <td>4</td>\n",
       "      <td>male</td>\n",
       "      <td>27</td>\n",
       "      <td>1.80</td>\n",
       "      <td>87.0</td>\n",
       "      <td>no</td>\n",
       "      <td>no</td>\n",
       "      <td>always</td>\n",
       "      <td>3</td>\n",
       "      <td>sometimes</td>\n",
       "      <td>no</td>\n",
       "      <td>between 1 and 2 l</td>\n",
       "      <td>no</td>\n",
       "      <td>2 to 4</td>\n",
       "      <td>0 to 2</td>\n",
       "      <td>frequently</td>\n",
       "      <td>walking</td>\n",
       "      <td>overweight_level_i</td>\n",
       "      <td>26.851852</td>\n",
       "    </tr>\n",
       "    <tr>\n",
       "      <th>4</th>\n",
       "      <td>5</td>\n",
       "      <td>male</td>\n",
       "      <td>22</td>\n",
       "      <td>1.78</td>\n",
       "      <td>90.0</td>\n",
       "      <td>no</td>\n",
       "      <td>no</td>\n",
       "      <td>sometimes</td>\n",
       "      <td>1</td>\n",
       "      <td>sometimes</td>\n",
       "      <td>no</td>\n",
       "      <td>between 1 and 2 l</td>\n",
       "      <td>no</td>\n",
       "      <td>0</td>\n",
       "      <td>0 to 2</td>\n",
       "      <td>sometimes</td>\n",
       "      <td>public_transportation</td>\n",
       "      <td>overweight_level_ii</td>\n",
       "      <td>28.342381</td>\n",
       "    </tr>\n",
       "  </tbody>\n",
       "</table>\n",
       "</div>"
      ],
      "text/plain": [
       "  id  Gender  Age  Height  Weight family_history_with_overweight FAVC  \\\n",
       "0  1  female   21    1.62    64.0                            yes   no   \n",
       "1  2  female   21    1.52    56.0                            yes   no   \n",
       "2  3    male   23    1.80    77.0                            yes   no   \n",
       "3  4    male   27    1.80    87.0                             no   no   \n",
       "4  5    male   22    1.78    90.0                             no   no   \n",
       "\n",
       "        FCVC  NCP       CAEC SMOKE               CH2O  SCC     FAF     TUE  \\\n",
       "0  sometimes    3  sometimes    no  between 1 and 2 l   no       0  3 to 5   \n",
       "1     always    3  sometimes   yes      more than 2 l  yes  4 to 5  0 to 2   \n",
       "2  sometimes    3  sometimes    no  between 1 and 2 l   no  2 to 4  3 to 5   \n",
       "3     always    3  sometimes    no  between 1 and 2 l   no  2 to 4  0 to 2   \n",
       "4  sometimes    1  sometimes    no  between 1 and 2 l   no       0  0 to 2   \n",
       "\n",
       "         CALC                 MTRANS           NObeyesdad        BMI  \n",
       "0          no  public_transportation        normal_weight  24.386526  \n",
       "1   sometimes  public_transportation        normal_weight  24.238227  \n",
       "2  frequently  public_transportation        normal_weight  23.765432  \n",
       "3  frequently                walking   overweight_level_i  26.851852  \n",
       "4   sometimes  public_transportation  overweight_level_ii  28.342381  "
      ]
     },
     "execution_count": 504,
     "metadata": {},
     "output_type": "execute_result"
    }
   ],
   "source": [
    "obesDf.head()"
   ]
  },
  {
   "cell_type": "markdown",
   "metadata": {},
   "source": [
    "# Exploratory Data Analysis"
   ]
  },
  {
   "cell_type": "code",
   "execution_count": 505,
   "metadata": {},
   "outputs": [
    {
     "name": "stdout",
     "output_type": "stream",
     "text": [
      "<class 'pandas.core.frame.DataFrame'>\n",
      "RangeIndex: 2111 entries, 0 to 2110\n",
      "Data columns (total 19 columns):\n",
      " #   Column                          Non-Null Count  Dtype  \n",
      "---  ------                          --------------  -----  \n",
      " 0   id                              2111 non-null   object \n",
      " 1   Gender                          2111 non-null   object \n",
      " 2   Age                             2111 non-null   int64  \n",
      " 3   Height                          2111 non-null   float64\n",
      " 4   Weight                          2111 non-null   float64\n",
      " 5   family_history_with_overweight  2111 non-null   object \n",
      " 6   FAVC                            2111 non-null   object \n",
      " 7   FCVC                            2111 non-null   object \n",
      " 8   NCP                             2111 non-null   int64  \n",
      " 9   CAEC                            2111 non-null   object \n",
      " 10  SMOKE                           2111 non-null   object \n",
      " 11  CH2O                            2111 non-null   object \n",
      " 12  SCC                             2111 non-null   object \n",
      " 13  FAF                             2111 non-null   object \n",
      " 14  TUE                             2111 non-null   object \n",
      " 15  CALC                            2111 non-null   object \n",
      " 16  MTRANS                          2111 non-null   object \n",
      " 17  NObeyesdad                      2111 non-null   object \n",
      " 18  BMI                             2111 non-null   float64\n",
      "dtypes: float64(3), int64(2), object(14)\n",
      "memory usage: 313.5+ KB\n"
     ]
    }
   ],
   "source": [
    "obesDf.info()"
   ]
  },
  {
   "cell_type": "markdown",
   "metadata": {},
   "source": [
    "## Deskripsi Variabel - Dataset Obesitas\n",
    "1. Id: Kolom index\n",
    "2. BMI (*Body Mass Index*): Indeks masa tubuh ideal (target)\n",
    "3. Gender: Jenis Kelamin \n",
    "4. Age: Umur\n",
    "5. Height: Tinggi badan (inch)\n",
    "6. Weight: Berat badan (kg)\n",
    "7. family_history_with_overweight: Riwayat keluarga dengan berat badan berlebih (obesitas)\n",
    "8. FAVC: Frekuensi mengkonsumsi makanan tinggi kalori\n",
    "9.  FCVC: Frekuensi mengkonsumsi sayur-mayur\n",
    "10. NCP: Jumlah makan pokok perhari\n",
    "11. CAEC: Frekuensi makan cemilan\n",
    "12. SMOKE: Kebiasaan merokok\n",
    "13. CH2O: Jumlah minum air\n",
    "14. SCC: Kebiasaan monitoring konsumsi kalori\n",
    "15. FAF: Frekuensi kegiatan fisik\n",
    "16. TUE: Waktu penggunaan perangkat (jam)\n",
    "17. CALC: Frekuensi mengkonsumsi alkohol\n",
    "18. MTRANS: Kategori transportasi yang digunakan\n",
    "19. NObeyesdad: Kategori berat badan\n",
    "\n",
    "Untuk uraian lebih lanjut adalah sebagai berikut:\n",
    "- Terdapat 14 kolom dengan tipe data object, yaitu Id, Gender, family_history_with_overweight,FAVC,FCVC,CAEC,SMOKE,CH2O,SCC,FAF,TUE,CALC,MTRANS,NObeyesdad\n",
    "- Terdapat 2 kolom dengan tipe data integer, yaitu Age dan NCP\n",
    "- Terdapat 3 kolom dengan tipe data float, Height, Weight, dan BMI"
   ]
  },
  {
   "cell_type": "markdown",
   "metadata": {},
   "source": [
    "## Pencarian Missing Value - Dataset Obesitas\n"
   ]
  },
  {
   "cell_type": "markdown",
   "metadata": {},
   "source": [
    "Pada kasus dataset ini, saya hanya akan mengambil kolom yang akan digunakan pada model Machine Learning nantinya. Dengan tujuan untuk memprediksi berapa besar BMI (*Body Mass Index*) dari perhitungan tinggi badan (Height), dan berat badan (Weight)."
   ]
  },
  {
   "cell_type": "markdown",
   "metadata": {},
   "source": [
    "## Menghapus Kolom yang Tidak Perlu"
   ]
  },
  {
   "cell_type": "code",
   "execution_count": 506,
   "metadata": {},
   "outputs": [
    {
     "data": {
      "text/html": [
       "<div>\n",
       "<style scoped>\n",
       "    .dataframe tbody tr th:only-of-type {\n",
       "        vertical-align: middle;\n",
       "    }\n",
       "\n",
       "    .dataframe tbody tr th {\n",
       "        vertical-align: top;\n",
       "    }\n",
       "\n",
       "    .dataframe thead th {\n",
       "        text-align: right;\n",
       "    }\n",
       "</style>\n",
       "<table border=\"1\" class=\"dataframe\">\n",
       "  <thead>\n",
       "    <tr style=\"text-align: right;\">\n",
       "      <th></th>\n",
       "      <th>Height</th>\n",
       "      <th>Weight</th>\n",
       "      <th>BMI</th>\n",
       "    </tr>\n",
       "  </thead>\n",
       "  <tbody>\n",
       "    <tr>\n",
       "      <th>0</th>\n",
       "      <td>1.62</td>\n",
       "      <td>64.0</td>\n",
       "      <td>24.386526</td>\n",
       "    </tr>\n",
       "    <tr>\n",
       "      <th>1</th>\n",
       "      <td>1.52</td>\n",
       "      <td>56.0</td>\n",
       "      <td>24.238227</td>\n",
       "    </tr>\n",
       "    <tr>\n",
       "      <th>2</th>\n",
       "      <td>1.80</td>\n",
       "      <td>77.0</td>\n",
       "      <td>23.765432</td>\n",
       "    </tr>\n",
       "    <tr>\n",
       "      <th>3</th>\n",
       "      <td>1.80</td>\n",
       "      <td>87.0</td>\n",
       "      <td>26.851852</td>\n",
       "    </tr>\n",
       "    <tr>\n",
       "      <th>4</th>\n",
       "      <td>1.78</td>\n",
       "      <td>90.0</td>\n",
       "      <td>28.342381</td>\n",
       "    </tr>\n",
       "  </tbody>\n",
       "</table>\n",
       "</div>"
      ],
      "text/plain": [
       "   Height  Weight        BMI\n",
       "0    1.62    64.0  24.386526\n",
       "1    1.52    56.0  24.238227\n",
       "2    1.80    77.0  23.765432\n",
       "3    1.80    87.0  26.851852\n",
       "4    1.78    90.0  28.342381"
      ]
     },
     "execution_count": 506,
     "metadata": {},
     "output_type": "execute_result"
    }
   ],
   "source": [
    "# Mengambil hanya kolom yang digunakan\n",
    "obesDf = obesDf[['Height', 'Weight', 'BMI']]\n",
    "\n",
    "obesDf.head()"
   ]
  },
  {
   "cell_type": "code",
   "execution_count": 507,
   "metadata": {},
   "outputs": [
    {
     "data": {
      "text/plain": [
       "(2111, 3)"
      ]
     },
     "execution_count": 507,
     "metadata": {},
     "output_type": "execute_result"
    }
   ],
   "source": [
    "# Cek Shape\n",
    "obesDf.shape"
   ]
  },
  {
   "cell_type": "markdown",
   "metadata": {},
   "source": [
    "## Cek Missing Value Kolom Numerik"
   ]
  },
  {
   "cell_type": "markdown",
   "metadata": {},
   "source": [
    "### 1. Kolom Height"
   ]
  },
  {
   "cell_type": "code",
   "execution_count": 508,
   "metadata": {},
   "outputs": [
    {
     "name": "stdout",
     "output_type": "stream",
     "text": [
      "0\n"
     ]
    }
   ],
   "source": [
    "heightZero = (obesDf.Height == 0).sum()\n",
    "print(heightZero)"
   ]
  },
  {
   "cell_type": "markdown",
   "metadata": {},
   "source": [
    "### 2. Kolom Weight"
   ]
  },
  {
   "cell_type": "code",
   "execution_count": 509,
   "metadata": {},
   "outputs": [
    {
     "name": "stdout",
     "output_type": "stream",
     "text": [
      "0\n"
     ]
    }
   ],
   "source": [
    "weightZero = (obesDf.Weight == 0).sum()\n",
    "print(weightZero)"
   ]
  },
  {
   "cell_type": "markdown",
   "metadata": {},
   "source": [
    "### 4. Kolom BMI"
   ]
  },
  {
   "cell_type": "code",
   "execution_count": 510,
   "metadata": {},
   "outputs": [
    {
     "name": "stdout",
     "output_type": "stream",
     "text": [
      "0\n"
     ]
    }
   ],
   "source": [
    "zeroBMI = (obesDf.BMI == 0).sum()\n",
    "\n",
    "print(zeroBMI)"
   ]
  },
  {
   "cell_type": "markdown",
   "metadata": {},
   "source": [
    "Kesimpulan yang didapatkan adalah: \n",
    "\n",
    "- **tidak ada *missing value*** pada kolom numerik di dataset. "
   ]
  },
  {
   "cell_type": "markdown",
   "metadata": {},
   "source": [
    "## Cek Outliers"
   ]
  },
  {
   "cell_type": "code",
   "execution_count": 511,
   "metadata": {},
   "outputs": [
    {
     "data": {
      "text/plain": [
       "(2111, 3)"
      ]
     },
     "execution_count": 511,
     "metadata": {},
     "output_type": "execute_result"
    }
   ],
   "source": [
    "obesDf.shape"
   ]
  },
  {
   "cell_type": "markdown",
   "metadata": {},
   "source": [
    "### 1. Kolom Height"
   ]
  },
  {
   "cell_type": "code",
   "execution_count": 512,
   "metadata": {},
   "outputs": [
    {
     "data": {
      "text/plain": [
       "<Axes: xlabel='Height'>"
      ]
     },
     "execution_count": 512,
     "metadata": {},
     "output_type": "execute_result"
    },
    {
     "data": {
      "image/png": "[encoded data removed]",
      "text/plain": [
       "<Figure size 640x480 with 1 Axes>"
      ]
     },
     "metadata": {},
     "output_type": "display_data"
    }
   ],
   "source": [
    "sns.boxplot(x=obesDf['Height'])"
   ]
  },
  {
   "cell_type": "markdown",
   "metadata": {},
   "source": [
    "### 2. Kolom Weight"
   ]
  },
  {
   "cell_type": "code",
   "execution_count": 513,
   "metadata": {},
   "outputs": [
    {
     "data": {
      "text/plain": [
       "<Axes: xlabel='Weight'>"
      ]
     },
     "execution_count": 513,
     "metadata": {},
     "output_type": "execute_result"
    },
    {
     "data": {
      "image/png": "[encoded data removed]",
      "text/plain": [
       "<Figure size 640x480 with 1 Axes>"
      ]
     },
     "metadata": {},
     "output_type": "display_data"
    }
   ],
   "source": [
    "sns.boxplot(x=obesDf['Weight'])"
   ]
  },
  {
   "cell_type": "markdown",
   "metadata": {},
   "source": [
    "### 3. Kolom BMI"
   ]
  },
  {
   "cell_type": "code",
   "execution_count": 514,
   "metadata": {},
   "outputs": [
    {
     "data": {
      "text/plain": [
       "<Axes: xlabel='BMI'>"
      ]
     },
     "execution_count": 514,
     "metadata": {},
     "output_type": "execute_result"
    },
    {
     "data": {
      "image/png": "[encoded data removed]",
      "text/plain": [
       "<Figure size 640x480 with 1 Axes>"
      ]
     },
     "metadata": {},
     "output_type": "display_data"
    }
   ],
   "source": [
    "sns.boxplot(x=obesDf['BMI'])"
   ]
  },
  {
   "cell_type": "markdown",
   "metadata": {},
   "source": [
    "Kesimpulan:\n",
    "\n",
    "Terdapat data *outlier* pada :\n",
    "\n",
    "1. Kolom Height \n",
    "2. Kolom Weight"
   ]
  },
  {
   "cell_type": "markdown",
   "metadata": {},
   "source": [
    "## Penanganan Outlier\n",
    "\n",
    "Penanganan pada data-data outliers yang terdeteksi, saya menggunakan metode *Inter Quartile Range* (IQR) untuk mengeliminasinya."
   ]
  },
  {
   "cell_type": "code",
   "execution_count": 515,
   "metadata": {},
   "outputs": [
    {
     "data": {
      "text/plain": [
       "(2111, 3)"
      ]
     },
     "execution_count": 515,
     "metadata": {},
     "output_type": "execute_result"
    }
   ],
   "source": [
    "# Cek shape data awal\n",
    "obesDf.shape"
   ]
  },
  {
   "cell_type": "markdown",
   "metadata": {},
   "source": [
    "### Penerapan Rumus IQR"
   ]
  },
  {
   "cell_type": "code",
   "execution_count": 516,
   "metadata": {},
   "outputs": [],
   "source": [
    "# Mengambil kuartil 1 dari keseluruhan data\n",
    "q1 = obesDf.quantile(0.25)\n",
    "# Mengambil kuartil 3 dari keseluruhan data\n",
    "q3 = obesDf.quantile(0.75)\n",
    "\n",
    "# Mengurangkan antara kuartil 1 dan 3\n",
    "iqr = q3 - q1\n",
    "\n",
    "# Menerapkan rumus IQR\n",
    "obesDf = obesDf[~((obesDf < (q1 - 1.5 * iqr)) | (obesDf > (q3 + 1.5 * iqr))).any(axis=1)]\n"
   ]
  },
  {
   "cell_type": "markdown",
   "metadata": {},
   "source": [
    "## Pengecekan Outliers Lanjut"
   ]
  },
  {
   "cell_type": "markdown",
   "metadata": {},
   "source": [
    "### 1. Kolom Weight"
   ]
  },
  {
   "cell_type": "code",
   "execution_count": 517,
   "metadata": {},
   "outputs": [
    {
     "data": {
      "text/plain": [
       "<Axes: xlabel='Weight'>"
      ]
     },
     "execution_count": 517,
     "metadata": {},
     "output_type": "execute_result"
    },
    {
     "data": {
      "image/png": "[encoded data removed]",
      "text/plain": [
       "<Figure size 640x480 with 1 Axes>"
      ]
     },
     "metadata": {},
     "output_type": "display_data"
    }
   ],
   "source": [
    "sns.boxplot(x=obesDf['Weight'])"
   ]
  },
  {
   "cell_type": "markdown",
   "metadata": {},
   "source": [
    "### 2. Kolom Height"
   ]
  },
  {
   "cell_type": "code",
   "execution_count": 518,
   "metadata": {},
   "outputs": [
    {
     "data": {
      "text/plain": [
       "<Axes: xlabel='Height'>"
      ]
     },
     "execution_count": 518,
     "metadata": {},
     "output_type": "execute_result"
    },
    {
     "data": {
      "image/png": "[encoded data removed]",
      "text/plain": [
       "<Figure size 640x480 with 1 Axes>"
      ]
     },
     "metadata": {},
     "output_type": "display_data"
    }
   ],
   "source": [
    "sns.boxplot(x=obesDf['Height'])"
   ]
  },
  {
   "cell_type": "markdown",
   "metadata": {},
   "source": [
    "### 3. Kolom BMI"
   ]
  },
  {
   "cell_type": "code",
   "execution_count": 519,
   "metadata": {},
   "outputs": [
    {
     "data": {
      "text/plain": [
       "<Axes: xlabel='BMI'>"
      ]
     },
     "execution_count": 519,
     "metadata": {},
     "output_type": "execute_result"
    },
    {
     "data": {
      "image/png": "[encoded data removed]",
      "text/plain": [
       "<Figure size 640x480 with 1 Axes>"
      ]
     },
     "metadata": {},
     "output_type": "display_data"
    }
   ],
   "source": [
    "sns.boxplot(x=obesDf['BMI'])"
   ]
  },
  {
   "cell_type": "markdown",
   "metadata": {},
   "source": [
    "Kesimpulan:\n",
    "\n",
    "Dari hasil penerapan penghapusan outliers di atas, dapat dilihat bahwa masih terdeteksi outlier pada kolom *Height*. Jadi diperlukan analisis lebih lanjut yaitu mencari data tersebut agar dapat mengambil langkah yang tepat"
   ]
  },
  {
   "cell_type": "markdown",
   "metadata": {},
   "source": [
    "### Mencari Data Outlier yang Tersisa"
   ]
  },
  {
   "cell_type": "markdown",
   "metadata": {},
   "source": [
    "Dikarenakan tersisa hanya 1 data outlier, maka saya melakukan pengecekan data maksimal. Sebab kondisi disini data outlier berada pada urutan terakhir, yang mana itu merupakan nilai maksimum."
   ]
  },
  {
   "cell_type": "code",
   "execution_count": 520,
   "metadata": {},
   "outputs": [
    {
     "data": {
      "text/plain": [
       "1.975663"
      ]
     },
     "execution_count": 520,
     "metadata": {},
     "output_type": "execute_result"
    }
   ],
   "source": [
    "obesDf.Height.max()"
   ]
  },
  {
   "cell_type": "markdown",
   "metadata": {},
   "source": [
    "### Menjalankan Rumus IQR Lagi"
   ]
  },
  {
   "cell_type": "code",
   "execution_count": 521,
   "metadata": {},
   "outputs": [],
   "source": [
    "# Mengambil kuartil 1 dari keseluruhan data\n",
    "q1 = obesDf.quantile(0.25)\n",
    "# Mengambil kuartil 3 dari keseluruhan data\n",
    "q3 = obesDf.quantile(0.75)\n",
    "\n",
    "# Mengurangkan antara kuartil 1 dan 3\n",
    "iqr = q3 - q1\n",
    "\n",
    "# Menerapkan rumus IQR\n",
    "obesDf = obesDf[~((obesDf < (q1 - 1.5 * iqr)) | (obesDf > (q3 + 1.5 * iqr))).any(axis=1)]"
   ]
  },
  {
   "cell_type": "code",
   "execution_count": 522,
   "metadata": {},
   "outputs": [
    {
     "data": {
      "text/plain": [
       "1.947406"
      ]
     },
     "execution_count": 522,
     "metadata": {},
     "output_type": "execute_result"
    }
   ],
   "source": [
    "obesDf.Height.max()"
   ]
  },
  {
   "cell_type": "markdown",
   "metadata": {},
   "source": [
    "### Pengecekan Outliers dengan Boxplot pada Kolom Height"
   ]
  },
  {
   "cell_type": "code",
   "execution_count": 523,
   "metadata": {},
   "outputs": [
    {
     "data": {
      "text/plain": [
       "<Axes: xlabel='Height'>"
      ]
     },
     "execution_count": 523,
     "metadata": {},
     "output_type": "execute_result"
    },
    {
     "data": {
      "image/png": "[encoded data removed]",
      "text/plain": [
       "<Figure size 640x480 with 1 Axes>"
      ]
     },
     "metadata": {},
     "output_type": "display_data"
    }
   ],
   "source": [
    "sns.boxplot(x=obesDf['Height'])"
   ]
  },
  {
   "cell_type": "code",
   "execution_count": 524,
   "metadata": {},
   "outputs": [
    {
     "data": {
      "text/plain": [
       "(2108, 3)"
      ]
     },
     "execution_count": 524,
     "metadata": {},
     "output_type": "execute_result"
    }
   ],
   "source": [
    "# Cek Shape\n",
    "obesDf.shape"
   ]
  },
  {
   "cell_type": "markdown",
   "metadata": {},
   "source": [
    "Setelah melakukan beberapa langkah di atas, data sudah tidak terdapat outliers lagi dan siap untuk dilakukan analisis lebih lanjut."
   ]
  }
 ],
 "metadata": {
  "kernelspec": {
   "display_name": "terapan",
   "language": "python",
   "name": "python3"
  },
  "language_info": {
   "codemirror_mode": {
    "name": "ipython",
    "version": 3
   },
   "file_extension": ".py",
   "mimetype": "text/x-python",
   "name": "python",
   "nbconvert_exporter": "python",
   "pygments_lexer": "ipython3",
   "version": "3.9.18"
  }
 },
 "nbformat": 4,
 "nbformat_minor": 2
}
